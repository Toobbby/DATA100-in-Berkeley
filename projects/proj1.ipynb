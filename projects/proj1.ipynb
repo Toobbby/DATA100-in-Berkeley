{
 "cells": [
  {
   "cell_type": "markdown",
   "metadata": {},
   "source": [
    "Before you turn this problem in, make sure everything runs as expected. First, **restart the kernel** (in the menubar, select Kernel$\\rightarrow$Restart) and then **run all cells** (in the menubar, select Cell$\\rightarrow$Run All).\n",
    "\n",
    "Make sure you fill in any place that says `YOUR CODE HERE` or \"YOUR ANSWER HERE\", as well as your name and collaborators below:"
   ]
  },
  {
   "cell_type": "code",
   "execution_count": 1,
   "metadata": {},
   "outputs": [],
   "source": [
    "NAME = \"Fangzheng Guo\"\n",
    "COLLABORATORS = \"\""
   ]
  },
  {
   "cell_type": "markdown",
   "metadata": {},
   "source": [
    "---"
   ]
  },
  {
   "cell_type": "markdown",
   "metadata": {
    "deletable": false,
    "editable": false,
    "nbgrader": {
     "cell_type": "markdown",
     "checksum": "851a1167a43648157d50a63c9bf36e69",
     "grade": false,
     "grade_id": "intro",
     "locked": true,
     "schema_version": 2,
     "solution": false
    }
   },
   "source": [
    "# Project 1: Trump, Twitter, and Text\n",
    "\n",
    "Welcome to the first project of Data 100! In this project, we will work with the Twitter API in order to analyze Donald Trump's tweets.\n",
    "\n",
    "**The project is due 11:59pm Tuesday, October 23, California Time.**\n",
    "\n",
    "You do not have to work on this project before the midterm, but you might find it helpful, since it goes over a lot of pandas materials that we haven't used in a while.\n",
    "\n",
    "**Fun:**\n",
    "\n",
    "We intend this project to be fun! You will analyze actual data from the Twitter API. You will also draw conclusions about the current (and often controversial) US President's tweet behavior. If you find yourself getting frustrated or stuck on one problem for too long, we suggest coming into office hours and working with friends in the class.\n",
    "\n",
    "With that in mind, let's get started!"
   ]
  },
  {
   "cell_type": "code",
   "execution_count": 2,
   "metadata": {
    "deletable": false,
    "editable": false,
    "nbgrader": {
     "cell_type": "code",
     "checksum": "39a1c52c1b5855b6bd9b10e6a7802072",
     "grade": false,
     "grade_id": "import",
     "locked": true,
     "schema_version": 2,
     "solution": false
    }
   },
   "outputs": [],
   "source": [
    "# Run this cell to set up your notebook\n",
    "import csv\n",
    "import numpy as np\n",
    "import pandas as pd\n",
    "import matplotlib.pyplot as plt\n",
    "import zipfile\n",
    "\n",
    "# Ensure that Pandas shows at least 280 characters in columns, so we can see full tweets\n",
    "pd.set_option('max_colwidth', 280)\n",
    "\n",
    "%matplotlib inline\n",
    "plt.style.use('fivethirtyeight')\n",
    "import seaborn as sns\n",
    "sns.set()\n",
    "sns.set_context(\"talk\")\n",
    "import re"
   ]
  },
  {
   "cell_type": "markdown",
   "metadata": {
    "deletable": false,
    "editable": false,
    "nbgrader": {
     "cell_type": "markdown",
     "checksum": "69812bdeba1101e72f0c2c49d4e05e7e",
     "grade": false,
     "grade_id": "tweepy-intro",
     "locked": true,
     "schema_version": 2,
     "solution": false
    }
   },
   "source": [
    "# Downloading Recent Tweets\n",
    "\n",
    "---\n",
    "\n",
    "Since we'll be looking at Twitter data, we need to download the data from Twitter!\n",
    "\n",
    "Twitter provides an API for downloading tweet data in large batches.  The `tweepy` package makes it fairly easy to use."
   ]
  },
  {
   "cell_type": "code",
   "execution_count": 3,
   "metadata": {
    "deletable": false,
    "editable": false,
    "nbgrader": {
     "cell_type": "code",
     "checksum": "727d86148491e8268741fb9ad1182f32",
     "grade": false,
     "grade_id": "tweepy",
     "locked": true,
     "schema_version": 2,
     "solution": false
    }
   },
   "outputs": [],
   "source": [
    "## Make sure you are in your data100 conda environment if you are working locally.\n",
    "# The following should run:\n",
    "import tweepy"
   ]
  },
  {
   "cell_type": "markdown",
   "metadata": {
    "deletable": false,
    "editable": false,
    "nbgrader": {
     "cell_type": "markdown",
     "checksum": "be71d5e18529a33a68df98dba32c6b98",
     "grade": false,
     "grade_id": "instructions",
     "locked": true,
     "schema_version": 2,
     "solution": false
    }
   },
   "source": [
    "There are instructions on using `tweepy` [here](http://tweepy.readthedocs.io/en/v3.5.0/getting_started.html), but we will give you example code.\n",
    "\n",
    "Twitter requires you to have authentication keys to access their API.  To get your keys, you'll have to sign up as a Twitter developer.  The next question will walk you through this process."
   ]
  },
  {
   "cell_type": "markdown",
   "metadata": {
    "deletable": false,
    "editable": false,
    "nbgrader": {
     "cell_type": "markdown",
     "checksum": "d7f77217a61748b66ee95e547435218f",
     "grade": false,
     "grade_id": "q1",
     "locked": true,
     "schema_version": 2,
     "solution": false
    }
   },
   "source": [
    "## Question 1\n",
    "\n",
    "Follow the instructions below to get your Twitter API keys.  **Read the instructions completely before starting.**\n",
    "\n",
    "1. [Create a Twitter account](https://twitter.com).  You can use an existing account if you have one; if you prefer to not do this assignment under your regular account, feel free to create a throw-away account.\n",
    "2. Under account settings, add your phone number to the account.\n",
    "3. [Create a Twitter developer account](https://dev.twitter.com/resources/signup) by clicking the 'Apply' button on the top right of the page. Attach it to your Twitter account. You'll have to fill out a form describing what you want to do with the developer account. Explain that you are doing this for a class at UC Berkeley and that you don't know exactly what you're building yet and just need the account to get started. These applications are approved by some sort of AI system, so it doesn't matter exactly what you write. Just don't enter a bunch of alweiofalwiuhflawiuehflawuihflaiwhfe type stuff or you might get rejected.\n",
    "4. Once you're logged into your developer account, [create an application for this assignment](https://apps.twitter.com/app/new).  You can call it whatever you want, and you can write any URL when it asks for a web site.  You don't need to provide a callback URL.\n",
    "5. On the page for that application, find your Consumer Key and Consumer Secret.\n",
    "6. On the same page, create an Access Token.  Record the resulting Access Token and Access Token Secret.\n",
    "7. Edit the file [keys.json](keys.json) and replace the placeholders with your keys.  "
   ]
  },
  {
   "cell_type": "markdown",
   "metadata": {
    "deletable": false,
    "editable": false,
    "nbgrader": {
     "cell_type": "markdown",
     "checksum": "660b295179b4972ddbe15e607eab658b",
     "grade": false,
     "grade_id": "warning",
     "locked": true,
     "schema_version": 2,
     "solution": false
    }
   },
   "source": [
    "\n",
    "## WARNING (Please Read) !!!!\n",
    "\n",
    "\n",
    "### Protect your Twitter Keys\n",
    "<span style=\"color:red\">\n",
    "If someone has your authentication keys, they can access your Twitter account and post as you!  So don't give them to anyone, and **don't write them down in this notebook**. \n",
    "</span>\n",
    "The usual way to store sensitive information like this is to put it in a separate file and read it programmatically.  That way, you can share the rest of your code without sharing your keys.  That's why we're asking you to put your keys in `keys.json` for this assignment.\n",
    "\n",
    "\n",
    "### Avoid making too many API calls.\n",
    "\n",
    "<span style=\"color:red\">\n",
    "Twitter limits developers to a certain rate of requests for data.  If you make too many requests in a short period of time, you'll have to wait awhile (around 15 minutes) before you can make more.  </span> \n",
    "So carefully follow the code examples you see and don't rerun cells without thinking.  Instead, always save the data you've collected to a file.  We've provided templates to help you do that.\n",
    "\n",
    "\n",
    "### Be careful about which functions you call!\n",
    "\n",
    "<span style=\"color:red\">\n",
    "This API can retweet tweets, follow and unfollow people, and modify your twitter settings.  Be careful which functions you invoke! </span> One of the sp18 instructors accidentally re-tweeted some tweets because that instructor typed `retweet` instead of `retweet_count`. \n",
    "</span>\n"
   ]
  },
  {
   "cell_type": "code",
   "execution_count": 4,
   "metadata": {
    "deletable": false,
    "editable": false,
    "nbgrader": {
     "cell_type": "code",
     "checksum": "c2eb5fb9a1af6832165a365b0aad21ab",
     "grade": false,
     "grade_id": "keys",
     "locked": true,
     "schema_version": 2,
     "solution": false
    }
   },
   "outputs": [],
   "source": [
    "import json\n",
    "key_file = 'keys.json'\n",
    "# Loading your keys from keys.json (which you should have filled\n",
    "# in in question 1):\n",
    "with open(key_file) as f:\n",
    "    keys = json.load(f)\n",
    "# if you print or view the contents of keys be sure to delete the cell!"
   ]
  },
  {
   "cell_type": "markdown",
   "metadata": {
    "deletable": false,
    "editable": false,
    "nbgrader": {
     "cell_type": "markdown",
     "checksum": "118d21c4ccbbf942c9f2707840908cca",
     "grade": false,
     "grade_id": "tweepy-auth-note",
     "locked": true,
     "schema_version": 2,
     "solution": false
    }
   },
   "source": [
    "This cell tests the Twitter authentication. It should run without errors or warnings and display your Twitter username."
   ]
  },
  {
   "cell_type": "code",
   "execution_count": 5,
   "metadata": {
    "deletable": false,
    "editable": false,
    "nbgrader": {
     "cell_type": "code",
     "checksum": "66806331fe1cb852ab300e98459cb2d4",
     "grade": false,
     "grade_id": "twitter-auth",
     "locked": true,
     "schema_version": 2,
     "solution": false
    }
   },
   "outputs": [
    {
     "name": "stdout",
     "output_type": "stream",
     "text": [
      "Your username is: FangzhengGGG\n"
     ]
    }
   ],
   "source": [
    "import tweepy\n",
    "from tweepy import TweepError\n",
    "import logging\n",
    "\n",
    "try:\n",
    "    auth = tweepy.OAuthHandler(keys[\"consumer_key\"], keys[\"consumer_secret\"])\n",
    "    auth.set_access_token(keys[\"access_token\"], keys[\"access_token_secret\"])\n",
    "    api = tweepy.API(auth)\n",
    "    print(\"Your username is:\", api.auth.get_username())\n",
    "except TweepError as e:\n",
    "    logging.warning(\"There was a Tweepy error. Double check your API keys and try again.\")\n",
    "    logging.warning(e)"
   ]
  },
  {
   "cell_type": "markdown",
   "metadata": {
    "deletable": false,
    "editable": false,
    "nbgrader": {
     "cell_type": "markdown",
     "checksum": "b738ef5c6ffad625b8d5a61b66719ad6",
     "grade": false,
     "grade_id": "q2",
     "locked": true,
     "schema_version": 2,
     "solution": false
    }
   },
   "source": [
    "## Question 2\n",
    "\n",
    "In the example below, we have loaded some tweets by @BerkeleyData.  Run it and read the code."
   ]
  },
  {
   "cell_type": "code",
   "execution_count": 6,
   "metadata": {
    "deletable": false,
    "editable": false,
    "nbgrader": {
     "cell_type": "code",
     "checksum": "3defce91d655ee59ae318cc20133476a",
     "grade": false,
     "grade_id": "load-berkeley-tweets",
     "locked": true,
     "schema_version": 2,
     "solution": false
    }
   },
   "outputs": [],
   "source": [
    "from pathlib import Path\n",
    "import json\n",
    "\n",
    "ds_tweets_save_path = \"BerkeleyData_recent_tweets.json\"\n",
    "# Guarding against attempts to download the data multiple\n",
    "# times:\n",
    "if not Path(ds_tweets_save_path).is_file():\n",
    "    # Getting as many recent tweets by @BerkeleyData as Twitter will let us have.\n",
    "    # We use tweet_mode='extended' so that Twitter gives us full 280 character tweets.\n",
    "    # This was a change introduced in September 2017.\n",
    "    \n",
    "    # The tweepy Cursor API actually returns \"sophisticated\" Status objects but we \n",
    "    # will use the basic Python dictionaries stored in the _json field. \n",
    "    example_tweets = [t._json for t in tweepy.Cursor(api.user_timeline, id=\"BerkeleyData\", \n",
    "                                             tweet_mode='extended').items()]\n",
    "    \n",
    "    # Saving the tweets to a json file on disk for future analysis\n",
    "    with open(ds_tweets_save_path, \"w\") as f:        \n",
    "        json.dump(example_tweets, f)\n",
    "\n",
    "# Re-loading the json file:\n",
    "with open(ds_tweets_save_path, \"r\") as f:\n",
    "    example_tweets = json.load(f)"
   ]
  },
  {
   "cell_type": "markdown",
   "metadata": {
    "deletable": false,
    "editable": false,
    "nbgrader": {
     "cell_type": "markdown",
     "checksum": "7dc93f6841b3ecdb826a8ff12ebb2030",
     "grade": false,
     "grade_id": "first-tweet-did-it-workk",
     "locked": true,
     "schema_version": 2,
     "solution": false
    }
   },
   "source": [
    "Assuming everything ran correctly you should be able to look at the first tweet by running the cell below.\n",
    "\n",
    "<span style=\"color:red\">\n",
    "**Warning** Do not attempt to view all the tweets in a notebook.  It will likely freeze your browser.  The following would be a **bad idea**:\n",
    "```python\n",
    "    pprint(example_tweets)\n",
    "```\n",
    "\n",
    "</span> "
   ]
  },
  {
   "cell_type": "code",
   "execution_count": 7,
   "metadata": {
    "deletable": false,
    "editable": false,
    "nbgrader": {
     "cell_type": "code",
     "checksum": "de383bb55c2e4e13c896209b5f7589c0",
     "grade": false,
     "grade_id": "first-tweet",
     "locked": true,
     "schema_version": 2,
     "solution": false
    }
   },
   "outputs": [
    {
     "name": "stdout",
     "output_type": "stream",
     "text": [
      "{'contributors': None,\n",
      " 'coordinates': None,\n",
      " 'created_at': 'Wed Oct 17 14:12:03 +0000 2018',\n",
      " 'display_text_range': [0, 140],\n",
      " 'entities': {'hashtags': [],\n",
      "              'symbols': [],\n",
      "              'urls': [],\n",
      "              'user_mentions': [{'id': 263020833,\n",
      "                                 'id_str': '263020833',\n",
      "                                 'indices': [3, 19],\n",
      "                                 'name': 'Berkeley School of Information',\n",
      "                                 'screen_name': 'BerkeleyISchool'},\n",
      "                                {'id': 24414370,\n",
      "                                 'id_str': '24414370',\n",
      "                                 'indices': [26, 34],\n",
      "                                 'name': 'Anno Saxenian',\n",
      "                                 'screen_name': 'annosax'}]},\n",
      " 'favorite_count': 0,\n",
      " 'favorited': False,\n",
      " 'full_text': 'RT @BerkeleyISchool: Dean @annosax is one 3 women who have '\n",
      "              'authored key works to understand the current Entrepreneurial '\n",
      "              'Age. https://t.co/k…',\n",
      " 'geo': None,\n",
      " 'id': 1052562888731320322,\n",
      " 'id_str': '1052562888731320322',\n",
      " 'in_reply_to_screen_name': None,\n",
      " 'in_reply_to_status_id': None,\n",
      " 'in_reply_to_status_id_str': None,\n",
      " 'in_reply_to_user_id': None,\n",
      " 'in_reply_to_user_id_str': None,\n",
      " 'is_quote_status': False,\n",
      " 'lang': 'en',\n",
      " 'place': None,\n",
      " 'retweet_count': 4,\n",
      " 'retweeted': False,\n",
      " 'retweeted_status': {'contributors': None,\n",
      "                      'coordinates': None,\n",
      "                      'created_at': 'Wed Oct 17 00:10:48 +0000 2018',\n",
      "                      'display_text_range': [0, 198],\n",
      "                      'entities': {'hashtags': [{'indices': [154, 168],\n",
      "                                                 'text': 'SiliconValley'},\n",
      "                                                {'indices': [169, 186],\n",
      "                                                 'text': 'Entrepreneurship'}],\n",
      "                                   'media': [{'display_url': 'pic.twitter.com/XDv65ShEbG',\n",
      "                                              'expanded_url': 'https://twitter.com/BerkeleyISchool/status/1052351185112506368/photo/1',\n",
      "                                              'id': 1052351182730129408,\n",
      "                                              'id_str': '1052351182730129408',\n",
      "                                              'indices': [199, 222],\n",
      "                                              'media_url': 'http://pbs.twimg.com/media/Dpqz0zmXcAAL2gF.png',\n",
      "                                              'media_url_https': 'https://pbs.twimg.com/media/Dpqz0zmXcAAL2gF.png',\n",
      "                                              'sizes': {'large': {'h': 456,\n",
      "                                                                  'resize': 'fit',\n",
      "                                                                  'w': 960},\n",
      "                                                        'medium': {'h': 456,\n",
      "                                                                   'resize': 'fit',\n",
      "                                                                   'w': 960},\n",
      "                                                        'small': {'h': 323,\n",
      "                                                                  'resize': 'fit',\n",
      "                                                                  'w': 680},\n",
      "                                                        'thumb': {'h': 150,\n",
      "                                                                  'resize': 'crop',\n",
      "                                                                  'w': 150}},\n",
      "                                              'type': 'photo',\n",
      "                                              'url': 'https://t.co/XDv65ShEbG'}],\n",
      "                                   'symbols': [],\n",
      "                                   'urls': [{'display_url': 'buff.ly/2pYmNje',\n",
      "                                             'expanded_url': 'https://buff.ly/2pYmNje',\n",
      "                                             'indices': [104, 127],\n",
      "                                             'url': 'https://t.co/ke8memYKaQ'}],\n",
      "                                   'user_mentions': [{'id': 24414370,\n",
      "                                                      'id_str': '24414370',\n",
      "                                                      'indices': [5, 13],\n",
      "                                                      'name': 'Anno Saxenian',\n",
      "                                                      'screen_name': 'annosax'},\n",
      "                                                     {'id': 54711914,\n",
      "                                                      'id_str': '54711914',\n",
      "                                                      'indices': [131, 145],\n",
      "                                                      'name': 'Nicolas Colin '\n",
      "                                                              '🇪🇺',\n",
      "                                                      'screen_name': 'Nicolas_Colin'},\n",
      "                                                     {'id': 91478624,\n",
      "                                                      'id_str': '91478624',\n",
      "                                                      'indices': [146, 153],\n",
      "                                                      'name': 'Forbes',\n",
      "                                                      'screen_name': 'Forbes'},\n",
      "                                                     {'id': 176932593,\n",
      "                                                      'id_str': '176932593',\n",
      "                                                      'indices': [187, 198],\n",
      "                                                      'name': 'UC Berkeley',\n",
      "                                                      'screen_name': 'UCBerkeley'}]},\n",
      "                      'extended_entities': {'media': [{'display_url': 'pic.twitter.com/XDv65ShEbG',\n",
      "                                                       'expanded_url': 'https://twitter.com/BerkeleyISchool/status/1052351185112506368/photo/1',\n",
      "                                                       'id': 1052351182730129408,\n",
      "                                                       'id_str': '1052351182730129408',\n",
      "                                                       'indices': [199, 222],\n",
      "                                                       'media_url': 'http://pbs.twimg.com/media/Dpqz0zmXcAAL2gF.png',\n",
      "                                                       'media_url_https': 'https://pbs.twimg.com/media/Dpqz0zmXcAAL2gF.png',\n",
      "                                                       'sizes': {'large': {'h': 456,\n",
      "                                                                           'resize': 'fit',\n",
      "                                                                           'w': 960},\n",
      "                                                                 'medium': {'h': 456,\n",
      "                                                                            'resize': 'fit',\n",
      "                                                                            'w': 960},\n",
      "                                                                 'small': {'h': 323,\n",
      "                                                                           'resize': 'fit',\n",
      "                                                                           'w': 680},\n",
      "                                                                 'thumb': {'h': 150,\n",
      "                                                                           'resize': 'crop',\n",
      "                                                                           'w': 150}},\n",
      "                                                       'type': 'photo',\n",
      "                                                       'url': 'https://t.co/XDv65ShEbG'}]},\n",
      "                      'favorite_count': 9,\n",
      "                      'favorited': False,\n",
      "                      'full_text': 'Dean @annosax is one 3 women who have '\n",
      "                                   'authored key works to understand the '\n",
      "                                   'current Entrepreneurial Age. '\n",
      "                                   'https://t.co/ke8memYKaQ By @Nicolas_Colin '\n",
      "                                   '@Forbes #SiliconValley #Entrepreneurship '\n",
      "                                   '@UCBerkeley https://t.co/XDv65ShEbG',\n",
      "                      'geo': None,\n",
      "                      'id': 1052351185112506368,\n",
      "                      'id_str': '1052351185112506368',\n",
      "                      'in_reply_to_screen_name': None,\n",
      "                      'in_reply_to_status_id': None,\n",
      "                      'in_reply_to_status_id_str': None,\n",
      "                      'in_reply_to_user_id': None,\n",
      "                      'in_reply_to_user_id_str': None,\n",
      "                      'is_quote_status': False,\n",
      "                      'lang': 'en',\n",
      "                      'place': None,\n",
      "                      'possibly_sensitive': False,\n",
      "                      'retweet_count': 4,\n",
      "                      'retweeted': False,\n",
      "                      'source': '<a href=\"https://buffer.com\" '\n",
      "                                'rel=\"nofollow\">Buffer</a>',\n",
      "                      'truncated': False,\n",
      "                      'user': {'contributors_enabled': False,\n",
      "                               'created_at': 'Wed Mar 09 06:13:42 +0000 2011',\n",
      "                               'default_profile': False,\n",
      "                               'default_profile_image': False,\n",
      "                               'description': 'The UC Berkeley School of '\n",
      "                                              'Information is a '\n",
      "                                              'multi-disciplinary program '\n",
      "                                              'devoted to enhancing the '\n",
      "                                              'accessibility, usability, '\n",
      "                                              'credibility & security of '\n",
      "                                              'information.',\n",
      "                               'entities': {'description': {'urls': []},\n",
      "                                            'url': {'urls': [{'display_url': 'ischool.berkeley.edu',\n",
      "                                                              'expanded_url': 'http://ischool.berkeley.edu',\n",
      "                                                              'indices': [0,\n",
      "                                                                          23],\n",
      "                                                              'url': 'https://t.co/5eXJ0wN1Jd'}]}},\n",
      "                               'favourites_count': 3224,\n",
      "                               'follow_request_sent': False,\n",
      "                               'followers_count': 4982,\n",
      "                               'following': False,\n",
      "                               'friends_count': 650,\n",
      "                               'geo_enabled': True,\n",
      "                               'has_extended_profile': False,\n",
      "                               'id': 263020833,\n",
      "                               'id_str': '263020833',\n",
      "                               'is_translation_enabled': False,\n",
      "                               'is_translator': False,\n",
      "                               'lang': 'en',\n",
      "                               'listed_count': 218,\n",
      "                               'location': 'Berkeley, California, USA',\n",
      "                               'name': 'Berkeley School of Information',\n",
      "                               'notifications': False,\n",
      "                               'profile_background_color': '38628F',\n",
      "                               'profile_background_image_url': 'http://abs.twimg.com/images/themes/theme1/bg.png',\n",
      "                               'profile_background_image_url_https': 'https://abs.twimg.com/images/themes/theme1/bg.png',\n",
      "                               'profile_background_tile': False,\n",
      "                               'profile_banner_url': 'https://pbs.twimg.com/profile_banners/263020833/1520571883',\n",
      "                               'profile_image_url': 'http://pbs.twimg.com/profile_images/971975267764789254/eAmDOL2o_normal.jpg',\n",
      "                               'profile_image_url_https': 'https://pbs.twimg.com/profile_images/971975267764789254/eAmDOL2o_normal.jpg',\n",
      "                               'profile_link_color': '3B7EA1',\n",
      "                               'profile_sidebar_border_color': 'C0DEED',\n",
      "                               'profile_sidebar_fill_color': 'DDEEF6',\n",
      "                               'profile_text_color': '333333',\n",
      "                               'profile_use_background_image': True,\n",
      "                               'protected': False,\n",
      "                               'screen_name': 'BerkeleyISchool',\n",
      "                               'statuses_count': 3950,\n",
      "                               'time_zone': None,\n",
      "                               'translator_type': 'none',\n",
      "                               'url': 'https://t.co/5eXJ0wN1Jd',\n",
      "                               'utc_offset': None,\n",
      "                               'verified': False}},\n",
      " 'source': '<a href=\"http://twitter.com\" rel=\"nofollow\">Twitter Web Client</a>',\n",
      " 'truncated': False,\n",
      " 'user': {'contributors_enabled': False,\n",
      "          'created_at': 'Thu Feb 28 14:37:26 +0000 2013',\n",
      "          'default_profile': False,\n",
      "          'default_profile_image': False,\n",
      "          'description': 'An online Master of Information and Data Science '\n",
      "                         '(MIDS) degree from the UC Berkeley School of '\n",
      "                         'Information. Learn more at: http://t.co/zf6gfBWovQ',\n",
      "          'entities': {'description': {'urls': [{'display_url': 'bit.ly/tBerkeleyData',\n",
      "                                                 'expanded_url': 'http://bit.ly/tBerkeleyData',\n",
      "                                                 'indices': [122, 144],\n",
      "                                                 'url': 'http://t.co/zf6gfBWovQ'}]},\n",
      "                       'url': {'urls': [{'display_url': 'datascience.berkeley.edu',\n",
      "                                         'expanded_url': 'http://datascience.berkeley.edu',\n",
      "                                         'indices': [0, 22],\n",
      "                                         'url': 'http://t.co/S79Ul3oCaa'}]}},\n",
      "          'favourites_count': 172,\n",
      "          'follow_request_sent': False,\n",
      "          'followers_count': 11762,\n",
      "          'following': False,\n",
      "          'friends_count': 412,\n",
      "          'geo_enabled': False,\n",
      "          'has_extended_profile': False,\n",
      "          'id': 1227698863,\n",
      "          'id_str': '1227698863',\n",
      "          'is_translation_enabled': False,\n",
      "          'is_translator': False,\n",
      "          'lang': 'en',\n",
      "          'listed_count': 487,\n",
      "          'location': 'Berkeley, CA',\n",
      "          'name': 'datascience@berkeley',\n",
      "          'notifications': False,\n",
      "          'profile_background_color': 'CCCCCC',\n",
      "          'profile_background_image_url': 'http://abs.twimg.com/images/themes/theme1/bg.png',\n",
      "          'profile_background_image_url_https': 'https://abs.twimg.com/images/themes/theme1/bg.png',\n",
      "          'profile_background_tile': False,\n",
      "          'profile_banner_url': 'https://pbs.twimg.com/profile_banners/1227698863/1502212054',\n",
      "          'profile_image_url': 'http://pbs.twimg.com/profile_images/894968224973897728/lI8iiF3J_normal.jpg',\n",
      "          'profile_image_url_https': 'https://pbs.twimg.com/profile_images/894968224973897728/lI8iiF3J_normal.jpg',\n",
      "          'profile_link_color': '5173B6',\n",
      "          'profile_sidebar_border_color': 'FFFFFF',\n",
      "          'profile_sidebar_fill_color': 'DDEEF6',\n",
      "          'profile_text_color': '333333',\n",
      "          'profile_use_background_image': True,\n",
      "          'protected': False,\n",
      "          'screen_name': 'BerkeleyData',\n",
      "          'statuses_count': 2407,\n",
      "          'time_zone': None,\n",
      "          'translator_type': 'none',\n",
      "          'url': 'http://t.co/S79Ul3oCaa',\n",
      "          'utc_offset': None,\n",
      "          'verified': False}}\n"
     ]
    }
   ],
   "source": [
    "# Looking at one tweet object, which has type Status: \n",
    "from pprint import pprint # ...to get a more easily-readable view.\n",
    "pprint(example_tweets[0])"
   ]
  },
  {
   "cell_type": "markdown",
   "metadata": {
    "collapsed": true,
    "deletable": false,
    "editable": false,
    "nbgrader": {
     "cell_type": "markdown",
     "checksum": "43ce65ddda5bb1543856611dd2c536f9",
     "grade": false,
     "grade_id": "q2a",
     "locked": true,
     "schema_version": 2,
     "solution": false
    }
   },
   "source": [
    "## Question 2a\n",
    "\n",
    "### What you need to do. \n",
    "\n",
    "Re-factor the above code fragment into reusable snippets below.  You should not need to make major modifications; this is mostly an exercise in understanding the above code block. "
   ]
  },
  {
   "cell_type": "code",
   "execution_count": 8,
   "metadata": {
    "deletable": false,
    "nbgrader": {
     "cell_type": "code",
     "checksum": "bd6de9d61c340450539455afd0f8fdf3",
     "grade": false,
     "grade_id": "load-keys",
     "locked": false,
     "schema_version": 2,
     "solution": true
    },
    "tags": [
     "student"
    ]
   },
   "outputs": [],
   "source": [
    "def load_keys(path):\n",
    "    \"\"\"Loads your Twitter authentication keys from a file on disk.\n",
    "    \n",
    "    Args:\n",
    "        path (str): The path to your key file.  The file should\n",
    "          be in JSON format and look like this (but filled in):\n",
    "            {\n",
    "                \"consumer_key\": \"<your Consumer Key here>\",\n",
    "                \"consumer_secret\":  \"<your Consumer Secret here>\",\n",
    "                \"access_token\": \"<your Access Token here>\",\n",
    "                \"access_token_secret\": \"<your Access Token Secret here>\"\n",
    "            }\n",
    "    \n",
    "    Returns:\n",
    "        dict: A dictionary mapping key names (like \"consumer_key\") to\n",
    "          key values.\"\"\"\n",
    "    with open(path) as f:\n",
    "        keys = json.load(f)\n",
    "        return keys\n",
    "    \n",
    "    # YOUR CODE HERE\n",
    "    #raise NotImplementedError()"
   ]
  },
  {
   "cell_type": "code",
   "execution_count": 9,
   "metadata": {
    "deletable": false,
    "nbgrader": {
     "cell_type": "code",
     "checksum": "76ff200bf064ab3f5c457bc4725d8cd8",
     "grade": false,
     "grade_id": "download-recent-tweets",
     "locked": false,
     "schema_version": 2,
     "solution": true
    },
    "tags": [
     "student"
    ]
   },
   "outputs": [],
   "source": [
    "def download_recent_tweets_by_user(user_account_name, keys):\n",
    "    \"\"\"Downloads tweets by one Twitter user.\n",
    "\n",
    "    Args:\n",
    "        user_account_name (str): The name of the Twitter account\n",
    "          whose tweets will be downloaded.\n",
    "        keys (dict): A Python dictionary with Twitter authentication\n",
    "          keys (strings), like this (but filled in):\n",
    "            {\n",
    "                \"consumer_key\": \"<your Consumer Key here>\",\n",
    "                \"consumer_secret\":  \"<your Consumer Secret here>\",\n",
    "                \"access_token\": \"<your Access Token here>\",\n",
    "                \"access_token_secret\": \"<your Access Token Secret here>\"\n",
    "            }\n",
    "\n",
    "    Returns:\n",
    "        list: A list of Dictonary objects, each representing one tweet.\"\"\"\n",
    "    import tweepy\n",
    "    auth = tweepy.OAuthHandler(keys[\"consumer_key\"], keys[\"consumer_secret\"])\n",
    "    auth.set_access_token(keys[\"access_token\"], keys[\"access_token_secret\"])\n",
    "    api = tweepy.API(auth)\n",
    "    tweets = [t._json for t in tweepy.Cursor(api.user_timeline, id=user_account_name, tweet_mode='extended').items()]\n",
    "    return tweets\n",
    "    \n",
    "    # YOUR CODE HERE\n",
    "    #raise NotImplementedError()"
   ]
  },
  {
   "cell_type": "code",
   "execution_count": 10,
   "metadata": {
    "deletable": false,
    "nbgrader": {
     "cell_type": "code",
     "checksum": "75d788899e9212031d95685b7ebb4505",
     "grade": false,
     "grade_id": "save-tweets",
     "locked": false,
     "schema_version": 2,
     "solution": true
    },
    "tags": [
     "student"
    ]
   },
   "outputs": [],
   "source": [
    "def save_tweets(tweets, path):\n",
    "    \"\"\"Saves a list of tweets to a file in the local filesystem.\n",
    "    \n",
    "    This function makes no guarantee about the format of the saved\n",
    "    tweets, **except** that calling load_tweets(path) after\n",
    "    save_tweets(tweets, path) will produce the same list of tweets\n",
    "    and that only the file at the given path is used to store the\n",
    "    tweets.  (That means you can implement this function however\n",
    "    you want, as long as saving and loading works!)\n",
    "\n",
    "    Args:\n",
    "        tweets (list): A list of tweet objects (of type Dictionary) to\n",
    "          be saved.\n",
    "        path (str): The place where the tweets will be saved.\n",
    "\n",
    "    Returns:\n",
    "        None\"\"\"\n",
    "    # YOUR CODE HERE\n",
    "    with open(path, \"w+\") as f:\n",
    "        json.dump(tweets, f)\n",
    "    #raise NotImplementedError()"
   ]
  },
  {
   "cell_type": "code",
   "execution_count": 11,
   "metadata": {
    "deletable": false,
    "nbgrader": {
     "cell_type": "code",
     "checksum": "31f5a74addf3b0211c65b0220160568c",
     "grade": false,
     "grade_id": "load-tweets",
     "locked": false,
     "schema_version": 2,
     "solution": true
    },
    "tags": [
     "student"
    ]
   },
   "outputs": [],
   "source": [
    "def load_tweets(path):\n",
    "    \"\"\"Loads tweets that have previously been saved.\n",
    "    \n",
    "    Calling load_tweets(path) after save_tweets(tweets, path)\n",
    "    will produce the same list of tweets.\n",
    "    \n",
    "    Args:\n",
    "        path (str): The place where the tweets were be saved.\n",
    "\n",
    "    Returns:\n",
    "        list: A list of Dictionary objects, each representing one tweet.\"\"\"\n",
    "    \n",
    "    # YOUR CODE HERE\n",
    "    with open(path, \"r\") as f:\n",
    "        tweets = json.load(f)\n",
    "        return tweets\n",
    "   # raise NotImplementedError()"
   ]
  },
  {
   "cell_type": "code",
   "execution_count": 12,
   "metadata": {
    "deletable": false,
    "nbgrader": {
     "cell_type": "code",
     "checksum": "2c2633d5128de6e4aadf225aa291118d",
     "grade": false,
     "grade_id": "get-tweets-with-cache",
     "locked": false,
     "schema_version": 2,
     "solution": true
    },
    "tags": [
     "student"
    ]
   },
   "outputs": [],
   "source": [
    "def get_tweets_with_cache(user_account_name, keys_path):\n",
    "    \"\"\"Get recent tweets from one user, loading from a disk cache if available.\n",
    "    \n",
    "    The first time you call this function, it will download tweets by\n",
    "    a user.  Subsequent calls will not re-download the tweets; instead\n",
    "    they'll load the tweets from a save file in your local filesystem.\n",
    "    All this is done using the functions you defined in the previous cell.\n",
    "    This has benefits and drawbacks that often appear when you cache data:\n",
    "    \n",
    "    +: Using this function will prevent extraneous usage of the Twitter API.\n",
    "    +: You will get your data much faster after the first time it's called.\n",
    "    -: If you really want to re-download the tweets (say, to get newer ones,\n",
    "       or because you screwed up something in the previous cell and your\n",
    "       tweets aren't what you wanted), you'll have to find the save file\n",
    "       (which will look like <something>_recent_tweets.pkl) and delete it.\n",
    "    \n",
    "    Args:\n",
    "        user_account_name (str): The Twitter handle of a user, without the @.\n",
    "        keys_path (str): The path to a JSON keys file in your filesystem.\n",
    "    \"\"\"\n",
    "    \n",
    "    # YOUR CODE HERE\n",
    "    user_path = user_account_name + \".json\"\n",
    "    tweets = None\n",
    "    print(user_path)\n",
    "    try:\n",
    "        tweets = load_tweets(user_path)\n",
    "    except OSError as e:\n",
    "        tweets = download_recent_tweets_by_user(user_account_name,load_keys(keys_path))\n",
    "        save_tweets(tweets, user_path)\n",
    "        tweets = load_tweets(user_path)\n",
    "    return tweets\n",
    "    #raise NotImplementedError()"
   ]
  },
  {
   "cell_type": "markdown",
   "metadata": {
    "deletable": false,
    "editable": false,
    "nbgrader": {
     "cell_type": "markdown",
     "checksum": "a2ddaff40134b8cf8f582c1df5db3883",
     "grade": false,
     "grade_id": "about-to-get-real",
     "locked": true,
     "schema_version": 2,
     "solution": false
    }
   },
   "source": [
    "If everything was implemented correctly you should be able to obtain roughly the last 3000 tweets by the `realdonaldtrump`.  (This may take a few minutes)"
   ]
  },
  {
   "cell_type": "code",
   "execution_count": 13,
   "metadata": {
    "deletable": false,
    "editable": false,
    "nbgrader": {
     "cell_type": "code",
     "checksum": "8ac3bb2120526571535abbe412929bfd",
     "grade": false,
     "grade_id": "trump-tweets",
     "locked": true,
     "schema_version": 2,
     "solution": false
    }
   },
   "outputs": [
    {
     "name": "stdout",
     "output_type": "stream",
     "text": [
      "realdonaldtrump.json\n",
      "Number of tweets downloaded: 3228\n"
     ]
    }
   ],
   "source": [
    "# When you are done, run this cell to load @realdonaldtrump's tweets.\n",
    "# Note the function get_tweets_with_cache.  You may find it useful\n",
    "# later.\n",
    "trump_tweets = get_tweets_with_cache(\"realdonaldtrump\", key_file)\n",
    "print(\"Number of tweets downloaded:\", len(trump_tweets))"
   ]
  },
  {
   "cell_type": "code",
   "execution_count": 14,
   "metadata": {
    "deletable": false,
    "editable": false,
    "nbgrader": {
     "cell_type": "code",
     "checksum": "afaf66b3188a4752b0271beed957ef6c",
     "grade": true,
     "grade_id": "trump-tweets-test",
     "locked": true,
     "points": 1,
     "schema_version": 2,
     "solution": false
    }
   },
   "outputs": [],
   "source": [
    "assert 2000 <= len(trump_tweets) <= 4000"
   ]
  },
  {
   "cell_type": "markdown",
   "metadata": {
    "deletable": false,
    "editable": false,
    "nbgrader": {
     "cell_type": "markdown",
     "checksum": "e991a5d45fd0eeebe8b1c6371a4019f9",
     "grade": false,
     "grade_id": "q2b",
     "locked": true,
     "schema_version": 2,
     "solution": false
    }
   },
   "source": [
    "### Question 2b\n",
    "\n",
    "We are limited to how many tweets we can download.  In what month is the oldest tweet from Trump?"
   ]
  },
  {
   "cell_type": "code",
   "execution_count": 15,
   "metadata": {
    "deletable": false,
    "nbgrader": {
     "cell_type": "code",
     "checksum": "1b46b55114772326e527b1dd67a17a8e",
     "grade": false,
     "grade_id": "oldest-month-question",
     "locked": false,
     "schema_version": 2,
     "solution": true
    }
   },
   "outputs": [],
   "source": [
    "# Enter the number of the month of the oldest tweet (e.g. 1 for January)\n",
    "oldest_month = 10"
   ]
  },
  {
   "cell_type": "code",
   "execution_count": null,
   "metadata": {
    "deletable": false,
    "editable": false,
    "nbgrader": {
     "cell_type": "code",
     "checksum": "a1bc7ba95e8b2c50def1081519525604",
     "grade": true,
     "grade_id": "oldest-month-answer",
     "locked": true,
     "points": 1,
     "schema_version": 2,
     "solution": false
    }
   },
   "outputs": [],
   "source": []
  },
  {
   "cell_type": "markdown",
   "metadata": {
    "deletable": false,
    "editable": false,
    "nbgrader": {
     "cell_type": "markdown",
     "checksum": "06c75046cf9899a309ab35c11c403965",
     "grade": false,
     "grade_id": "q3",
     "locked": true,
     "schema_version": 2,
     "solution": false
    }
   },
   "source": [
    "\n",
    "## Question 3\n",
    "\n",
    "\n",
    "**IMPORTANT! PLEASE READ**\n",
    "\n",
    "Unfortunately, Twitter prevent us from going further back in time using the public APIs.  Fortunately, we have a snapshot of earlier tweets that we can combine with our new data.  \n",
    "\n",
    "We will again use the `fetch_and_cache` utility to download the dataset. "
   ]
  },
  {
   "cell_type": "code",
   "execution_count": 16,
   "metadata": {
    "deletable": false,
    "editable": false,
    "nbgrader": {
     "cell_type": "code",
     "checksum": "4ac0f2bbd264f78c5709e04bfaee390d",
     "grade": false,
     "grade_id": "download-data",
     "locked": true,
     "schema_version": 2,
     "solution": false
    }
   },
   "outputs": [
    {
     "name": "stdout",
     "output_type": "stream",
     "text": [
      "Using version already downloaded: Sun Oct 21 23:21:42 2018\n",
      "MD5 hash of file: b6e33874de91d1a40207cdf9f9b51a09\n",
      "Located at data/old_trump_tweets.json.zip\n"
     ]
    }
   ],
   "source": [
    "# Download the dataset\n",
    "from utils import fetch_and_cache\n",
    "data_url = 'http://www.ds100.org/fa18/assets/datasets/old_trump_tweets.json.zip'\n",
    "file_name = 'old_trump_tweets.json.zip'\n",
    "\n",
    "dest_path = fetch_and_cache(data_url=data_url, file=file_name)\n",
    "print(f'Located at {dest_path}')"
   ]
  },
  {
   "cell_type": "markdown",
   "metadata": {
    "deletable": false,
    "editable": false,
    "nbgrader": {
     "cell_type": "markdown",
     "checksum": "da803030a1c84a39afbb134dfb8b19fd",
     "grade": false,
     "grade_id": "loading-data-inst",
     "locked": true,
     "schema_version": 2,
     "solution": false
    }
   },
   "source": [
    "Finally, we we will load the tweets directly from the compressed file without decompressing it first."
   ]
  },
  {
   "cell_type": "code",
   "execution_count": 17,
   "metadata": {
    "deletable": false,
    "editable": false,
    "nbgrader": {
     "cell_type": "code",
     "checksum": "2f84519e987875b6b57d9cc5bae460cf",
     "grade": false,
     "grade_id": "loading-old-tweets",
     "locked": true,
     "schema_version": 2,
     "solution": false
    }
   },
   "outputs": [],
   "source": [
    "my_zip = zipfile.ZipFile(dest_path, 'r')\n",
    "with my_zip.open(\"old_trump_tweets.json\", \"r\") as f:\n",
    "    old_trump_tweets = json.load(f)"
   ]
  },
  {
   "cell_type": "markdown",
   "metadata": {
    "deletable": false,
    "editable": false,
    "nbgrader": {
     "cell_type": "markdown",
     "checksum": "8661fc27e5f1cdfce041efd3896ae838",
     "grade": false,
     "grade_id": "formatting-note",
     "locked": true,
     "schema_version": 2,
     "solution": false
    }
   },
   "source": [
    "This data is formatted identically to the recent tweets we just downloaded:"
   ]
  },
  {
   "cell_type": "code",
   "execution_count": 18,
   "metadata": {
    "deletable": false,
    "editable": false,
    "nbgrader": {
     "cell_type": "code",
     "checksum": "30d8ef8fa2c1b900a48779e6cf0320b6",
     "grade": false,
     "grade_id": "pprint-old-tweets",
     "locked": true,
     "schema_version": 2,
     "solution": false
    }
   },
   "outputs": [
    {
     "name": "stdout",
     "output_type": "stream",
     "text": [
      "{'contributors': None,\n",
      " 'coordinates': None,\n",
      " 'created_at': 'Wed Oct 12 14:00:48 +0000 2016',\n",
      " 'entities': {'hashtags': [{'indices': [23, 38], 'text': 'CrookedHillary'}],\n",
      "              'media': [{'display_url': 'pic.twitter.com/wjsl8ITVvk',\n",
      "                         'expanded_url': 'https://twitter.com/realDonaldTrump/status/786204978629185536/video/1',\n",
      "                         'id': 786204885318561792,\n",
      "                         'id_str': '786204885318561792',\n",
      "                         'indices': [39, 62],\n",
      "                         'media_url': 'http://pbs.twimg.com/ext_tw_video_thumb/786204885318561792/pu/img/XqMoixLm83FzkAbn.jpg',\n",
      "                         'media_url_https': 'https://pbs.twimg.com/ext_tw_video_thumb/786204885318561792/pu/img/XqMoixLm83FzkAbn.jpg',\n",
      "                         'sizes': {'large': {'h': 576,\n",
      "                                             'resize': 'fit',\n",
      "                                             'w': 1024},\n",
      "                                   'medium': {'h': 338,\n",
      "                                              'resize': 'fit',\n",
      "                                              'w': 600},\n",
      "                                   'small': {'h': 191,\n",
      "                                             'resize': 'fit',\n",
      "                                             'w': 340},\n",
      "                                   'thumb': {'h': 150,\n",
      "                                             'resize': 'crop',\n",
      "                                             'w': 150}},\n",
      "                         'type': 'photo',\n",
      "                         'url': 'https://t.co/wjsl8ITVvk'}],\n",
      "              'symbols': [],\n",
      "              'urls': [],\n",
      "              'user_mentions': []},\n",
      " 'extended_entities': {'media': [{'additional_media_info': {'monetizable': False},\n",
      "                                  'display_url': 'pic.twitter.com/wjsl8ITVvk',\n",
      "                                  'expanded_url': 'https://twitter.com/realDonaldTrump/status/786204978629185536/video/1',\n",
      "                                  'id': 786204885318561792,\n",
      "                                  'id_str': '786204885318561792',\n",
      "                                  'indices': [39, 62],\n",
      "                                  'media_url': 'http://pbs.twimg.com/ext_tw_video_thumb/786204885318561792/pu/img/XqMoixLm83FzkAbn.jpg',\n",
      "                                  'media_url_https': 'https://pbs.twimg.com/ext_tw_video_thumb/786204885318561792/pu/img/XqMoixLm83FzkAbn.jpg',\n",
      "                                  'sizes': {'large': {'h': 576,\n",
      "                                                      'resize': 'fit',\n",
      "                                                      'w': 1024},\n",
      "                                            'medium': {'h': 338,\n",
      "                                                       'resize': 'fit',\n",
      "                                                       'w': 600},\n",
      "                                            'small': {'h': 191,\n",
      "                                                      'resize': 'fit',\n",
      "                                                      'w': 340},\n",
      "                                            'thumb': {'h': 150,\n",
      "                                                      'resize': 'crop',\n",
      "                                                      'w': 150}},\n",
      "                                  'type': 'video',\n",
      "                                  'url': 'https://t.co/wjsl8ITVvk',\n",
      "                                  'video_info': {'aspect_ratio': [16, 9],\n",
      "                                                 'duration_millis': 30106,\n",
      "                                                 'variants': [{'bitrate': 832000,\n",
      "                                                               'content_type': 'video/mp4',\n",
      "                                                               'url': 'https://video.twimg.com/ext_tw_video/786204885318561792/pu/vid/640x360/6vt24D3ZQSvYuDqe.mp4'},\n",
      "                                                              {'bitrate': 2176000,\n",
      "                                                               'content_type': 'video/mp4',\n",
      "                                                               'url': 'https://video.twimg.com/ext_tw_video/786204885318561792/pu/vid/1280x720/rSbgQdvR9TPIlRWr.mp4'},\n",
      "                                                              {'bitrate': 320000,\n",
      "                                                               'content_type': 'video/mp4',\n",
      "                                                               'url': 'https://video.twimg.com/ext_tw_video/786204885318561792/pu/vid/320x180/JuNJDqr1KHqoP83N.mp4'},\n",
      "                                                              {'content_type': 'application/x-mpegURL',\n",
      "                                                               'url': 'https://video.twimg.com/ext_tw_video/786204885318561792/pu/pl/IugUNii3a7lmjApS.m3u8'}]}}]},\n",
      " 'favorite_count': 42242,\n",
      " 'favorited': False,\n",
      " 'geo': None,\n",
      " 'id': 786204978629185536,\n",
      " 'id_str': '786204978629185536',\n",
      " 'in_reply_to_screen_name': None,\n",
      " 'in_reply_to_status_id': None,\n",
      " 'in_reply_to_status_id_str': None,\n",
      " 'in_reply_to_user_id': None,\n",
      " 'in_reply_to_user_id_str': None,\n",
      " 'is_quote_status': False,\n",
      " 'lang': 'en',\n",
      " 'place': {'attributes': {},\n",
      "           'bounding_box': {'coordinates': [[[-87.634643, 24.396308],\n",
      "                                             [-79.974307, 24.396308],\n",
      "                                             [-79.974307, 31.001056],\n",
      "                                             [-87.634643, 31.001056]]],\n",
      "                            'type': 'Polygon'},\n",
      "           'contained_within': [],\n",
      "           'country': 'United States',\n",
      "           'country_code': 'US',\n",
      "           'full_name': 'Florida, USA',\n",
      "           'id': '4ec01c9dbc693497',\n",
      "           'name': 'Florida',\n",
      "           'place_type': 'admin',\n",
      "           'url': 'https://api.twitter.com/1.1/geo/id/4ec01c9dbc693497.json'},\n",
      " 'possibly_sensitive': False,\n",
      " 'retweet_count': 24915,\n",
      " 'retweeted': False,\n",
      " 'source': '<a href=\"http://twitter.com/download/iphone\" '\n",
      "           'rel=\"nofollow\">Twitter for iPhone</a>',\n",
      " 'text': 'PAY TO PLAY POLITICS. \\n#CrookedHillary https://t.co/wjsl8ITVvk',\n",
      " 'truncated': False,\n",
      " 'user': {'contributors_enabled': False,\n",
      "          'created_at': 'Wed Mar 18 13:46:38 +0000 2009',\n",
      "          'default_profile': False,\n",
      "          'default_profile_image': False,\n",
      "          'description': '45th President of the United States of America🇺🇸',\n",
      "          'entities': {'description': {'urls': []}},\n",
      "          'favourites_count': 12,\n",
      "          'follow_request_sent': False,\n",
      "          'followers_count': 35307313,\n",
      "          'following': False,\n",
      "          'friends_count': 45,\n",
      "          'geo_enabled': True,\n",
      "          'has_extended_profile': False,\n",
      "          'id': 25073877,\n",
      "          'id_str': '25073877',\n",
      "          'is_translation_enabled': True,\n",
      "          'is_translator': False,\n",
      "          'lang': 'en',\n",
      "          'listed_count': 74225,\n",
      "          'location': 'Washington, DC',\n",
      "          'name': 'Donald J. Trump',\n",
      "          'notifications': False,\n",
      "          'profile_background_color': '6D5C18',\n",
      "          'profile_background_image_url': 'http://pbs.twimg.com/profile_background_images/530021613/trump_scotland__43_of_70_cc.jpg',\n",
      "          'profile_background_image_url_https': 'https://pbs.twimg.com/profile_background_images/530021613/trump_scotland__43_of_70_cc.jpg',\n",
      "          'profile_background_tile': True,\n",
      "          'profile_banner_url': 'https://pbs.twimg.com/profile_banners/25073877/1501916634',\n",
      "          'profile_image_url': 'http://pbs.twimg.com/profile_images/874276197357596672/kUuht00m_normal.jpg',\n",
      "          'profile_image_url_https': 'https://pbs.twimg.com/profile_images/874276197357596672/kUuht00m_normal.jpg',\n",
      "          'profile_link_color': '1B95E0',\n",
      "          'profile_sidebar_border_color': 'BDDCAD',\n",
      "          'profile_sidebar_fill_color': 'C5CEC0',\n",
      "          'profile_text_color': '333333',\n",
      "          'profile_use_background_image': True,\n",
      "          'protected': False,\n",
      "          'screen_name': 'realDonaldTrump',\n",
      "          'statuses_count': 35480,\n",
      "          'time_zone': 'Eastern Time (US & Canada)',\n",
      "          'translator_type': 'regular',\n",
      "          'url': None,\n",
      "          'utc_offset': -14400,\n",
      "          'verified': True}}\n"
     ]
    }
   ],
   "source": [
    "pprint(old_trump_tweets[0])"
   ]
  },
  {
   "cell_type": "markdown",
   "metadata": {
    "deletable": false,
    "editable": false,
    "nbgrader": {
     "cell_type": "markdown",
     "checksum": "15f652a6c9d0626c82b34be4253b2333",
     "grade": false,
     "grade_id": "listing-keys-inst",
     "locked": true,
     "schema_version": 2,
     "solution": false
    }
   },
   "source": [
    "As a dictionary we can also list the keys:"
   ]
  },
  {
   "cell_type": "code",
   "execution_count": 19,
   "metadata": {
    "deletable": false,
    "editable": false,
    "nbgrader": {
     "cell_type": "code",
     "checksum": "c88eaf1ba38e6c52151ad6a2922216c0",
     "grade": false,
     "grade_id": "listing-keys",
     "locked": true,
     "schema_version": 2,
     "solution": false
    }
   },
   "outputs": [
    {
     "data": {
      "text/plain": [
       "dict_keys(['created_at', 'id', 'id_str', 'text', 'truncated', 'entities', 'extended_entities', 'source', 'in_reply_to_status_id', 'in_reply_to_status_id_str', 'in_reply_to_user_id', 'in_reply_to_user_id_str', 'in_reply_to_screen_name', 'user', 'geo', 'coordinates', 'place', 'contributors', 'is_quote_status', 'retweet_count', 'favorite_count', 'favorited', 'retweeted', 'possibly_sensitive', 'lang'])"
      ]
     },
     "execution_count": 19,
     "metadata": {},
     "output_type": "execute_result"
    }
   ],
   "source": [
    "old_trump_tweets[0].keys()"
   ]
  },
  {
   "cell_type": "markdown",
   "metadata": {},
   "source": [
    "Since we're giving you a zipfile of old tweets, you may wonder why we didn't just give you a zipfile of ALL tweets and save you the trouble of creating a Twitter developer account. The reason is that we wanted you to see what it's like to collect data from the real world on your own. It can be a pain!"
   ]
  },
  {
   "cell_type": "markdown",
   "metadata": {
    "deletable": false,
    "editable": false,
    "nbgrader": {
     "cell_type": "markdown",
     "checksum": "b40bfbf5e74ba5af630326ab7a77c98c",
     "grade": false,
     "grade_id": "q3a",
     "locked": true,
     "schema_version": 2,
     "solution": false
    }
   },
   "source": [
    "### Question 3a\n",
    "\n",
    "Merge the `old_trump_tweets` and the `trump_tweets` we downloaded from twitter into one giant list of tweets. \n",
    "\n",
    "**Important:** There may be some overlap so be sure to eliminate duplicate tweets.  \n",
    "**Hint:** the `id` of a tweet is always unique."
   ]
  },
  {
   "cell_type": "code",
   "execution_count": 20,
   "metadata": {
    "deletable": false,
    "nbgrader": {
     "cell_type": "code",
     "checksum": "cfff2cf8e110d51cb3dbb7f5086b9be4",
     "grade": false,
     "grade_id": "q3a-answer",
     "locked": false,
     "schema_version": 2,
     "solution": true
    }
   },
   "outputs": [
    {
     "data": {
      "text/plain": [
       "9151"
      ]
     },
     "execution_count": 20,
     "metadata": {},
     "output_type": "execute_result"
    }
   ],
   "source": [
    "all_tweets = []\n",
    "keys=[]\n",
    "for i in old_trump_tweets:\n",
    "    all_tweets.append(i)\n",
    "    keys.append(i['id'])\n",
    "for k in trump_tweets:\n",
    "    if k['id'] not in keys:\n",
    "        all_tweets.append(k)\n",
    "len(all_tweets)\n",
    "# YOUR CODE HERE\n",
    "#raise NotImplementedError()"
   ]
  },
  {
   "cell_type": "code",
   "execution_count": 21,
   "metadata": {
    "deletable": false,
    "editable": false,
    "nbgrader": {
     "cell_type": "code",
     "checksum": "7a21da10aa86da615b340c8edb2973c3",
     "grade": true,
     "grade_id": "q3a-test",
     "locked": true,
     "points": 2,
     "schema_version": 2,
     "solution": false
    }
   },
   "outputs": [],
   "source": [
    "assert len(all_tweets) > len(trump_tweets)\n",
    "assert len(all_tweets) > len(old_trump_tweets)"
   ]
  },
  {
   "cell_type": "markdown",
   "metadata": {
    "deletable": false,
    "editable": false,
    "nbgrader": {
     "cell_type": "markdown",
     "checksum": "532cecf04260fcadca43ce63bf296d5d",
     "grade": false,
     "grade_id": "q3b",
     "locked": true,
     "schema_version": 2,
     "solution": false
    }
   },
   "source": [
    "### Question 3b\n",
    "\n",
    "Construct a DataFrame called `trump` containing all the tweets stored in `all_tweets`. The index of the dataframe should be the ID of each tweet (looks something like `907698529606541312`). It should have these columns:\n",
    "\n",
    "- `time`: The time the tweet was created encoded as a datetime object. (Use `pd.to_datetime` to encode the timestamp.)\n",
    "- `source`: The source device of the tweet.\n",
    "- `text`: The text of the tweet.\n",
    "- `retweet_count`: The retweet count of the tweet. \n",
    "\n",
    "Finally, **the resulting dataframe should be sorted by the index.**\n",
    "\n",
    "**Warning:** *Some tweets will store the text in the `text` field and other will use the `full_text` field.*"
   ]
  },
  {
   "cell_type": "code",
   "execution_count": 22,
   "metadata": {
    "deletable": false,
    "nbgrader": {
     "cell_type": "code",
     "checksum": "dbbe93f4346b0c4ce93681c2c7d06078",
     "grade": false,
     "grade_id": "q3b-answer",
     "locked": false,
     "schema_version": 2,
     "solution": true
    },
    "tags": [
     "student"
    ]
   },
   "outputs": [
    {
     "data": {
      "text/html": [
       "<div>\n",
       "<style scoped>\n",
       "    .dataframe tbody tr th:only-of-type {\n",
       "        vertical-align: middle;\n",
       "    }\n",
       "\n",
       "    .dataframe tbody tr th {\n",
       "        vertical-align: top;\n",
       "    }\n",
       "\n",
       "    .dataframe thead th {\n",
       "        text-align: right;\n",
       "    }\n",
       "</style>\n",
       "<table border=\"1\" class=\"dataframe\">\n",
       "  <thead>\n",
       "    <tr style=\"text-align: right;\">\n",
       "      <th></th>\n",
       "      <th>time</th>\n",
       "      <th>source</th>\n",
       "      <th>text</th>\n",
       "      <th>retweet_count</th>\n",
       "    </tr>\n",
       "    <tr>\n",
       "      <th>id</th>\n",
       "      <th></th>\n",
       "      <th></th>\n",
       "      <th></th>\n",
       "      <th></th>\n",
       "    </tr>\n",
       "  </thead>\n",
       "  <tbody>\n",
       "    <tr>\n",
       "      <th>690171032150237184</th>\n",
       "      <td>2016-01-21 13:56:11</td>\n",
       "      <td>&lt;a href=\"http://twitter.com/download/android\" rel=\"nofollow\"&gt;Twitter for Android&lt;/a&gt;</td>\n",
       "      <td>\"@bigop1: @realDonaldTrump  @SarahPalinUSA https://t.co/3kYQGqeVyD\"</td>\n",
       "      <td>1059</td>\n",
       "    </tr>\n",
       "    <tr>\n",
       "      <th>690171403388104704</th>\n",
       "      <td>2016-01-21 13:57:39</td>\n",
       "      <td>&lt;a href=\"http://twitter.com/download/android\" rel=\"nofollow\"&gt;Twitter for Android&lt;/a&gt;</td>\n",
       "      <td>\"@AmericanAsPie:  @glennbeck @SarahPalinUSA Remember when Glenn gave out gifts to ILLEGAL ALIENS at crossing the border? Me too!\"</td>\n",
       "      <td>1339</td>\n",
       "    </tr>\n",
       "    <tr>\n",
       "      <th>690173226341691392</th>\n",
       "      <td>2016-01-21 14:04:54</td>\n",
       "      <td>&lt;a href=\"http://twitter.com/download/android\" rel=\"nofollow\"&gt;Twitter for Android&lt;/a&gt;</td>\n",
       "      <td>So sad that @CNN and many others refused to show the massive crowd at the arena yesterday in Oklahoma. Dishonest reporting!</td>\n",
       "      <td>2006</td>\n",
       "    </tr>\n",
       "    <tr>\n",
       "      <th>690176882055114758</th>\n",
       "      <td>2016-01-21 14:19:26</td>\n",
       "      <td>&lt;a href=\"http://twitter.com/download/android\" rel=\"nofollow\"&gt;Twitter for Android&lt;/a&gt;</td>\n",
       "      <td>Sad sack @JebBush has just done another ad on me, with special interest money, saying I won't beat Hillary - I WILL. But he can't beat me.</td>\n",
       "      <td>2266</td>\n",
       "    </tr>\n",
       "    <tr>\n",
       "      <th>690180284189310976</th>\n",
       "      <td>2016-01-21 14:32:57</td>\n",
       "      <td>&lt;a href=\"http://twitter.com/download/android\" rel=\"nofollow\"&gt;Twitter for Android&lt;/a&gt;</td>\n",
       "      <td>Low energy candidate @JebBush has wasted $80 million on his failed presidential campaign. Millions spent on me. He should go home and relax!</td>\n",
       "      <td>2886</td>\n",
       "    </tr>\n",
       "    <tr>\n",
       "      <th>690271688127213568</th>\n",
       "      <td>2016-01-21 20:36:09</td>\n",
       "      <td>&lt;a href=\"http://twitter.com/download/iphone\" rel=\"nofollow\"&gt;Twitter for iPhone&lt;/a&gt;</td>\n",
       "      <td>New Day on CNN treats me very badly. @AlisynCamerota is a disaster. Not going to watch anymore.</td>\n",
       "      <td>1429</td>\n",
       "    </tr>\n",
       "    <tr>\n",
       "      <th>690272687168458754</th>\n",
       "      <td>2016-01-21 20:40:07</td>\n",
       "      <td>&lt;a href=\"http://twitter.com/download/android\" rel=\"nofollow\"&gt;Twitter for Android&lt;/a&gt;</td>\n",
       "      <td>Happy birthday to my friend, the great @jacknicklaus - a totally special guy!</td>\n",
       "      <td>1053</td>\n",
       "    </tr>\n",
       "    <tr>\n",
       "      <th>690313350278819840</th>\n",
       "      <td>2016-01-21 23:21:42</td>\n",
       "      <td>&lt;a href=\"http://twitter.com/download/iphone\" rel=\"nofollow\"&gt;Twitter for iPhone&lt;/a&gt;</td>\n",
       "      <td>Thank you, Iowa! #Trump2016 https://t.co/ryhEheTLqN</td>\n",
       "      <td>2329</td>\n",
       "    </tr>\n",
       "    <tr>\n",
       "      <th>690315202261155840</th>\n",
       "      <td>2016-01-21 23:29:04</td>\n",
       "      <td>&lt;a href=\"http://twitter.com/download/iphone\" rel=\"nofollow\"&gt;Twitter for iPhone&lt;/a&gt;</td>\n",
       "      <td>Thank you! #Trump2016 https://t.co/pcdmyIO1Zt</td>\n",
       "      <td>1463</td>\n",
       "    </tr>\n",
       "    <tr>\n",
       "      <th>690315366564626433</th>\n",
       "      <td>2016-01-21 23:29:43</td>\n",
       "      <td>&lt;a href=\"http://twitter.com/download/iphone\" rel=\"nofollow\"&gt;Twitter for iPhone&lt;/a&gt;</td>\n",
       "      <td>Thank you, New Hampshire!\\n#Trump2016 https://t.co/TG9oZKly4l</td>\n",
       "      <td>1761</td>\n",
       "    </tr>\n",
       "    <tr>\n",
       "      <th>690315667636023296</th>\n",
       "      <td>2016-01-21 23:30:55</td>\n",
       "      <td>&lt;a href=\"http://twitter.com/download/iphone\" rel=\"nofollow\"&gt;Twitter for iPhone&lt;/a&gt;</td>\n",
       "      <td>#Trump2016 #MakeAmericaGreatAgain https://t.co/vfUwGIGjN4</td>\n",
       "      <td>2217</td>\n",
       "    </tr>\n",
       "    <tr>\n",
       "      <th>690336644281581568</th>\n",
       "      <td>2016-01-22 00:54:16</td>\n",
       "      <td>&lt;a href=\"http://twitter.com/download/iphone\" rel=\"nofollow\"&gt;Twitter for iPhone&lt;/a&gt;</td>\n",
       "      <td>Why does @Greta have a fired Bushy like dummy, John Sununu on- spewing false info? I will beat Hillary by a lot, she wants no part of Trump.</td>\n",
       "      <td>1576</td>\n",
       "    </tr>\n",
       "    <tr>\n",
       "      <th>690337376061788161</th>\n",
       "      <td>2016-01-22 00:57:10</td>\n",
       "      <td>&lt;a href=\"http://twitter.com/download/iphone\" rel=\"nofollow\"&gt;Twitter for iPhone&lt;/a&gt;</td>\n",
       "      <td>Thank you, Iowa! #FITN #IACaucus\\n#MakeAmericaGreatAgain #Trump2016 https://t.co/wVJldvTSag</td>\n",
       "      <td>2422</td>\n",
       "    </tr>\n",
       "    <tr>\n",
       "      <th>690382564494839809</th>\n",
       "      <td>2016-01-22 03:56:44</td>\n",
       "      <td>&lt;a href=\"http://twitter.com/download/iphone\" rel=\"nofollow\"&gt;Twitter for iPhone&lt;/a&gt;</td>\n",
       "      <td>National Review is a failing publication that has lost it's way. It's circulation is way down w its influence being at an all time low. Sad!</td>\n",
       "      <td>2187</td>\n",
       "    </tr>\n",
       "    <tr>\n",
       "      <th>690382619213742082</th>\n",
       "      <td>2016-01-22 03:56:57</td>\n",
       "      <td>&lt;a href=\"http://twitter.com/download/iphone\" rel=\"nofollow\"&gt;Twitter for iPhone&lt;/a&gt;</td>\n",
       "      <td>Very few people read the National Review because it only knows how to criticize, but not how to lead.</td>\n",
       "      <td>1817</td>\n",
       "    </tr>\n",
       "    <tr>\n",
       "      <th>690382722162913280</th>\n",
       "      <td>2016-01-22 03:57:22</td>\n",
       "      <td>&lt;a href=\"http://twitter.com/download/iphone\" rel=\"nofollow\"&gt;Twitter for iPhone&lt;/a&gt;</td>\n",
       "      <td>The late, great, William F. Buckley would be ashamed of what had happened to his prize, the dying National Review!</td>\n",
       "      <td>2236</td>\n",
       "    </tr>\n",
       "    <tr>\n",
       "      <th>690404308010057728</th>\n",
       "      <td>2016-01-22 05:23:08</td>\n",
       "      <td>&lt;a href=\"http://twitter.com/download/iphone\" rel=\"nofollow\"&gt;Twitter for iPhone&lt;/a&gt;</td>\n",
       "      <td>RT @williebosshog: Make America Great Again! #Trump2016 https://t.co/1h5j4DZDgy</td>\n",
       "      <td>9144</td>\n",
       "    </tr>\n",
       "    <tr>\n",
       "      <th>690528062190944256</th>\n",
       "      <td>2016-01-22 13:34:54</td>\n",
       "      <td>&lt;a href=\"http://twitter.com/download/android\" rel=\"nofollow\"&gt;Twitter for Android&lt;/a&gt;</td>\n",
       "      <td>Ted Cruz complains about my views on eminent domain, but without it we wouldn't have roads, highways, airports, schools or even pipelines.</td>\n",
       "      <td>1595</td>\n",
       "    </tr>\n",
       "    <tr>\n",
       "      <th>690528407117889538</th>\n",
       "      <td>2016-01-22 13:36:16</td>\n",
       "      <td>&lt;a href=\"http://twitter.com/download/android\" rel=\"nofollow\"&gt;Twitter for Android&lt;/a&gt;</td>\n",
       "      <td>\"@realOllieTaylor:  Isn't it time we had a president? Let goofy Glen keep Canada Cruz who can't win. The American people have Trump!\"</td>\n",
       "      <td>909</td>\n",
       "    </tr>\n",
       "    <tr>\n",
       "      <th>690528526181601281</th>\n",
       "      <td>2016-01-22 13:36:44</td>\n",
       "      <td>&lt;a href=\"http://twitter.com/download/android\" rel=\"nofollow\"&gt;Twitter for Android&lt;/a&gt;</td>\n",
       "      <td>\"@BornToBeGOP: @realDonaldTrump No sleep for the #TrumpTrain!\"</td>\n",
       "      <td>676</td>\n",
       "    </tr>\n",
       "    <tr>\n",
       "      <th>690529122326413314</th>\n",
       "      <td>2016-01-22 13:39:06</td>\n",
       "      <td>&lt;a href=\"http://twitter.com/download/android\" rel=\"nofollow\"&gt;Twitter for Android&lt;/a&gt;</td>\n",
       "      <td>\"@NeilTurner_: @realDonaldTrump https://t.co/uvn95NB6M0 With your help we can #MakeAmericaGreatAgain! #VoteTrump\"</td>\n",
       "      <td>773</td>\n",
       "    </tr>\n",
       "    <tr>\n",
       "      <th>690529690205818880</th>\n",
       "      <td>2016-01-22 13:41:22</td>\n",
       "      <td>&lt;a href=\"http://twitter.com/download/android\" rel=\"nofollow\"&gt;Twitter for Android&lt;/a&gt;</td>\n",
       "      <td>#TedCruz eligibility to be President not settled law, says Cruz' Constitutional Law Professor, #LaurenceTribe https://t.co/GWKoJsBINZ\"</td>\n",
       "      <td>753</td>\n",
       "    </tr>\n",
       "    <tr>\n",
       "      <th>690530164711624705</th>\n",
       "      <td>2016-01-22 13:43:15</td>\n",
       "      <td>&lt;a href=\"http://twitter.com/download/android\" rel=\"nofollow\"&gt;Twitter for Android&lt;/a&gt;</td>\n",
       "      <td>\"@TruBluMajority: #laurencetribe calls Cruz \"constitutional hypocrite\" on @WBUR https://t.co/qRFINtcJlX @pbsgwen @charlierose @jaketapper</td>\n",
       "      <td>637</td>\n",
       "    </tr>\n",
       "    <tr>\n",
       "      <th>690532959363866625</th>\n",
       "      <td>2016-01-22 13:54:21</td>\n",
       "      <td>&lt;a href=\"http://twitter.com/download/android\" rel=\"nofollow\"&gt;Twitter for Android&lt;/a&gt;</td>\n",
       "      <td>Highly respected Constitutional law professor Mary Brigid McManamon has just stated, \"Ted Cruz is not eligible to be President.\" Big problem</td>\n",
       "      <td>1937</td>\n",
       "    </tr>\n",
       "    <tr>\n",
       "      <th>690534215478173697</th>\n",
       "      <td>2016-01-22 13:59:21</td>\n",
       "      <td>&lt;a href=\"http://twitter.com/download/android\" rel=\"nofollow\"&gt;Twitter for Android&lt;/a&gt;</td>\n",
       "      <td>\"@D: #MaryBrigidMcManamon, Washington Post: Constitutionally speaking, #Cruz simply isn’t eligible to be president https://t.co/DBtTgsC1il\"</td>\n",
       "      <td>875</td>\n",
       "    </tr>\n",
       "    <tr>\n",
       "      <th>690534576066719744</th>\n",
       "      <td>2016-01-22 14:00:47</td>\n",
       "      <td>&lt;a href=\"http://twitter.com/download/android\" rel=\"nofollow\"&gt;Twitter for Android&lt;/a&gt;</td>\n",
       "      <td>\"@CyberCiety: #MaryBrigidMcManamon clarified how #CommonLaw is used to interpret meaning of #NaturalBorn #TedCruz https://t.co/5y6SZrTdGr\"</td>\n",
       "      <td>799</td>\n",
       "    </tr>\n",
       "    <tr>\n",
       "      <th>690537121916923904</th>\n",
       "      <td>2016-01-22 14:10:54</td>\n",
       "      <td>&lt;a href=\"http://twitter.com/download/android\" rel=\"nofollow\"&gt;Twitter for Android&lt;/a&gt;</td>\n",
       "      <td>\"@MiamiNewTimes: Poll: Trump has more support in Florida than Rubio and Bush combined. https://t.co/uvH2BKQRHf https://t.co/2tvIaa2aFr\"</td>\n",
       "      <td>1738</td>\n",
       "    </tr>\n",
       "    <tr>\n",
       "      <th>690540484154896384</th>\n",
       "      <td>2016-01-22 14:24:15</td>\n",
       "      <td>&lt;a href=\"http://twitter.com/download/android\" rel=\"nofollow\"&gt;Twitter for Android&lt;/a&gt;</td>\n",
       "      <td>The failing @NRO National Review Magazine has just been informed by the Republican National Committee that they cannot participate in debate</td>\n",
       "      <td>2116</td>\n",
       "    </tr>\n",
       "    <tr>\n",
       "      <th>690560125916975104</th>\n",
       "      <td>2016-01-22 15:42:18</td>\n",
       "      <td>&lt;a href=\"http://twitter.com/download/android\" rel=\"nofollow\"&gt;Twitter for Android&lt;/a&gt;</td>\n",
       "      <td>After spending $89 million, @JebBush is at the bottom of the barrel in polls. He is ashamed to use the name \"Bush\" in ads. Low energy guy!</td>\n",
       "      <td>1661</td>\n",
       "    </tr>\n",
       "    <tr>\n",
       "      <th>690560942430523392</th>\n",
       "      <td>2016-01-22 15:45:33</td>\n",
       "      <td>&lt;a href=\"http://twitter.com/download/android\" rel=\"nofollow\"&gt;Twitter for Android&lt;/a&gt;</td>\n",
       "      <td>\"@Lisa_Milicaj: Truth be told, I  never heard of The National Review until they \"tried\" to declare war on you. No worries, you got my vote!\"</td>\n",
       "      <td>1110</td>\n",
       "    </tr>\n",
       "    <tr>\n",
       "      <th>...</th>\n",
       "      <td>...</td>\n",
       "      <td>...</td>\n",
       "      <td>...</td>\n",
       "      <td>...</td>\n",
       "    </tr>\n",
       "    <tr>\n",
       "      <th>1053070661302669312</th>\n",
       "      <td>2018-10-18 23:49:45</td>\n",
       "      <td>&lt;a href=\"http://twitter.com/download/iphone\" rel=\"nofollow\"&gt;Twitter for iPhone&lt;/a&gt;</td>\n",
       "      <td>Prime Minister @AbeShinzo of Japan has been working with me to help balance out the one-sided Trade with Japan. These are some of the investments they are making in our Country - just the beginning! https://t.co/ib2yB3Akkt</td>\n",
       "      <td>13851</td>\n",
       "    </tr>\n",
       "    <tr>\n",
       "      <th>1053074465150578688</th>\n",
       "      <td>2018-10-19 00:04:52</td>\n",
       "      <td>&lt;a href=\"http://twitter.com/download/iphone\" rel=\"nofollow\"&gt;Twitter for iPhone&lt;/a&gt;</td>\n",
       "      <td>Will be landing soon. Looking forward to seeing our next Senator from Montana, Matt Rosendale. He will represent our Country well, far better than Jon Tester who will vote with Cryin’ Chuck Schumer and Nancy Pelosi - never with us!</td>\n",
       "      <td>13516</td>\n",
       "    </tr>\n",
       "    <tr>\n",
       "      <th>1053076069564071936</th>\n",
       "      <td>2018-10-19 00:11:14</td>\n",
       "      <td>&lt;a href=\"http://twitter.com/download/iphone\" rel=\"nofollow\"&gt;Twitter for iPhone&lt;/a&gt;</td>\n",
       "      <td>The only thing keeping Tester alive is he has millions and millions of dollars from outside liberals and leftists, who couldn’t care less about our Country!</td>\n",
       "      <td>17471</td>\n",
       "    </tr>\n",
       "    <tr>\n",
       "      <th>1053102147888328704</th>\n",
       "      <td>2018-10-19 01:54:52</td>\n",
       "      <td>&lt;a href=\"http://twitter.com/download/iphone\" rel=\"nofollow\"&gt;Twitter for iPhone&lt;/a&gt;</td>\n",
       "      <td>Thank you Missoula, Montana. Get out and VOTE for @MattForMontana and @GregForMontana!! #MAGA🇺🇸\\nhttps://t.co/6XgaceUu1e https://t.co/nEndInSOhw</td>\n",
       "      <td>11481</td>\n",
       "    </tr>\n",
       "    <tr>\n",
       "      <th>1053121500151074817</th>\n",
       "      <td>2018-10-19 03:11:46</td>\n",
       "      <td>&lt;a href=\"http://twitter.com/download/iphone\" rel=\"nofollow\"&gt;Twitter for iPhone&lt;/a&gt;</td>\n",
       "      <td>Jon Tester says one thing to voters and does the EXACT OPPOSITE in Washington. Tester takes his orders form Pelosi &amp;amp; Schumer. Tester wants to raise your taxes, take away your 2A, open your borders, and deliver MOB RULE. Retire Tester &amp;amp; Elect America-First Patriot Matt...</td>\n",
       "      <td>22111</td>\n",
       "    </tr>\n",
       "    <tr>\n",
       "      <th>1053124336637247493</th>\n",
       "      <td>2018-10-19 03:23:02</td>\n",
       "      <td>&lt;a href=\"http://twitter.com/download/iphone\" rel=\"nofollow\"&gt;Twitter for iPhone&lt;/a&gt;</td>\n",
       "      <td>#JobsNotMobs!</td>\n",
       "      <td>29196</td>\n",
       "    </tr>\n",
       "    <tr>\n",
       "      <th>1053285341610668034</th>\n",
       "      <td>2018-10-19 14:02:49</td>\n",
       "      <td>&lt;a href=\"http://twitter.com/download/iphone\" rel=\"nofollow\"&gt;Twitter for iPhone&lt;/a&gt;</td>\n",
       "      <td>Congressman Andy Biggs is doing a great job for Arizona and our Country! https://t.co/V561vXRpzx</td>\n",
       "      <td>11042</td>\n",
       "    </tr>\n",
       "    <tr>\n",
       "      <th>1053285828892463109</th>\n",
       "      <td>2018-10-19 14:04:45</td>\n",
       "      <td>&lt;a href=\"http://twitter.com/download/iphone\" rel=\"nofollow\"&gt;Twitter for iPhone&lt;/a&gt;</td>\n",
       "      <td>When referring to the USA, I will always capitalize the word Country!</td>\n",
       "      <td>19668</td>\n",
       "    </tr>\n",
       "    <tr>\n",
       "      <th>1053336553391452161</th>\n",
       "      <td>2018-10-19 17:26:19</td>\n",
       "      <td>&lt;a href=\"http://twitter.com/download/iphone\" rel=\"nofollow\"&gt;Twitter for iPhone&lt;/a&gt;</td>\n",
       "      <td>Secretary of State Mike Pompeo was never given or shown a Transcript or Video of the Saudi Consulate event. FAKE NEWS!</td>\n",
       "      <td>32353</td>\n",
       "    </tr>\n",
       "    <tr>\n",
       "      <th>1053338516501889025</th>\n",
       "      <td>2018-10-19 17:34:07</td>\n",
       "      <td>&lt;a href=\"http://twitter.com/download/iphone\" rel=\"nofollow\"&gt;Twitter for iPhone&lt;/a&gt;</td>\n",
       "      <td>Beto O’Rourke is a total lightweight compared to Ted Cruz, and he comes nowhere near representing the values and desires of the people of the Great State of Texas. He will never be allowed to turn Texas into Venezuela!</td>\n",
       "      <td>25819</td>\n",
       "    </tr>\n",
       "    <tr>\n",
       "      <th>1053355470449127424</th>\n",
       "      <td>2018-10-19 18:41:29</td>\n",
       "      <td>&lt;a href=\"http://twitter.com/download/iphone\" rel=\"nofollow\"&gt;Twitter for iPhone&lt;/a&gt;</td>\n",
       "      <td>#JobsNotMobs! https://t.co/U1suRW5j6G</td>\n",
       "      <td>20574</td>\n",
       "    </tr>\n",
       "    <tr>\n",
       "      <th>1053432380860456960</th>\n",
       "      <td>2018-10-19 23:47:06</td>\n",
       "      <td>&lt;a href=\"http://twitter.com/download/iphone\" rel=\"nofollow\"&gt;Twitter for iPhone&lt;/a&gt;</td>\n",
       "      <td>This is what it is all about for the Republican Party! #JobsNotMobs https://t.co/8OabccPec5</td>\n",
       "      <td>22107</td>\n",
       "    </tr>\n",
       "    <tr>\n",
       "      <th>1053448472156749824</th>\n",
       "      <td>2018-10-20 00:51:02</td>\n",
       "      <td>&lt;a href=\"http://twitter.com/download/iphone\" rel=\"nofollow\"&gt;Twitter for iPhone&lt;/a&gt;</td>\n",
       "      <td>WOW - Mesa, Arizona! Look forward to joining everyone soon. Something’s happening!! #MAGA🇺🇸 https://t.co/z6LNGYoICO</td>\n",
       "      <td>15894</td>\n",
       "    </tr>\n",
       "    <tr>\n",
       "      <th>1053456620334678016</th>\n",
       "      <td>2018-10-20 01:23:25</td>\n",
       "      <td>&lt;a href=\"http://twitter.com/download/iphone\" rel=\"nofollow\"&gt;Twitter for iPhone&lt;/a&gt;</td>\n",
       "      <td>On my way - see you all shortly! https://t.co/0pWiwCq4MH https://t.co/ahDmLiwPZi</td>\n",
       "      <td>11268</td>\n",
       "    </tr>\n",
       "    <tr>\n",
       "      <th>1053484232138358785</th>\n",
       "      <td>2018-10-20 03:13:08</td>\n",
       "      <td>&lt;a href=\"http://twitter.com/download/iphone\" rel=\"nofollow\"&gt;Twitter for iPhone&lt;/a&gt;</td>\n",
       "      <td>This was outside of the massive totally full hangar tonight in Mesa, Arizona! https://t.co/0pWiwCq4MH #MAGA🇺🇸 https://t.co/7mx98y515I</td>\n",
       "      <td>23389</td>\n",
       "    </tr>\n",
       "    <tr>\n",
       "      <th>1053485357734408192</th>\n",
       "      <td>2018-10-20 03:17:36</td>\n",
       "      <td>&lt;a href=\"http://twitter.com/download/iphone\" rel=\"nofollow\"&gt;Twitter for iPhone&lt;/a&gt;</td>\n",
       "      <td>Beautiful evening in Mesa, Arizona with GREAT PATRIOTS - thank you! https://t.co/0pWiwCq4MH #MAGARally🇺🇸replay: https://t.co/6vHEaB37VH https://t.co/pHmU6pMKh7</td>\n",
       "      <td>11217</td>\n",
       "    </tr>\n",
       "    <tr>\n",
       "      <th>1053655992649506821</th>\n",
       "      <td>2018-10-20 14:35:39</td>\n",
       "      <td>&lt;a href=\"http://twitter.com/download/iphone\" rel=\"nofollow\"&gt;Twitter for iPhone&lt;/a&gt;</td>\n",
       "      <td>If the Democrats would stop being obstructionists and come together, we could write up and agree to new immigration laws in less than one hour. Look at the needless  pain and suffering that they are causing. Look at the horrors taking place on the Border. Chuck &amp;amp; Nancy, c...</td>\n",
       "      <td>29333</td>\n",
       "    </tr>\n",
       "    <tr>\n",
       "      <th>1053657849606234112</th>\n",
       "      <td>2018-10-20 14:43:02</td>\n",
       "      <td>&lt;a href=\"http://twitter.com/download/iphone\" rel=\"nofollow\"&gt;Twitter for iPhone&lt;/a&gt;</td>\n",
       "      <td>Georgia Secretary of State Brian Kemp will be a great governor. He has been successful at whatever he has done, and has prepared for this very difficult and complex job for many years. He has my Strong Endorsement. His opponent is totally unqualified. Would destroy a great st...</td>\n",
       "      <td>15753</td>\n",
       "    </tr>\n",
       "    <tr>\n",
       "      <th>1053658596712431616</th>\n",
       "      <td>2018-10-20 14:46:00</td>\n",
       "      <td>&lt;a href=\"http://twitter.com/download/iphone\" rel=\"nofollow\"&gt;Twitter for iPhone&lt;/a&gt;</td>\n",
       "      <td>Get out and Early Vote for Brian Kemp. He will be a GREAT GOVERNOR for the State of Georgia!</td>\n",
       "      <td>14339</td>\n",
       "    </tr>\n",
       "    <tr>\n",
       "      <th>1053661248217202688</th>\n",
       "      <td>2018-10-20 14:56:32</td>\n",
       "      <td>&lt;a href=\"http://twitter.com/download/iphone\" rel=\"nofollow\"&gt;Twitter for iPhone&lt;/a&gt;</td>\n",
       "      <td>Ron @RonDeSantisFL DeSantis is working hard. A great Congressman and top student at Harvard &amp;amp; Yale, Ron will be a record setting governor for Florida. Rick Scott gave him tremendous foundations to further build on. His opponent runs one of the worst &amp;amp; most corrupt cit...</td>\n",
       "      <td>17259</td>\n",
       "    </tr>\n",
       "    <tr>\n",
       "      <th>1053662989272793089</th>\n",
       "      <td>2018-10-20 15:03:27</td>\n",
       "      <td>&lt;a href=\"http://twitter.com/download/iphone\" rel=\"nofollow\"&gt;Twitter for iPhone&lt;/a&gt;</td>\n",
       "      <td>Rick Scott is known as easily one of the best Governors in the USA. Florida is setting records in almost every category of success. Amazing achievement-the envy of the World. Ron DeSantis will build on this success. His incompetent opponent will destroy Florida - next Venezuela!</td>\n",
       "      <td>16700</td>\n",
       "    </tr>\n",
       "    <tr>\n",
       "      <th>1053682023066288128</th>\n",
       "      <td>2018-10-20 16:19:05</td>\n",
       "      <td>&lt;a href=\"http://twitter.com/download/iphone\" rel=\"nofollow\"&gt;Twitter for iPhone&lt;/a&gt;</td>\n",
       "      <td>Leaving Arizona after a fantastic Rally last night, in Mesa, honoring, and for, Martha @RepMcSally McSally. She is an inspiration &amp;amp; will be a GREAT SENATOR for the people of Arizona. Her opponent is a Nancy Pelosi puppet, really bad for State. Early Voting NOW! Will be ba...</td>\n",
       "      <td>14092</td>\n",
       "    </tr>\n",
       "    <tr>\n",
       "      <th>1053684769991454721</th>\n",
       "      <td>2018-10-20 16:30:00</td>\n",
       "      <td>&lt;a href=\"http://twitter.com/download/iphone\" rel=\"nofollow\"&gt;Twitter for iPhone&lt;/a&gt;</td>\n",
       "      <td>Heading to Nevada to help a man who has become a good friend, Senator Dean Heller. He is all about #MAGA and I need his Help and Talent in Washington. Also, Adam Laxalt will be a GREAT GOVERNOR, and has my complete and total Endorsement. Winners Both!</td>\n",
       "      <td>13620</td>\n",
       "    </tr>\n",
       "    <tr>\n",
       "      <th>1053740855016574976</th>\n",
       "      <td>2018-10-20 20:12:52</td>\n",
       "      <td>&lt;a href=\"http://twitter.com/download/iphone\" rel=\"nofollow\"&gt;Twitter for iPhone&lt;/a&gt;</td>\n",
       "      <td>Beautiful afternoon in Elko, Nevada. Thank you! Get out and VOTE TODAY!! #MAGA🇺🇸#JobsNotMobs https://t.co/0pWiwCq4MH https://t.co/AKfGzjrqCM</td>\n",
       "      <td>10378</td>\n",
       "    </tr>\n",
       "    <tr>\n",
       "      <th>1053807130120200192</th>\n",
       "      <td>2018-10-21 00:36:13</td>\n",
       "      <td>&lt;a href=\"http://twitter.com/download/iphone\" rel=\"nofollow\"&gt;Twitter for iPhone&lt;/a&gt;</td>\n",
       "      <td>All levels of government and Law Enforcement are watching carefully for VOTER FRAUD, including during EARLY VOTING. Cheat at your own peril. Violators will be subject to maximum penalties, both civil and criminal!</td>\n",
       "      <td>38354</td>\n",
       "    </tr>\n",
       "    <tr>\n",
       "      <th>1053839625679183872</th>\n",
       "      <td>2018-10-21 02:45:20</td>\n",
       "      <td>&lt;a href=\"http://twitter.com/download/iphone\" rel=\"nofollow\"&gt;Twitter for iPhone&lt;/a&gt;</td>\n",
       "      <td>Watched North Dakota’s Rep. Kevin Cramer easily win debate with Senator Heidi Heitkamp. Great job Kevin, you will be a great Senator!</td>\n",
       "      <td>17968</td>\n",
       "    </tr>\n",
       "    <tr>\n",
       "      <th>1054087893034172418</th>\n",
       "      <td>2018-10-21 19:11:52</td>\n",
       "      <td>&lt;a href=\"http://twitter.com/download/iphone\" rel=\"nofollow\"&gt;Twitter for iPhone&lt;/a&gt;</td>\n",
       "      <td>Full efforts are being made to stop the onslaught of illegal aliens from crossing our Souther Border. People have to apply for asylum in Mexico first, and if they fail to do that, the U.S. will turn them away. The courts are asking the U.S. to do things that are not doable!</td>\n",
       "      <td>14048</td>\n",
       "    </tr>\n",
       "    <tr>\n",
       "      <th>1054088531629490178</th>\n",
       "      <td>2018-10-21 19:14:24</td>\n",
       "      <td>&lt;a href=\"http://twitter.com/download/iphone\" rel=\"nofollow\"&gt;Twitter for iPhone&lt;/a&gt;</td>\n",
       "      <td>The Caravans are a disgrace to the Democrat Party. Change the immigration laws NOW!</td>\n",
       "      <td>13684</td>\n",
       "    </tr>\n",
       "    <tr>\n",
       "      <th>1054091502585069568</th>\n",
       "      <td>2018-10-21 19:26:12</td>\n",
       "      <td>&lt;a href=\"http://twitter.com/download/iphone\" rel=\"nofollow\"&gt;Twitter for iPhone&lt;/a&gt;</td>\n",
       "      <td>Best Jobs Numbers in the history of our great Country! Many other things likewise. So why wouldn’t we win the Midterms? Dems can never do even nearly as well! Think of what will happen to your now beautiful 401-k’s!</td>\n",
       "      <td>13043</td>\n",
       "    </tr>\n",
       "    <tr>\n",
       "      <th>1054142516881248258</th>\n",
       "      <td>2018-10-21 22:48:55</td>\n",
       "      <td>&lt;a href=\"http://twitter.com/download/iphone\" rel=\"nofollow\"&gt;Twitter for iPhone&lt;/a&gt;</td>\n",
       "      <td>Facebook has just stated that they are setting up a system to “purge” themselves of Fake News. Does that mean CNN will finally be put out of business?</td>\n",
       "      <td>7593</td>\n",
       "    </tr>\n",
       "  </tbody>\n",
       "</table>\n",
       "<p>9151 rows × 4 columns</p>\n",
       "</div>"
      ],
      "text/plain": [
       "                                   time  \\\n",
       "id                                        \n",
       "690171032150237184  2016-01-21 13:56:11   \n",
       "690171403388104704  2016-01-21 13:57:39   \n",
       "690173226341691392  2016-01-21 14:04:54   \n",
       "690176882055114758  2016-01-21 14:19:26   \n",
       "690180284189310976  2016-01-21 14:32:57   \n",
       "690271688127213568  2016-01-21 20:36:09   \n",
       "690272687168458754  2016-01-21 20:40:07   \n",
       "690313350278819840  2016-01-21 23:21:42   \n",
       "690315202261155840  2016-01-21 23:29:04   \n",
       "690315366564626433  2016-01-21 23:29:43   \n",
       "690315667636023296  2016-01-21 23:30:55   \n",
       "690336644281581568  2016-01-22 00:54:16   \n",
       "690337376061788161  2016-01-22 00:57:10   \n",
       "690382564494839809  2016-01-22 03:56:44   \n",
       "690382619213742082  2016-01-22 03:56:57   \n",
       "690382722162913280  2016-01-22 03:57:22   \n",
       "690404308010057728  2016-01-22 05:23:08   \n",
       "690528062190944256  2016-01-22 13:34:54   \n",
       "690528407117889538  2016-01-22 13:36:16   \n",
       "690528526181601281  2016-01-22 13:36:44   \n",
       "690529122326413314  2016-01-22 13:39:06   \n",
       "690529690205818880  2016-01-22 13:41:22   \n",
       "690530164711624705  2016-01-22 13:43:15   \n",
       "690532959363866625  2016-01-22 13:54:21   \n",
       "690534215478173697  2016-01-22 13:59:21   \n",
       "690534576066719744  2016-01-22 14:00:47   \n",
       "690537121916923904  2016-01-22 14:10:54   \n",
       "690540484154896384  2016-01-22 14:24:15   \n",
       "690560125916975104  2016-01-22 15:42:18   \n",
       "690560942430523392  2016-01-22 15:45:33   \n",
       "...                                 ...   \n",
       "1053070661302669312 2018-10-18 23:49:45   \n",
       "1053074465150578688 2018-10-19 00:04:52   \n",
       "1053076069564071936 2018-10-19 00:11:14   \n",
       "1053102147888328704 2018-10-19 01:54:52   \n",
       "1053121500151074817 2018-10-19 03:11:46   \n",
       "1053124336637247493 2018-10-19 03:23:02   \n",
       "1053285341610668034 2018-10-19 14:02:49   \n",
       "1053285828892463109 2018-10-19 14:04:45   \n",
       "1053336553391452161 2018-10-19 17:26:19   \n",
       "1053338516501889025 2018-10-19 17:34:07   \n",
       "1053355470449127424 2018-10-19 18:41:29   \n",
       "1053432380860456960 2018-10-19 23:47:06   \n",
       "1053448472156749824 2018-10-20 00:51:02   \n",
       "1053456620334678016 2018-10-20 01:23:25   \n",
       "1053484232138358785 2018-10-20 03:13:08   \n",
       "1053485357734408192 2018-10-20 03:17:36   \n",
       "1053655992649506821 2018-10-20 14:35:39   \n",
       "1053657849606234112 2018-10-20 14:43:02   \n",
       "1053658596712431616 2018-10-20 14:46:00   \n",
       "1053661248217202688 2018-10-20 14:56:32   \n",
       "1053662989272793089 2018-10-20 15:03:27   \n",
       "1053682023066288128 2018-10-20 16:19:05   \n",
       "1053684769991454721 2018-10-20 16:30:00   \n",
       "1053740855016574976 2018-10-20 20:12:52   \n",
       "1053807130120200192 2018-10-21 00:36:13   \n",
       "1053839625679183872 2018-10-21 02:45:20   \n",
       "1054087893034172418 2018-10-21 19:11:52   \n",
       "1054088531629490178 2018-10-21 19:14:24   \n",
       "1054091502585069568 2018-10-21 19:26:12   \n",
       "1054142516881248258 2018-10-21 22:48:55   \n",
       "\n",
       "                                                                                                   source  \\\n",
       "id                                                                                                          \n",
       "690171032150237184   <a href=\"http://twitter.com/download/android\" rel=\"nofollow\">Twitter for Android</a>   \n",
       "690171403388104704   <a href=\"http://twitter.com/download/android\" rel=\"nofollow\">Twitter for Android</a>   \n",
       "690173226341691392   <a href=\"http://twitter.com/download/android\" rel=\"nofollow\">Twitter for Android</a>   \n",
       "690176882055114758   <a href=\"http://twitter.com/download/android\" rel=\"nofollow\">Twitter for Android</a>   \n",
       "690180284189310976   <a href=\"http://twitter.com/download/android\" rel=\"nofollow\">Twitter for Android</a>   \n",
       "690271688127213568     <a href=\"http://twitter.com/download/iphone\" rel=\"nofollow\">Twitter for iPhone</a>   \n",
       "690272687168458754   <a href=\"http://twitter.com/download/android\" rel=\"nofollow\">Twitter for Android</a>   \n",
       "690313350278819840     <a href=\"http://twitter.com/download/iphone\" rel=\"nofollow\">Twitter for iPhone</a>   \n",
       "690315202261155840     <a href=\"http://twitter.com/download/iphone\" rel=\"nofollow\">Twitter for iPhone</a>   \n",
       "690315366564626433     <a href=\"http://twitter.com/download/iphone\" rel=\"nofollow\">Twitter for iPhone</a>   \n",
       "690315667636023296     <a href=\"http://twitter.com/download/iphone\" rel=\"nofollow\">Twitter for iPhone</a>   \n",
       "690336644281581568     <a href=\"http://twitter.com/download/iphone\" rel=\"nofollow\">Twitter for iPhone</a>   \n",
       "690337376061788161     <a href=\"http://twitter.com/download/iphone\" rel=\"nofollow\">Twitter for iPhone</a>   \n",
       "690382564494839809     <a href=\"http://twitter.com/download/iphone\" rel=\"nofollow\">Twitter for iPhone</a>   \n",
       "690382619213742082     <a href=\"http://twitter.com/download/iphone\" rel=\"nofollow\">Twitter for iPhone</a>   \n",
       "690382722162913280     <a href=\"http://twitter.com/download/iphone\" rel=\"nofollow\">Twitter for iPhone</a>   \n",
       "690404308010057728     <a href=\"http://twitter.com/download/iphone\" rel=\"nofollow\">Twitter for iPhone</a>   \n",
       "690528062190944256   <a href=\"http://twitter.com/download/android\" rel=\"nofollow\">Twitter for Android</a>   \n",
       "690528407117889538   <a href=\"http://twitter.com/download/android\" rel=\"nofollow\">Twitter for Android</a>   \n",
       "690528526181601281   <a href=\"http://twitter.com/download/android\" rel=\"nofollow\">Twitter for Android</a>   \n",
       "690529122326413314   <a href=\"http://twitter.com/download/android\" rel=\"nofollow\">Twitter for Android</a>   \n",
       "690529690205818880   <a href=\"http://twitter.com/download/android\" rel=\"nofollow\">Twitter for Android</a>   \n",
       "690530164711624705   <a href=\"http://twitter.com/download/android\" rel=\"nofollow\">Twitter for Android</a>   \n",
       "690532959363866625   <a href=\"http://twitter.com/download/android\" rel=\"nofollow\">Twitter for Android</a>   \n",
       "690534215478173697   <a href=\"http://twitter.com/download/android\" rel=\"nofollow\">Twitter for Android</a>   \n",
       "690534576066719744   <a href=\"http://twitter.com/download/android\" rel=\"nofollow\">Twitter for Android</a>   \n",
       "690537121916923904   <a href=\"http://twitter.com/download/android\" rel=\"nofollow\">Twitter for Android</a>   \n",
       "690540484154896384   <a href=\"http://twitter.com/download/android\" rel=\"nofollow\">Twitter for Android</a>   \n",
       "690560125916975104   <a href=\"http://twitter.com/download/android\" rel=\"nofollow\">Twitter for Android</a>   \n",
       "690560942430523392   <a href=\"http://twitter.com/download/android\" rel=\"nofollow\">Twitter for Android</a>   \n",
       "...                                                                                                   ...   \n",
       "1053070661302669312    <a href=\"http://twitter.com/download/iphone\" rel=\"nofollow\">Twitter for iPhone</a>   \n",
       "1053074465150578688    <a href=\"http://twitter.com/download/iphone\" rel=\"nofollow\">Twitter for iPhone</a>   \n",
       "1053076069564071936    <a href=\"http://twitter.com/download/iphone\" rel=\"nofollow\">Twitter for iPhone</a>   \n",
       "1053102147888328704    <a href=\"http://twitter.com/download/iphone\" rel=\"nofollow\">Twitter for iPhone</a>   \n",
       "1053121500151074817    <a href=\"http://twitter.com/download/iphone\" rel=\"nofollow\">Twitter for iPhone</a>   \n",
       "1053124336637247493    <a href=\"http://twitter.com/download/iphone\" rel=\"nofollow\">Twitter for iPhone</a>   \n",
       "1053285341610668034    <a href=\"http://twitter.com/download/iphone\" rel=\"nofollow\">Twitter for iPhone</a>   \n",
       "1053285828892463109    <a href=\"http://twitter.com/download/iphone\" rel=\"nofollow\">Twitter for iPhone</a>   \n",
       "1053336553391452161    <a href=\"http://twitter.com/download/iphone\" rel=\"nofollow\">Twitter for iPhone</a>   \n",
       "1053338516501889025    <a href=\"http://twitter.com/download/iphone\" rel=\"nofollow\">Twitter for iPhone</a>   \n",
       "1053355470449127424    <a href=\"http://twitter.com/download/iphone\" rel=\"nofollow\">Twitter for iPhone</a>   \n",
       "1053432380860456960    <a href=\"http://twitter.com/download/iphone\" rel=\"nofollow\">Twitter for iPhone</a>   \n",
       "1053448472156749824    <a href=\"http://twitter.com/download/iphone\" rel=\"nofollow\">Twitter for iPhone</a>   \n",
       "1053456620334678016    <a href=\"http://twitter.com/download/iphone\" rel=\"nofollow\">Twitter for iPhone</a>   \n",
       "1053484232138358785    <a href=\"http://twitter.com/download/iphone\" rel=\"nofollow\">Twitter for iPhone</a>   \n",
       "1053485357734408192    <a href=\"http://twitter.com/download/iphone\" rel=\"nofollow\">Twitter for iPhone</a>   \n",
       "1053655992649506821    <a href=\"http://twitter.com/download/iphone\" rel=\"nofollow\">Twitter for iPhone</a>   \n",
       "1053657849606234112    <a href=\"http://twitter.com/download/iphone\" rel=\"nofollow\">Twitter for iPhone</a>   \n",
       "1053658596712431616    <a href=\"http://twitter.com/download/iphone\" rel=\"nofollow\">Twitter for iPhone</a>   \n",
       "1053661248217202688    <a href=\"http://twitter.com/download/iphone\" rel=\"nofollow\">Twitter for iPhone</a>   \n",
       "1053662989272793089    <a href=\"http://twitter.com/download/iphone\" rel=\"nofollow\">Twitter for iPhone</a>   \n",
       "1053682023066288128    <a href=\"http://twitter.com/download/iphone\" rel=\"nofollow\">Twitter for iPhone</a>   \n",
       "1053684769991454721    <a href=\"http://twitter.com/download/iphone\" rel=\"nofollow\">Twitter for iPhone</a>   \n",
       "1053740855016574976    <a href=\"http://twitter.com/download/iphone\" rel=\"nofollow\">Twitter for iPhone</a>   \n",
       "1053807130120200192    <a href=\"http://twitter.com/download/iphone\" rel=\"nofollow\">Twitter for iPhone</a>   \n",
       "1053839625679183872    <a href=\"http://twitter.com/download/iphone\" rel=\"nofollow\">Twitter for iPhone</a>   \n",
       "1054087893034172418    <a href=\"http://twitter.com/download/iphone\" rel=\"nofollow\">Twitter for iPhone</a>   \n",
       "1054088531629490178    <a href=\"http://twitter.com/download/iphone\" rel=\"nofollow\">Twitter for iPhone</a>   \n",
       "1054091502585069568    <a href=\"http://twitter.com/download/iphone\" rel=\"nofollow\">Twitter for iPhone</a>   \n",
       "1054142516881248258    <a href=\"http://twitter.com/download/iphone\" rel=\"nofollow\">Twitter for iPhone</a>   \n",
       "\n",
       "                                                                                                                                                                                                                                                                                                        text  \\\n",
       "id                                                                                                                                                                                                                                                                                                             \n",
       "690171032150237184                                                                                                                                                                                                                       \"@bigop1: @realDonaldTrump  @SarahPalinUSA https://t.co/3kYQGqeVyD\"   \n",
       "690171403388104704                                                                                                                                                         \"@AmericanAsPie:  @glennbeck @SarahPalinUSA Remember when Glenn gave out gifts to ILLEGAL ALIENS at crossing the border? Me too!\"   \n",
       "690173226341691392                                                                                                                                                               So sad that @CNN and many others refused to show the massive crowd at the arena yesterday in Oklahoma. Dishonest reporting!   \n",
       "690176882055114758                                                                                                                                                Sad sack @JebBush has just done another ad on me, with special interest money, saying I won't beat Hillary - I WILL. But he can't beat me.   \n",
       "690180284189310976                                                                                                                                              Low energy candidate @JebBush has wasted $80 million on his failed presidential campaign. Millions spent on me. He should go home and relax!   \n",
       "690271688127213568                                                                                                                                                                                           New Day on CNN treats me very badly. @AlisynCamerota is a disaster. Not going to watch anymore.   \n",
       "690272687168458754                                                                                                                                                                                                             Happy birthday to my friend, the great @jacknicklaus - a totally special guy!   \n",
       "690313350278819840                                                                                                                                                                                                                                       Thank you, Iowa! #Trump2016 https://t.co/ryhEheTLqN   \n",
       "690315202261155840                                                                                                                                                                                                                                             Thank you! #Trump2016 https://t.co/pcdmyIO1Zt   \n",
       "690315366564626433                                                                                                                                                                                                                             Thank you, New Hampshire!\\n#Trump2016 https://t.co/TG9oZKly4l   \n",
       "690315667636023296                                                                                                                                                                                                                                 #Trump2016 #MakeAmericaGreatAgain https://t.co/vfUwGIGjN4   \n",
       "690336644281581568                                                                                                                                              Why does @Greta have a fired Bushy like dummy, John Sununu on- spewing false info? I will beat Hillary by a lot, she wants no part of Trump.   \n",
       "690337376061788161                                                                                                                                                                                               Thank you, Iowa! #FITN #IACaucus\\n#MakeAmericaGreatAgain #Trump2016 https://t.co/wVJldvTSag   \n",
       "690382564494839809                                                                                                                                              National Review is a failing publication that has lost it's way. It's circulation is way down w its influence being at an all time low. Sad!   \n",
       "690382619213742082                                                                                                                                                                                     Very few people read the National Review because it only knows how to criticize, but not how to lead.   \n",
       "690382722162913280                                                                                                                                                                        The late, great, William F. Buckley would be ashamed of what had happened to his prize, the dying National Review!   \n",
       "690404308010057728                                                                                                                                                                                                           RT @williebosshog: Make America Great Again! #Trump2016 https://t.co/1h5j4DZDgy   \n",
       "690528062190944256                                                                                                                                                Ted Cruz complains about my views on eminent domain, but without it we wouldn't have roads, highways, airports, schools or even pipelines.   \n",
       "690528407117889538                                                                                                                                                     \"@realOllieTaylor:  Isn't it time we had a president? Let goofy Glen keep Canada Cruz who can't win. The American people have Trump!\"   \n",
       "690528526181601281                                                                                                                                                                                                                            \"@BornToBeGOP: @realDonaldTrump No sleep for the #TrumpTrain!\"   \n",
       "690529122326413314                                                                                                                                                                         \"@NeilTurner_: @realDonaldTrump https://t.co/uvn95NB6M0 With your help we can #MakeAmericaGreatAgain! #VoteTrump\"   \n",
       "690529690205818880                                                                                                                                                    #TedCruz eligibility to be President not settled law, says Cruz' Constitutional Law Professor, #LaurenceTribe https://t.co/GWKoJsBINZ\"   \n",
       "690530164711624705                                                                                                                                                 \"@TruBluMajority: #laurencetribe calls Cruz \"constitutional hypocrite\" on @WBUR https://t.co/qRFINtcJlX @pbsgwen @charlierose @jaketapper   \n",
       "690532959363866625                                                                                                                                              Highly respected Constitutional law professor Mary Brigid McManamon has just stated, \"Ted Cruz is not eligible to be President.\" Big problem   \n",
       "690534215478173697                                                                                                                                               \"@D: #MaryBrigidMcManamon, Washington Post: Constitutionally speaking, #Cruz simply isn’t eligible to be president https://t.co/DBtTgsC1il\"   \n",
       "690534576066719744                                                                                                                                                \"@CyberCiety: #MaryBrigidMcManamon clarified how #CommonLaw is used to interpret meaning of #NaturalBorn #TedCruz https://t.co/5y6SZrTdGr\"   \n",
       "690537121916923904                                                                                                                                                   \"@MiamiNewTimes: Poll: Trump has more support in Florida than Rubio and Bush combined. https://t.co/uvH2BKQRHf https://t.co/2tvIaa2aFr\"   \n",
       "690540484154896384                                                                                                                                              The failing @NRO National Review Magazine has just been informed by the Republican National Committee that they cannot participate in debate   \n",
       "690560125916975104                                                                                                                                                After spending $89 million, @JebBush is at the bottom of the barrel in polls. He is ashamed to use the name \"Bush\" in ads. Low energy guy!   \n",
       "690560942430523392                                                                                                                                              \"@Lisa_Milicaj: Truth be told, I  never heard of The National Review until they \"tried\" to declare war on you. No worries, you got my vote!\"   \n",
       "...                                                                                                                                                                                                                                                                                                      ...   \n",
       "1053070661302669312                                                           Prime Minister @AbeShinzo of Japan has been working with me to help balance out the one-sided Trade with Japan. These are some of the investments they are making in our Country - just the beginning! https://t.co/ib2yB3Akkt   \n",
       "1053074465150578688                                                  Will be landing soon. Looking forward to seeing our next Senator from Montana, Matt Rosendale. He will represent our Country well, far better than Jon Tester who will vote with Cryin’ Chuck Schumer and Nancy Pelosi - never with us!   \n",
       "1053076069564071936                                                                                                                             The only thing keeping Tester alive is he has millions and millions of dollars from outside liberals and leftists, who couldn’t care less about our Country!   \n",
       "1053102147888328704                                                                                                                                         Thank you Missoula, Montana. Get out and VOTE for @MattForMontana and @GregForMontana!! #MAGA🇺🇸\\nhttps://t.co/6XgaceUu1e https://t.co/nEndInSOhw   \n",
       "1053121500151074817  Jon Tester says one thing to voters and does the EXACT OPPOSITE in Washington. Tester takes his orders form Pelosi &amp; Schumer. Tester wants to raise your taxes, take away your 2A, open your borders, and deliver MOB RULE. Retire Tester &amp; Elect America-First Patriot Matt...   \n",
       "1053124336637247493                                                                                                                                                                                                                                                                            #JobsNotMobs!   \n",
       "1053285341610668034                                                                                                                                                                                         Congressman Andy Biggs is doing a great job for Arizona and our Country! https://t.co/V561vXRpzx   \n",
       "1053285828892463109                                                                                                                                                                                                                    When referring to the USA, I will always capitalize the word Country!   \n",
       "1053336553391452161                                                                                                                                                                   Secretary of State Mike Pompeo was never given or shown a Transcript or Video of the Saudi Consulate event. FAKE NEWS!   \n",
       "1053338516501889025                                                               Beto O’Rourke is a total lightweight compared to Ted Cruz, and he comes nowhere near representing the values and desires of the people of the Great State of Texas. He will never be allowed to turn Texas into Venezuela!   \n",
       "1053355470449127424                                                                                                                                                                                                                                                    #JobsNotMobs! https://t.co/U1suRW5j6G   \n",
       "1053432380860456960                                                                                                                                                                                              This is what it is all about for the Republican Party! #JobsNotMobs https://t.co/8OabccPec5   \n",
       "1053448472156749824                                                                                                                                                                      WOW - Mesa, Arizona! Look forward to joining everyone soon. Something’s happening!! #MAGA🇺🇸 https://t.co/z6LNGYoICO   \n",
       "1053456620334678016                                                                                                                                                                                                         On my way - see you all shortly! https://t.co/0pWiwCq4MH https://t.co/ahDmLiwPZi   \n",
       "1053484232138358785                                                                                                                                                    This was outside of the massive totally full hangar tonight in Mesa, Arizona! https://t.co/0pWiwCq4MH #MAGA🇺🇸 https://t.co/7mx98y515I   \n",
       "1053485357734408192                                                                                                                          Beautiful evening in Mesa, Arizona with GREAT PATRIOTS - thank you! https://t.co/0pWiwCq4MH #MAGARally🇺🇸replay: https://t.co/6vHEaB37VH https://t.co/pHmU6pMKh7   \n",
       "1053655992649506821  If the Democrats would stop being obstructionists and come together, we could write up and agree to new immigration laws in less than one hour. Look at the needless  pain and suffering that they are causing. Look at the horrors taking place on the Border. Chuck &amp; Nancy, c...   \n",
       "1053657849606234112  Georgia Secretary of State Brian Kemp will be a great governor. He has been successful at whatever he has done, and has prepared for this very difficult and complex job for many years. He has my Strong Endorsement. His opponent is totally unqualified. Would destroy a great st...   \n",
       "1053658596712431616                                                                                                                                                                                             Get out and Early Vote for Brian Kemp. He will be a GREAT GOVERNOR for the State of Georgia!   \n",
       "1053661248217202688  Ron @RonDeSantisFL DeSantis is working hard. A great Congressman and top student at Harvard &amp; Yale, Ron will be a record setting governor for Florida. Rick Scott gave him tremendous foundations to further build on. His opponent runs one of the worst &amp; most corrupt cit...   \n",
       "1053662989272793089  Rick Scott is known as easily one of the best Governors in the USA. Florida is setting records in almost every category of success. Amazing achievement-the envy of the World. Ron DeSantis will build on this success. His incompetent opponent will destroy Florida - next Venezuela!   \n",
       "1053682023066288128  Leaving Arizona after a fantastic Rally last night, in Mesa, honoring, and for, Martha @RepMcSally McSally. She is an inspiration &amp; will be a GREAT SENATOR for the people of Arizona. Her opponent is a Nancy Pelosi puppet, really bad for State. Early Voting NOW! Will be ba...   \n",
       "1053684769991454721                              Heading to Nevada to help a man who has become a good friend, Senator Dean Heller. He is all about #MAGA and I need his Help and Talent in Washington. Also, Adam Laxalt will be a GREAT GOVERNOR, and has my complete and total Endorsement. Winners Both!   \n",
       "1053740855016574976                                                                                                                                             Beautiful afternoon in Elko, Nevada. Thank you! Get out and VOTE TODAY!! #MAGA🇺🇸#JobsNotMobs https://t.co/0pWiwCq4MH https://t.co/AKfGzjrqCM   \n",
       "1053807130120200192                                                                    All levels of government and Law Enforcement are watching carefully for VOTER FRAUD, including during EARLY VOTING. Cheat at your own peril. Violators will be subject to maximum penalties, both civil and criminal!   \n",
       "1053839625679183872                                                                                                                                                    Watched North Dakota’s Rep. Kevin Cramer easily win debate with Senator Heidi Heitkamp. Great job Kevin, you will be a great Senator!   \n",
       "1054087893034172418       Full efforts are being made to stop the onslaught of illegal aliens from crossing our Souther Border. People have to apply for asylum in Mexico first, and if they fail to do that, the U.S. will turn them away. The courts are asking the U.S. to do things that are not doable!   \n",
       "1054088531629490178                                                                                                                                                                                                      The Caravans are a disgrace to the Democrat Party. Change the immigration laws NOW!   \n",
       "1054091502585069568                                                                  Best Jobs Numbers in the history of our great Country! Many other things likewise. So why wouldn’t we win the Midterms? Dems can never do even nearly as well! Think of what will happen to your now beautiful 401-k’s!   \n",
       "1054142516881248258                                                                                                                                   Facebook has just stated that they are setting up a system to “purge” themselves of Fake News. Does that mean CNN will finally be put out of business?   \n",
       "\n",
       "                     retweet_count  \n",
       "id                                  \n",
       "690171032150237184            1059  \n",
       "690171403388104704            1339  \n",
       "690173226341691392            2006  \n",
       "690176882055114758            2266  \n",
       "690180284189310976            2886  \n",
       "690271688127213568            1429  \n",
       "690272687168458754            1053  \n",
       "690313350278819840            2329  \n",
       "690315202261155840            1463  \n",
       "690315366564626433            1761  \n",
       "690315667636023296            2217  \n",
       "690336644281581568            1576  \n",
       "690337376061788161            2422  \n",
       "690382564494839809            2187  \n",
       "690382619213742082            1817  \n",
       "690382722162913280            2236  \n",
       "690404308010057728            9144  \n",
       "690528062190944256            1595  \n",
       "690528407117889538             909  \n",
       "690528526181601281             676  \n",
       "690529122326413314             773  \n",
       "690529690205818880             753  \n",
       "690530164711624705             637  \n",
       "690532959363866625            1937  \n",
       "690534215478173697             875  \n",
       "690534576066719744             799  \n",
       "690537121916923904            1738  \n",
       "690540484154896384            2116  \n",
       "690560125916975104            1661  \n",
       "690560942430523392            1110  \n",
       "...                            ...  \n",
       "1053070661302669312          13851  \n",
       "1053074465150578688          13516  \n",
       "1053076069564071936          17471  \n",
       "1053102147888328704          11481  \n",
       "1053121500151074817          22111  \n",
       "1053124336637247493          29196  \n",
       "1053285341610668034          11042  \n",
       "1053285828892463109          19668  \n",
       "1053336553391452161          32353  \n",
       "1053338516501889025          25819  \n",
       "1053355470449127424          20574  \n",
       "1053432380860456960          22107  \n",
       "1053448472156749824          15894  \n",
       "1053456620334678016          11268  \n",
       "1053484232138358785          23389  \n",
       "1053485357734408192          11217  \n",
       "1053655992649506821          29333  \n",
       "1053657849606234112          15753  \n",
       "1053658596712431616          14339  \n",
       "1053661248217202688          17259  \n",
       "1053662989272793089          16700  \n",
       "1053682023066288128          14092  \n",
       "1053684769991454721          13620  \n",
       "1053740855016574976          10378  \n",
       "1053807130120200192          38354  \n",
       "1053839625679183872          17968  \n",
       "1054087893034172418          14048  \n",
       "1054088531629490178          13684  \n",
       "1054091502585069568          13043  \n",
       "1054142516881248258           7593  \n",
       "\n",
       "[9151 rows x 4 columns]"
      ]
     },
     "execution_count": 22,
     "metadata": {},
     "output_type": "execute_result"
    }
   ],
   "source": [
    "alltrump=pd.DataFrame(data=all_tweets)\n",
    "alltrump.set_index('id')\n",
    "alltrump['time']=pd.to_datetime(alltrump['created_at'])\n",
    "alltrump.text.fillna(alltrump.full_text,inplace=True)\n",
    "myframe=[\"time\",\"source\",\"text\",\"retweet_count\",'id']\n",
    "trump=alltrump[myframe]\n",
    "trump.set_index('id',inplace=True)\n",
    "trump.sort_index()\n",
    "\n",
    "# YOUR CODE HERE\n",
    "#raise NotImplementedError()"
   ]
  },
  {
   "cell_type": "code",
   "execution_count": 23,
   "metadata": {
    "deletable": false,
    "editable": false,
    "nbgrader": {
     "cell_type": "code",
     "checksum": "2dd08a7053daa04e9b2763d40dc635da",
     "grade": true,
     "grade_id": "q3b-tests",
     "locked": true,
     "points": 2,
     "schema_version": 2,
     "solution": false
    },
    "tags": [
     "test",
     "q03"
    ]
   },
   "outputs": [],
   "source": [
    "assert isinstance(trump, pd.DataFrame)\n",
    "assert trump.shape[0] < 11000\n",
    "assert trump.shape[1] >= 4\n",
    "assert 831846101179314177 in trump.index\n",
    "assert 753063644578144260 in trump.index\n",
    "assert all(col in trump.columns for col in ['time', 'source', 'text', 'retweet_count'])\n",
    "# If you fail these tests, you probably tried to use __dict__ or _json to read in the tweets\n",
    "assert np.sometrue([('Twitter for iPhone' in s) for s in trump['source'].unique()])\n",
    "assert trump['time'].dtype == np.dtype('<M8[ns]')\n",
    "assert trump['text'].dtype == np.dtype('O')\n",
    "assert trump['retweet_count'].dtype == np.dtype('int64')"
   ]
  },
  {
   "cell_type": "markdown",
   "metadata": {
    "deletable": false,
    "editable": false,
    "nbgrader": {
     "cell_type": "markdown",
     "checksum": "30d38d0c0f5988b2b1da8eadd678d083",
     "grade": false,
     "grade_id": "question4",
     "locked": true,
     "schema_version": 2,
     "solution": false
    }
   },
   "source": [
    "## Question 4: Tweet Source Analysis\n",
    "\n",
    "In the following questions, we are going to find out the charateristics of Trump tweets and the devices used for the tweets.\n",
    "\n",
    "First let's examine the source field:"
   ]
  },
  {
   "cell_type": "code",
   "execution_count": 24,
   "metadata": {
    "deletable": false,
    "editable": false,
    "nbgrader": {
     "cell_type": "code",
     "checksum": "6afb6dfe20e5154416906478ba3d9384",
     "grade": false,
     "grade_id": "unique-sources",
     "locked": true,
     "schema_version": 2,
     "solution": false
    }
   },
   "outputs": [
    {
     "data": {
      "text/plain": [
       "array([ '<a href=\"http://twitter.com/download/iphone\" rel=\"nofollow\">Twitter for iPhone</a>',\n",
       "       '<a href=\"http://twitter.com/download/android\" rel=\"nofollow\">Twitter for Android</a>',\n",
       "       '<a href=\"http://twitter.com\" rel=\"nofollow\">Twitter Web Client</a>',\n",
       "       '<a href=\"https://studio.twitter.com\" rel=\"nofollow\">Media Studio</a>',\n",
       "       '<a href=\"http://twitter.com/#!/download/ipad\" rel=\"nofollow\">Twitter for iPad</a>',\n",
       "       '<a href=\"http://instagram.com\" rel=\"nofollow\">Instagram</a>',\n",
       "       '<a href=\"https://mobile.twitter.com\" rel=\"nofollow\">Mobile Web (M5)</a>',\n",
       "       '<a href=\"https://ads.twitter.com\" rel=\"nofollow\">Twitter Ads</a>',\n",
       "       '<a href=\"https://periscope.tv\" rel=\"nofollow\">Periscope</a>'], dtype=object)"
      ]
     },
     "execution_count": 24,
     "metadata": {},
     "output_type": "execute_result"
    }
   ],
   "source": [
    "trump['source'].unique()"
   ]
  },
  {
   "cell_type": "markdown",
   "metadata": {
    "deletable": false,
    "editable": false,
    "nbgrader": {
     "cell_type": "markdown",
     "checksum": "c6456dce1f6278ee550862faf8829f32",
     "grade": false,
     "grade_id": "q4a",
     "locked": true,
     "schema_version": 2,
     "solution": false
    }
   },
   "source": [
    "## Question 4a\n",
    "\n",
    "Remove the HTML tags from the source field. \n",
    "\n",
    "**Hint:** Use `trump['source'].str.replace` and your favorite regular expression."
   ]
  },
  {
   "cell_type": "code",
   "execution_count": 25,
   "metadata": {
    "deletable": false,
    "nbgrader": {
     "cell_type": "code",
     "checksum": "a05e9dfd89d13b6b4d93b7b32b0c18d0",
     "grade": false,
     "grade_id": "q4a-answer",
     "locked": false,
     "schema_version": 2,
     "solution": true
    }
   },
   "outputs": [
    {
     "name": "stderr",
     "output_type": "stream",
     "text": [
      "/srv/conda/envs/data100/lib/python3.6/site-packages/ipykernel_launcher.py:3: SettingWithCopyWarning: \n",
      "A value is trying to be set on a copy of a slice from a DataFrame.\n",
      "Try using .loc[row_indexer,col_indexer] = value instead\n",
      "\n",
      "See the caveats in the documentation: http://pandas.pydata.org/pandas-docs/stable/indexing.html#indexing-view-versus-copy\n",
      "  This is separate from the ipykernel package so we can avoid doing imports until\n"
     ]
    },
    {
     "data": {
      "text/plain": [
       "id\n",
       "786204978629185536     Twitter for iPhone\n",
       "786201435486781440     Twitter for iPhone\n",
       "786189446274248704    Twitter for Android\n",
       "786054986534969344     Twitter for iPhone\n",
       "786007502639038464     Twitter for iPhone\n",
       "785979396620324865    Twitter for Android\n",
       "785957064480653313     Twitter for iPhone\n",
       "785947219216125952     Twitter for iPhone\n",
       "785913754194104320     Twitter for iPhone\n",
       "785910334427058177     Twitter for iPhone\n",
       "785904113540210688     Twitter for iPhone\n",
       "785898532645502980     Twitter for iPhone\n",
       "785890855760465920    Twitter for Android\n",
       "785885793340448769    Twitter for Android\n",
       "785863826361184257     Twitter for iPhone\n",
       "785854588654092290     Twitter for iPhone\n",
       "785846205750337537     Twitter Web Client\n",
       "785842546878578688     Twitter for iPhone\n",
       "785842270801133568     Twitter for iPhone\n",
       "785828772423561216    Twitter for Android\n",
       "785816454042124288     Twitter for iPhone\n",
       "785654535234531329     Twitter for iPhone\n",
       "785608815962099712     Twitter for iPhone\n",
       "785563318652178432    Twitter for Android\n",
       "785561269571026946     Twitter for iPhone\n",
       "785559022082658305     Twitter for iPhone\n",
       "785530928256933888    Twitter for Android\n",
       "785527400528568320    Twitter for Android\n",
       "785323809062653952     Twitter for iPhone\n",
       "785314249044140036     Twitter for iPhone\n",
       "                             ...         \n",
       "966766375292358659     Twitter for iPhone\n",
       "966711641378381826           Media Studio\n",
       "966687491616059392     Twitter for iPhone\n",
       "966681883206668289     Twitter for iPhone\n",
       "966662241977360384     Twitter for iPhone\n",
       "966660169194229761     Twitter for iPhone\n",
       "966657362789568512     Twitter for iPhone\n",
       "966653833047887874     Twitter for iPhone\n",
       "966650397002813440     Twitter for iPhone\n",
       "966487844662456320     Twitter for iPhone\n",
       "966420452070559749     Twitter for iPhone\n",
       "966377081469882368           Media Studio\n",
       "966321700588711936     Twitter for iPhone\n",
       "966317112565420033     Twitter for iPhone\n",
       "966119932793585664     Twitter for iPhone\n",
       "966118856874971138     Twitter for iPhone\n",
       "966117265426001920     Twitter for iPhone\n",
       "966006815745040384     Twitter for iPhone\n",
       "965971586913374208     Twitter for iPhone\n",
       "965968309358333952     Twitter for iPhone\n",
       "965943827931549696     Twitter for iPhone\n",
       "965937068907073536     Twitter for iPhone\n",
       "965935035328155649     Twitter for iPhone\n",
       "965932714141650946     Twitter for iPhone\n",
       "965930611272712192     Twitter for iPhone\n",
       "965928352614965248     Twitter for iPhone\n",
       "965925223949357056     Twitter for iPhone\n",
       "965780052167286784     Twitter for iPhone\n",
       "965775382598311937     Twitter for iPhone\n",
       "965773283554668544     Twitter for iPhone\n",
       "Name: source, Length: 9151, dtype: object"
      ]
     },
     "execution_count": 25,
     "metadata": {},
     "output_type": "execute_result"
    }
   ],
   "source": [
    "## Uncomment and complete\n",
    "regex='<[^>]*>'\n",
    "trump['source'] = trump['source'].str.replace(regex,'')\n",
    "trump['source']\n",
    "# YOUR CODE HERE\n",
    "#raise NotImplementedError()"
   ]
  },
  {
   "cell_type": "code",
   "execution_count": 26,
   "metadata": {
    "deletable": false,
    "editable": false,
    "nbgrader": {
     "cell_type": "code",
     "checksum": "ba180bc3697692747a71297f6b4dc64a",
     "grade": true,
     "grade_id": "q4a-test",
     "locked": true,
     "points": 1,
     "schema_version": 2,
     "solution": false
    }
   },
   "outputs": [],
   "source": [
    "from datetime import datetime\n",
    "ELEC_DATE = datetime(2016, 11, 8)\n",
    "INAUG_DATE = datetime(2017, 1, 20)\n",
    "assert set(trump[(trump['time'] > ELEC_DATE) & (trump['time'] < INAUG_DATE) ]['source'].unique()) == set(['Twitter Ads',\n",
    " 'Twitter Web Client',\n",
    " 'Twitter for Android',\n",
    " 'Twitter for iPhone'])"
   ]
  },
  {
   "cell_type": "markdown",
   "metadata": {
    "deletable": false,
    "editable": false,
    "nbgrader": {
     "cell_type": "markdown",
     "checksum": "fbd18f3db9b76174657bbfadec0dede6",
     "grade": false,
     "grade_id": "note-about-device-usage",
     "locked": true,
     "schema_version": 2,
     "solution": false
    }
   },
   "source": [
    "We can see in the following plot that there are two device types that are more commonly used"
   ]
  },
  {
   "cell_type": "code",
   "execution_count": 27,
   "metadata": {
    "deletable": false,
    "editable": false,
    "nbgrader": {
     "cell_type": "code",
     "checksum": "80767c65e51906a26ac3aa9c6e0d48e5",
     "grade": false,
     "grade_id": "device-usage-plot",
     "locked": true,
     "schema_version": 2,
     "solution": false
    }
   },
   "outputs": [
    {
     "data": {
      "text/plain": [
       "Text(0,0.5,'Number of Tweets')"
      ]
     },
     "execution_count": 27,
     "metadata": {},
     "output_type": "execute_result"
    },
    {
     "data": {
      "image/png": "[encoded data removed]",
      "text/plain": [
       "<matplotlib.figure.Figure at 0x7f1ed9735160>"
      ]
     },
     "metadata": {},
     "output_type": "display_data"
    }
   ],
   "source": [
    "trump['source'].value_counts().plot(kind=\"bar\")\n",
    "plt.ylabel(\"Number of Tweets\")"
   ]
  },
  {
   "cell_type": "markdown",
   "metadata": {
    "deletable": false,
    "editable": false,
    "nbgrader": {
     "cell_type": "markdown",
     "checksum": "4fc8de3b5e3282ab8fa3c8f31fa6794c",
     "grade": false,
     "grade_id": "q4b",
     "locked": true,
     "schema_version": 2,
     "solution": false
    }
   },
   "source": [
    "## Question 4b\n",
    "\n",
    "\n",
    "Is there a difference between his Tweet behavior across these devices? We will attempt to answer this question in our subsequent analysis.\n",
    "\n",
    "First, we'll take a look at whether Trump's tweets from an Android come at different times than his tweets from an iPhone. Note that Twitter gives us his tweets in the [UTC timezone](https://www.wikiwand.com/en/List_of_UTC_time_offsets) (notice the `+0000` in the first few tweets)"
   ]
  },
  {
   "cell_type": "code",
   "execution_count": 28,
   "metadata": {
    "deletable": false,
    "editable": false,
    "nbgrader": {
     "cell_type": "code",
     "checksum": "8a6257dbd02d1af40cdfd288d7c37250",
     "grade": false,
     "grade_id": "tweet-created-at",
     "locked": true,
     "schema_version": 2,
     "solution": false
    }
   },
   "outputs": [
    {
     "name": "stdout",
     "output_type": "stream",
     "text": [
      "Sun Oct 21 22:48:55 +0000 2018\n",
      "Sun Oct 21 19:26:12 +0000 2018\n",
      "Sun Oct 21 19:14:24 +0000 2018\n"
     ]
    }
   ],
   "source": [
    "for t in trump_tweets[0:3]:\n",
    "    print(t['created_at'])"
   ]
  },
  {
   "cell_type": "markdown",
   "metadata": {
    "deletable": false,
    "editable": false,
    "nbgrader": {
     "cell_type": "markdown",
     "checksum": "5a4f73d1c7135ddc404472884d7ba6fa",
     "grade": false,
     "grade_id": "convert-to-est-justification",
     "locked": true,
     "schema_version": 2,
     "solution": false
    }
   },
   "source": [
    "We'll convert the tweet times to US Eastern Time, the timezone of New York and Washington D.C., since those are the places we would expect the most tweet activity from Trump."
   ]
  },
  {
   "cell_type": "code",
   "execution_count": 29,
   "metadata": {
    "deletable": false,
    "editable": false,
    "nbgrader": {
     "cell_type": "code",
     "checksum": "6adc54fdcb7560cb4586d97800b8bfab",
     "grade": false,
     "grade_id": "convert-to-est",
     "locked": true,
     "schema_version": 2,
     "solution": false
    }
   },
   "outputs": [
    {
     "name": "stderr",
     "output_type": "stream",
     "text": [
      "/srv/conda/envs/data100/lib/python3.6/site-packages/ipykernel_launcher.py:3: SettingWithCopyWarning: \n",
      "A value is trying to be set on a copy of a slice from a DataFrame.\n",
      "Try using .loc[row_indexer,col_indexer] = value instead\n",
      "\n",
      "See the caveats in the documentation: http://pandas.pydata.org/pandas-docs/stable/indexing.html#indexing-view-versus-copy\n",
      "  This is separate from the ipykernel package so we can avoid doing imports until\n"
     ]
    },
    {
     "data": {
      "text/html": [
       "<div>\n",
       "<style scoped>\n",
       "    .dataframe tbody tr th:only-of-type {\n",
       "        vertical-align: middle;\n",
       "    }\n",
       "\n",
       "    .dataframe tbody tr th {\n",
       "        vertical-align: top;\n",
       "    }\n",
       "\n",
       "    .dataframe thead th {\n",
       "        text-align: right;\n",
       "    }\n",
       "</style>\n",
       "<table border=\"1\" class=\"dataframe\">\n",
       "  <thead>\n",
       "    <tr style=\"text-align: right;\">\n",
       "      <th></th>\n",
       "      <th>time</th>\n",
       "      <th>source</th>\n",
       "      <th>text</th>\n",
       "      <th>retweet_count</th>\n",
       "      <th>est_time</th>\n",
       "    </tr>\n",
       "    <tr>\n",
       "      <th>id</th>\n",
       "      <th></th>\n",
       "      <th></th>\n",
       "      <th></th>\n",
       "      <th></th>\n",
       "      <th></th>\n",
       "    </tr>\n",
       "  </thead>\n",
       "  <tbody>\n",
       "    <tr>\n",
       "      <th>786204978629185536</th>\n",
       "      <td>2016-10-12 14:00:48</td>\n",
       "      <td>Twitter for iPhone</td>\n",
       "      <td>PAY TO PLAY POLITICS. \\n#CrookedHillary https://t.co/wjsl8ITVvk</td>\n",
       "      <td>24915</td>\n",
       "      <td>2016-10-12 09:00:48-05:00</td>\n",
       "    </tr>\n",
       "    <tr>\n",
       "      <th>786201435486781440</th>\n",
       "      <td>2016-10-12 13:46:43</td>\n",
       "      <td>Twitter for iPhone</td>\n",
       "      <td>Very little pick-up by the dishonest media of incredible information provided by WikiLeaks. So dishonest! Rigged system!</td>\n",
       "      <td>22609</td>\n",
       "      <td>2016-10-12 08:46:43-05:00</td>\n",
       "    </tr>\n",
       "    <tr>\n",
       "      <th>786189446274248704</th>\n",
       "      <td>2016-10-12 12:59:05</td>\n",
       "      <td>Twitter for Android</td>\n",
       "      <td>Crooked Hillary Clinton likes to talk about the things she will do but she has been there for 30 years - why didn't she do them?</td>\n",
       "      <td>18329</td>\n",
       "      <td>2016-10-12 07:59:05-05:00</td>\n",
       "    </tr>\n",
       "    <tr>\n",
       "      <th>786054986534969344</th>\n",
       "      <td>2016-10-12 04:04:47</td>\n",
       "      <td>Twitter for iPhone</td>\n",
       "      <td>Thank you Florida- a MOVEMENT that has never been seen before and will never be seen again. Lets get out &amp;amp;… https://t.co/t9XM9wFDZI</td>\n",
       "      <td>18789</td>\n",
       "      <td>2016-10-11 23:04:47-05:00</td>\n",
       "    </tr>\n",
       "    <tr>\n",
       "      <th>786007502639038464</th>\n",
       "      <td>2016-10-12 00:56:06</td>\n",
       "      <td>Twitter for iPhone</td>\n",
       "      <td>Join me Thursday in Florida &amp;amp; Ohio!\\nWest Palm Beach, FL at noon:\\nhttps://t.co/jwbZnQhxg9\\nCincinnati, OH this 7:30pm:\\nhttps://t.co/5w2UhalPIx</td>\n",
       "      <td>7761</td>\n",
       "      <td>2016-10-11 19:56:06-05:00</td>\n",
       "    </tr>\n",
       "  </tbody>\n",
       "</table>\n",
       "</div>"
      ],
      "text/plain": [
       "                                  time               source  \\\n",
       "id                                                            \n",
       "786204978629185536 2016-10-12 14:00:48   Twitter for iPhone   \n",
       "786201435486781440 2016-10-12 13:46:43   Twitter for iPhone   \n",
       "786189446274248704 2016-10-12 12:59:05  Twitter for Android   \n",
       "786054986534969344 2016-10-12 04:04:47   Twitter for iPhone   \n",
       "786007502639038464 2016-10-12 00:56:06   Twitter for iPhone   \n",
       "\n",
       "                                                                                                                                                                    text  \\\n",
       "id                                                                                                                                                                         \n",
       "786204978629185536                                                                                       PAY TO PLAY POLITICS. \\n#CrookedHillary https://t.co/wjsl8ITVvk   \n",
       "786201435486781440                              Very little pick-up by the dishonest media of incredible information provided by WikiLeaks. So dishonest! Rigged system!   \n",
       "786189446274248704                      Crooked Hillary Clinton likes to talk about the things she will do but she has been there for 30 years - why didn't she do them?   \n",
       "786054986534969344               Thank you Florida- a MOVEMENT that has never been seen before and will never be seen again. Lets get out &amp;… https://t.co/t9XM9wFDZI   \n",
       "786007502639038464  Join me Thursday in Florida &amp; Ohio!\\nWest Palm Beach, FL at noon:\\nhttps://t.co/jwbZnQhxg9\\nCincinnati, OH this 7:30pm:\\nhttps://t.co/5w2UhalPIx   \n",
       "\n",
       "                    retweet_count                  est_time  \n",
       "id                                                           \n",
       "786204978629185536          24915 2016-10-12 09:00:48-05:00  \n",
       "786201435486781440          22609 2016-10-12 08:46:43-05:00  \n",
       "786189446274248704          18329 2016-10-12 07:59:05-05:00  \n",
       "786054986534969344          18789 2016-10-11 23:04:47-05:00  \n",
       "786007502639038464           7761 2016-10-11 19:56:06-05:00  "
      ]
     },
     "execution_count": 29,
     "metadata": {},
     "output_type": "execute_result"
    }
   ],
   "source": [
    "trump['est_time'] = (\n",
    "    trump['time'].dt.tz_localize(\"UTC\") # Set initial timezone to UTC\n",
    "                 .dt.tz_convert(\"EST\") # Convert to Eastern Time\n",
    ")\n",
    "trump.head()"
   ]
  },
  {
   "cell_type": "markdown",
   "metadata": {
    "deletable": false,
    "editable": false,
    "nbgrader": {
     "cell_type": "markdown",
     "checksum": "62a7fe09ae5f6e81c5112a2052452467",
     "grade": false,
     "grade_id": "need-to-do",
     "locked": true,
     "schema_version": 2,
     "solution": false
    }
   },
   "source": [
    "**What you need to do:**\n",
    "\n",
    "Add a column called `hour` to the `trump` table which contains the hour of the day as floating point number computed by:\n",
    "\n",
    "$$\n",
    "\\text{hour} + \\frac{\\text{minute}}{60} + \\frac{\\text{second}}{60^2}\n",
    "$$\n"
   ]
  },
  {
   "cell_type": "code",
   "execution_count": 30,
   "metadata": {
    "deletable": false,
    "nbgrader": {
     "cell_type": "code",
     "checksum": "06c6a53e7388e12148e57710efe30726",
     "grade": false,
     "grade_id": "q4b-answer",
     "locked": false,
     "schema_version": 2,
     "solution": true
    },
    "tags": [
     "student"
    ]
   },
   "outputs": [
    {
     "name": "stderr",
     "output_type": "stream",
     "text": [
      "/srv/conda/envs/data100/lib/python3.6/site-packages/ipykernel_launcher.py:1: SettingWithCopyWarning: \n",
      "A value is trying to be set on a copy of a slice from a DataFrame.\n",
      "Try using .loc[row_indexer,col_indexer] = value instead\n",
      "\n",
      "See the caveats in the documentation: http://pandas.pydata.org/pandas-docs/stable/indexing.html#indexing-view-versus-copy\n",
      "  \"\"\"Entry point for launching an IPython kernel.\n"
     ]
    }
   ],
   "source": [
    "trump['hour'] = trump['est_time'].apply(lambda x: float(str(x)[11:13]) + float(str(x)[14:16])/60 + float(str(x)[17:19])/60**2)\n",
    "\n",
    "# make a bar plot here\n",
    "# YOUR CODE HERE\n",
    "#raise NotImplementedError()"
   ]
  },
  {
   "cell_type": "code",
   "execution_count": 31,
   "metadata": {
    "deletable": false,
    "editable": false,
    "nbgrader": {
     "cell_type": "code",
     "checksum": "b0fcc19ae4e12541fa73e3e62f334e01",
     "grade": true,
     "grade_id": "q4b-tests",
     "locked": true,
     "points": 1,
     "schema_version": 2,
     "solution": false
    },
    "tags": [
     "test",
     "q04a"
    ]
   },
   "outputs": [],
   "source": [
    "assert np.isclose(trump.loc[690171032150237184]['hour'], 8.93639)"
   ]
  },
  {
   "cell_type": "markdown",
   "metadata": {
    "deletable": false,
    "editable": false,
    "nbgrader": {
     "cell_type": "markdown",
     "checksum": "00c6bf4a7b09b661a2e430d2fd080a55",
     "grade": false,
     "grade_id": "q4c",
     "locked": true,
     "schema_version": 2,
     "solution": false
    }
   },
   "source": [
    "## Question 4c\n",
    "\n",
    "Use this data along with the seaborn `distplot` function to examine the distribution over hours of the day in eastern time that trump tweets on each device for the 2 most commonly used devices.  Your plot should look similar to the following. \n",
    "\n",
    "<img src=\"images/device_hour2.png\" width=\"600px\" />"
   ]
  },
  {
   "cell_type": "code",
   "execution_count": 32,
   "metadata": {
    "deletable": false,
    "nbgrader": {
     "cell_type": "code",
     "checksum": "8098891f5ad326482ed42b89fb116b10",
     "grade": true,
     "grade_id": "q4c-answer",
     "locked": false,
     "points": 2,
     "schema_version": 2,
     "solution": true
    }
   },
   "outputs": [
    {
     "data": {
      "text/plain": [
       "<matplotlib.legend.Legend at 0x7f1edd36e9b0>"
      ]
     },
     "execution_count": 32,
     "metadata": {},
     "output_type": "execute_result"
    },
    {
     "data": {
      "image/png": "[encoded data removed]",
      "text/plain": [
       "<matplotlib.figure.Figure at 0x7f1edd3c3048>"
      ]
     },
     "metadata": {},
     "output_type": "display_data"
    }
   ],
   "source": [
    "### make your plot here\n",
    "# YOUR CODE HERE\n",
    "iphone= trump[[\"source\",\"hour\"]][trump[\"source\"]== \"Twitter for iPhone\"]\n",
    "android= trump[[\"source\",\"hour\"]][trump[\"source\"] == \"Twitter for Android\"]\n",
    "sns.distplot(iphone['hour'],hist=False,label='iphone')\n",
    "sns.distplot(android['hour'],hist=False,label='android')\n",
    "plt.legend()\n",
    "\n",
    "#raise NotImplementedError()"
   ]
  },
  {
   "cell_type": "markdown",
   "metadata": {
    "deletable": false,
    "editable": false,
    "nbgrader": {
     "cell_type": "markdown",
     "checksum": "7671d02d0497957893438869ee0b2e73",
     "grade": false,
     "grade_id": "q4d",
     "locked": true,
     "schema_version": 2,
     "solution": false
    }
   },
   "source": [
    "\n",
    "## Question 4d\n",
    "\n",
    "According to [this Verge article](https://www.theverge.com/2017/3/29/15103504/donald-trump-iphone-using-switched-android), Donald Trump switched from an Android to an iPhone sometime in March 2017.\n",
    "\n",
    "Create a figure identical to your figure from 4c, except that you should show the results only from 2016.\n",
    "\n",
    "During the campaign, it was theorized that Donald Trump's tweets from Android were written by him personally, and the tweets from iPhone were from his staff. Does your figure give support to this theory?"
   ]
  },
  {
   "cell_type": "code",
   "execution_count": 33,
   "metadata": {
    "deletable": false,
    "nbgrader": {
     "cell_type": "code",
     "checksum": "2a4bfea63d20cf7bdd4eeaedd3cd3d2d",
     "grade": true,
     "grade_id": "cell-ba90f75e6f9b73d6",
     "locked": false,
     "points": 1,
     "schema_version": 2,
     "solution": true
    }
   },
   "outputs": [
    {
     "name": "stderr",
     "output_type": "stream",
     "text": [
      "/srv/conda/envs/data100/lib/python3.6/site-packages/ipykernel_launcher.py:3: SettingWithCopyWarning: \n",
      "A value is trying to be set on a copy of a slice from a DataFrame.\n",
      "Try using .loc[row_indexer,col_indexer] = value instead\n",
      "\n",
      "See the caveats in the documentation: http://pandas.pydata.org/pandas-docs/stable/indexing.html#indexing-view-versus-copy\n",
      "  This is separate from the ipykernel package so we can avoid doing imports until\n",
      "/srv/conda/envs/data100/lib/python3.6/site-packages/ipykernel_launcher.py:5: UserWarning: Boolean Series key will be reindexed to match DataFrame index.\n",
      "  \"\"\"\n",
      "/srv/conda/envs/data100/lib/python3.6/site-packages/ipykernel_launcher.py:6: UserWarning: Boolean Series key will be reindexed to match DataFrame index.\n",
      "  \n"
     ]
    },
    {
     "data": {
      "text/plain": [
       "<matplotlib.legend.Legend at 0x7f1edd301f98>"
      ]
     },
     "execution_count": 33,
     "metadata": {},
     "output_type": "execute_result"
    },
    {
     "data": {
      "image/png": "[encoded data removed]",
      "text/plain": [
       "<matplotlib.figure.Figure at 0x7f1edd3c3160>"
      ]
     },
     "metadata": {},
     "output_type": "display_data"
    }
   ],
   "source": [
    "### make your plot here\n",
    "# YOUR CODE HERE\n",
    "trump['year'] = trump['est_time'].apply(lambda x: float(str(x)[0:4]))\n",
    "new_trump=trump[trump['year']==2016]\n",
    "iphone= new_trump[[\"source\",\"hour\"]][trump[\"source\"]== \"Twitter for iPhone\"]\n",
    "android= new_trump[[\"source\",\"hour\"]][trump[\"source\"] == \"Twitter for Android\"]\n",
    "sns.distplot(iphone['hour'],hist=False,label='iphone')\n",
    "sns.distplot(android['hour'],hist=False,label='android')\n",
    "plt.legend()\n",
    "#raise NotImplementedError()"
   ]
  },
  {
   "cell_type": "markdown",
   "metadata": {
    "deletable": false,
    "nbgrader": {
     "cell_type": "markdown",
     "checksum": "dd2a71cbda4d42eaf1a86490a723f4ea",
     "grade": true,
     "grade_id": "q4d-answer",
     "locked": false,
     "points": 1,
     "schema_version": 2,
     "solution": true
    },
    "tags": [
     "student",
     "written"
    ]
   },
   "source": [
    "The hour iphone tweets maked changed after Trump switch from android to iphone at march 2017. And it becomes similar to andriod tweets, which is always operate by Trump himself(the distribution never changed)."
   ]
  },
  {
   "cell_type": "markdown",
   "metadata": {
    "deletable": false,
    "editable": false,
    "nbgrader": {
     "cell_type": "markdown",
     "checksum": "a59afe12404b1f0811e16801674c53cf",
     "grade": false,
     "grade_id": "q5",
     "locked": true,
     "schema_version": 2,
     "solution": false
    }
   },
   "source": [
    "## Question 5\n",
    "\n",
    "Let's now look at which device he has used over the entire time period of this dataset.\n",
    "\n",
    "To examine the distribution of dates we will convert the date to a fractional year that can be plotted as a distribution.\n",
    "\n",
    "(Code borrowed from https://stackoverflow.com/questions/6451655/python-how-to-convert-datetime-dates-to-decimal-years)"
   ]
  },
  {
   "cell_type": "code",
   "execution_count": 34,
   "metadata": {
    "deletable": false,
    "editable": false,
    "nbgrader": {
     "cell_type": "code",
     "checksum": "473e641d026c095c438d79d7aa94b2f2",
     "grade": false,
     "grade_id": "fractional-year",
     "locked": true,
     "schema_version": 2,
     "solution": false
    }
   },
   "outputs": [
    {
     "name": "stderr",
     "output_type": "stream",
     "text": [
      "/srv/conda/envs/data100/lib/python3.6/site-packages/ipykernel_launcher.py:8: SettingWithCopyWarning: \n",
      "A value is trying to be set on a copy of a slice from a DataFrame.\n",
      "Try using .loc[row_indexer,col_indexer] = value instead\n",
      "\n",
      "See the caveats in the documentation: http://pandas.pydata.org/pandas-docs/stable/indexing.html#indexing-view-versus-copy\n",
      "  \n"
     ]
    }
   ],
   "source": [
    "import datetime\n",
    "def year_fraction(date):\n",
    "    start = datetime.date(date.year, 1, 1).toordinal()\n",
    "    year_length = datetime.date(date.year+1, 1, 1).toordinal() - start\n",
    "    return date.year + float(date.toordinal() - start) / year_length\n",
    "\n",
    "\n",
    "trump['year'] = trump['time'].apply(year_fraction)"
   ]
  },
  {
   "cell_type": "markdown",
   "metadata": {
    "deletable": false,
    "editable": false,
    "nbgrader": {
     "cell_type": "markdown",
     "checksum": "64eb067a351f92005ef87b72f2298f8a",
     "grade": false,
     "grade_id": "q5a",
     "locked": true,
     "schema_version": 2,
     "solution": false
    }
   },
   "source": [
    "### Question 5a\n",
    "\n",
    "Use the `sns.distplot` to overlay the distributions of the 2 most frequently used web technologies over the years.  Your final plot should look like:\n",
    "\n",
    "<img src=\"images/source_years.png\" width=\"600px\" />\n"
   ]
  },
  {
   "cell_type": "code",
   "execution_count": 35,
   "metadata": {
    "deletable": false,
    "nbgrader": {
     "cell_type": "code",
     "checksum": "1e4c5f933e6074bd85bb221f71bf9e9b",
     "grade": true,
     "grade_id": "q5a-answer",
     "locked": false,
     "points": 2,
     "schema_version": 2,
     "solution": true
    }
   },
   "outputs": [
    {
     "data": {
      "text/plain": [
       "<matplotlib.legend.Legend at 0x7f1edd28cfd0>"
      ]
     },
     "execution_count": 35,
     "metadata": {},
     "output_type": "execute_result"
    },
    {
     "data": {
      "image/png": "[encoded data removed]",
      "text/plain": [
       "<matplotlib.figure.Figure at 0x7f1ede5dbef0>"
      ]
     },
     "metadata": {},
     "output_type": "display_data"
    }
   ],
   "source": [
    "iphone= trump[[\"source\",\"year\"]][trump[\"source\"]== \"Twitter for iPhone\"]\n",
    "android= trump[[\"source\",\"year\"]][trump[\"source\"] == \"Twitter for Android\"]\n",
    "sns.distplot(iphone['year'],label='iphone')\n",
    "sns.distplot(android['year'],label='android')\n",
    "plt.legend()\n",
    "\n",
    "# YOUR CODE HERE\n",
    "#raise NotImplementedError()"
   ]
  },
  {
   "cell_type": "markdown",
   "metadata": {
    "deletable": false,
    "editable": false,
    "nbgrader": {
     "cell_type": "markdown",
     "checksum": "9160f63c38f2638e31ad51b3260bef67",
     "grade": false,
     "grade_id": "q6-header",
     "locked": true,
     "schema_version": 2,
     "solution": false
    }
   },
   "source": [
    "## Question 6: Sentiment Analysis\n",
    "\n",
    "It turns out that we can use the words in Trump's tweets to calculate a measure of the sentiment of the tweet. For example, the sentence \"I love America!\" has positive sentiment, whereas the sentence \"I hate taxes!\" has a negative sentiment. In addition, some words have stronger positive / negative sentiment than others: \"I love America.\" is more positive than \"I like America.\"\n",
    "\n",
    "We will use the [VADER (Valence Aware Dictionary and sEntiment Reasoner)](https://github.com/cjhutto/vaderSentiment) lexicon to analyze the sentiment of Trump's tweets. VADER is a lexicon and rule-based sentiment analysis tool that is specifically attuned to sentiments expressed in social media which is great for our usage.\n",
    "\n",
    "The VADER lexicon gives the sentiment of individual words. Run the following cell to show the first few rows of the lexicon:"
   ]
  },
  {
   "cell_type": "code",
   "execution_count": 36,
   "metadata": {
    "deletable": false,
    "editable": false,
    "nbgrader": {
     "cell_type": "code",
     "checksum": "4bdf61c45c5bf6f12052419af685d59e",
     "grade": false,
     "grade_id": "head-vader",
     "locked": true,
     "schema_version": 2,
     "solution": false
    }
   },
   "outputs": [
    {
     "name": "stdout",
     "output_type": "stream",
     "text": [
      "$:\t-1.5\t0.80623\t[-1, -1, -1, -1, -3, -1, -3, -1, -2, -1]\n",
      "%)\t-0.4\t1.0198\t[-1, 0, -1, 0, 0, -2, -1, 2, -1, 0]\n",
      "%-)\t-1.5\t1.43178\t[-2, 0, -2, -2, -1, 2, -2, -3, -2, -3]\n",
      "&-:\t-0.4\t1.42829\t[-3, -1, 0, 0, -1, -1, -1, 2, -1, 2]\n",
      "&:\t-0.7\t0.64031\t[0, -1, -1, -1, 1, -1, -1, -1, -1, -1]\n",
      "( '}{' )\t1.6\t0.66332\t[1, 2, 2, 1, 1, 2, 2, 1, 3, 1]\n",
      "(%\t-0.9\t0.9434\t[0, 0, 1, -1, -1, -1, -2, -2, -1, -2]\n",
      "('-:\t2.2\t1.16619\t[4, 1, 4, 3, 1, 2, 3, 1, 2, 1]\n",
      "(':\t2.3\t0.9\t[1, 3, 3, 2, 2, 4, 2, 3, 1, 2]\n",
      "((-:\t2.1\t0.53852\t[2, 2, 2, 1, 2, 3, 2, 2, 3, 2]\n",
      "\n"
     ]
    }
   ],
   "source": [
    "print(''.join(open(\"vader_lexicon.txt\").readlines()[:10]))"
   ]
  },
  {
   "cell_type": "markdown",
   "metadata": {
    "deletable": false,
    "editable": false,
    "nbgrader": {
     "cell_type": "markdown",
     "checksum": "631d386141906603b7febb8ce0901638",
     "grade": false,
     "grade_id": "q6a-header",
     "locked": true,
     "schema_version": 2,
     "solution": false
    }
   },
   "source": [
    "## Question 6a\n",
    "\n",
    "As you can see, the lexicon contains emojis too! The first column of the lexicon is the *token*, or the word itself. The second column is the *polarity* of the word, or how positive / negative it is.\n",
    "\n",
    "(How did they decide the polarities of these words? What are the other two columns in the lexicon? See the link above.)\n",
    "\n",
    " Read in the lexicon into a DataFrame called `sent`. The index of the DF should be the tokens in the lexicon. `sent` should have one column: `polarity`: The polarity of each token."
   ]
  },
  {
   "cell_type": "code",
   "execution_count": 37,
   "metadata": {
    "deletable": false,
    "nbgrader": {
     "cell_type": "code",
     "checksum": "962759aad285ccfb16f06dc8dd86035c",
     "grade": false,
     "grade_id": "q6a1",
     "locked": false,
     "schema_version": 2,
     "solution": true
    },
    "tags": [
     "student"
    ]
   },
   "outputs": [],
   "source": [
    "sent = pd.read_table(\"vader_lexicon.txt\",header=None,usecols=[0,1],index_col=0)\n",
    "sent.columns = [\"polarity\"]\n",
    "\n",
    "# YOUR CODE HERE\n",
    "#raise NotImplementedError()"
   ]
  },
  {
   "cell_type": "code",
   "execution_count": 38,
   "metadata": {
    "deletable": false,
    "editable": false,
    "nbgrader": {
     "cell_type": "code",
     "checksum": "417f93b4eb89b4206d6b77725b72e56a",
     "grade": true,
     "grade_id": "q6a-test1",
     "locked": true,
     "points": 1,
     "schema_version": 2,
     "solution": false
    },
    "tags": [
     "test",
     "q05a"
    ]
   },
   "outputs": [],
   "source": [
    "assert isinstance(sent, pd.DataFrame)\n",
    "assert sent.shape == (7517, 1)\n",
    "assert list(sent.index[5000:5005]) == ['paranoids', 'pardon', 'pardoned', 'pardoning', 'pardons']\n",
    "assert np.allclose(sent['polarity'].head(), [-1.5, -0.4, -1.5, -0.4, -0.7])"
   ]
  },
  {
   "cell_type": "markdown",
   "metadata": {
    "deletable": false,
    "editable": false,
    "nbgrader": {
     "cell_type": "markdown",
     "checksum": "53a09bb6ee188a572ee0c8501087ac9c",
     "grade": false,
     "grade_id": "q6b-header",
     "locked": true,
     "schema_version": 2,
     "solution": false
    }
   },
   "source": [
    "## Question 6b\n",
    "\n",
    "Now, let's use this lexicon to calculate the overall sentiment for each of Trump's tweets. Here's the basic idea:\n",
    "\n",
    "1. For each tweet, find the sentiment of each word.\n",
    "2. Calculate the sentiment of each tweet by taking the sum of the sentiments of its words.\n",
    "\n",
    "First, let's lowercase the text in the tweets since the lexicon is also lowercase. Set the `text` column of the `trump` DF to be the lowercased text of each tweet."
   ]
  },
  {
   "cell_type": "code",
   "execution_count": 39,
   "metadata": {
    "deletable": false,
    "nbgrader": {
     "cell_type": "code",
     "checksum": "a8bb2469a666ad8f1388abb6ad808881",
     "grade": false,
     "grade_id": "q6b-answer",
     "locked": false,
     "schema_version": 2,
     "solution": true
    },
    "tags": [
     "student"
    ]
   },
   "outputs": [
    {
     "name": "stderr",
     "output_type": "stream",
     "text": [
      "/srv/conda/envs/data100/lib/python3.6/site-packages/ipykernel_launcher.py:1: SettingWithCopyWarning: \n",
      "A value is trying to be set on a copy of a slice from a DataFrame.\n",
      "Try using .loc[row_indexer,col_indexer] = value instead\n",
      "\n",
      "See the caveats in the documentation: http://pandas.pydata.org/pandas-docs/stable/indexing.html#indexing-view-versus-copy\n",
      "  \"\"\"Entry point for launching an IPython kernel.\n"
     ]
    }
   ],
   "source": [
    "trump[\"text\"] = trump[\"text\"].apply(lambda x: x.lower())\n",
    "# YOUR CODE HERE\n",
    "#raise NotImplementedError()"
   ]
  },
  {
   "cell_type": "code",
   "execution_count": 40,
   "metadata": {
    "deletable": false,
    "editable": false,
    "nbgrader": {
     "cell_type": "code",
     "checksum": "13de085e42b82bf985f60f6489ed6946",
     "grade": true,
     "grade_id": "q6b-test",
     "locked": true,
     "points": 1,
     "schema_version": 2,
     "solution": false
    },
    "tags": [
     "test",
     "q05b"
    ]
   },
   "outputs": [],
   "source": [
    "assert trump['text'].loc[884740553040175104] == 'working hard to get the olympics for the united states (l.a.). stay tuned!'"
   ]
  },
  {
   "cell_type": "markdown",
   "metadata": {
    "deletable": false,
    "editable": false,
    "nbgrader": {
     "cell_type": "markdown",
     "checksum": "b985c716dee1121b3764f29e1648fe14",
     "grade": false,
     "grade_id": "q6c-header",
     "locked": true,
     "schema_version": 2,
     "solution": false
    }
   },
   "source": [
    "## Question 6c\n",
    "\n",
    "Now, let's get rid of punctuation since it'll cause us to fail to match words. Create a new column called `no_punc` in the `trump` DF to be the lowercased text of each tweet with all punctuation replaced by a single space. We consider punctuation characters to be any character that isn't a Unicode word character or a whitespace character. You may want to consult the Python documentation on regexes for this problem.\n",
    "\n",
    "(Why don't we simply remove punctuation instead of replacing with a space? See if you can figure this out by looking at the tweet data.)"
   ]
  },
  {
   "cell_type": "code",
   "execution_count": 41,
   "metadata": {
    "deletable": false,
    "nbgrader": {
     "cell_type": "code",
     "checksum": "2901325706be092abb437c239e7d3d83",
     "grade": false,
     "grade_id": "q6c",
     "locked": false,
     "schema_version": 2,
     "solution": true
    },
    "tags": [
     "student"
    ]
   },
   "outputs": [
    {
     "name": "stderr",
     "output_type": "stream",
     "text": [
      "/srv/conda/envs/data100/lib/python3.6/site-packages/ipykernel_launcher.py:3: SettingWithCopyWarning: \n",
      "A value is trying to be set on a copy of a slice from a DataFrame.\n",
      "Try using .loc[row_indexer,col_indexer] = value instead\n",
      "\n",
      "See the caveats in the documentation: http://pandas.pydata.org/pandas-docs/stable/indexing.html#indexing-view-versus-copy\n",
      "  This is separate from the ipykernel package so we can avoid doing imports until\n"
     ]
    },
    {
     "data": {
      "text/html": [
       "<div>\n",
       "<style scoped>\n",
       "    .dataframe tbody tr th:only-of-type {\n",
       "        vertical-align: middle;\n",
       "    }\n",
       "\n",
       "    .dataframe tbody tr th {\n",
       "        vertical-align: top;\n",
       "    }\n",
       "\n",
       "    .dataframe thead th {\n",
       "        text-align: right;\n",
       "    }\n",
       "</style>\n",
       "<table border=\"1\" class=\"dataframe\">\n",
       "  <thead>\n",
       "    <tr style=\"text-align: right;\">\n",
       "      <th></th>\n",
       "      <th>time</th>\n",
       "      <th>source</th>\n",
       "      <th>text</th>\n",
       "      <th>retweet_count</th>\n",
       "      <th>est_time</th>\n",
       "      <th>hour</th>\n",
       "      <th>year</th>\n",
       "      <th>no_punc</th>\n",
       "    </tr>\n",
       "    <tr>\n",
       "      <th>id</th>\n",
       "      <th></th>\n",
       "      <th></th>\n",
       "      <th></th>\n",
       "      <th></th>\n",
       "      <th></th>\n",
       "      <th></th>\n",
       "      <th></th>\n",
       "      <th></th>\n",
       "    </tr>\n",
       "  </thead>\n",
       "  <tbody>\n",
       "    <tr>\n",
       "      <th>786204978629185536</th>\n",
       "      <td>2016-10-12 14:00:48</td>\n",
       "      <td>Twitter for iPhone</td>\n",
       "      <td>pay to play politics. \\n#crookedhillary https://t.co/wjsl8itvvk</td>\n",
       "      <td>24915</td>\n",
       "      <td>2016-10-12 09:00:48-05:00</td>\n",
       "      <td>9.013333</td>\n",
       "      <td>2016.778689</td>\n",
       "      <td>pay to play politics  \\n crookedhillary https   t co wjsl8itvvk</td>\n",
       "    </tr>\n",
       "    <tr>\n",
       "      <th>786201435486781440</th>\n",
       "      <td>2016-10-12 13:46:43</td>\n",
       "      <td>Twitter for iPhone</td>\n",
       "      <td>very little pick-up by the dishonest media of incredible information provided by wikileaks. so dishonest! rigged system!</td>\n",
       "      <td>22609</td>\n",
       "      <td>2016-10-12 08:46:43-05:00</td>\n",
       "      <td>8.778611</td>\n",
       "      <td>2016.778689</td>\n",
       "      <td>very little pick up by the dishonest media of incredible information provided by wikileaks  so dishonest  rigged system</td>\n",
       "    </tr>\n",
       "    <tr>\n",
       "      <th>786189446274248704</th>\n",
       "      <td>2016-10-12 12:59:05</td>\n",
       "      <td>Twitter for Android</td>\n",
       "      <td>crooked hillary clinton likes to talk about the things she will do but she has been there for 30 years - why didn't she do them?</td>\n",
       "      <td>18329</td>\n",
       "      <td>2016-10-12 07:59:05-05:00</td>\n",
       "      <td>7.984722</td>\n",
       "      <td>2016.778689</td>\n",
       "      <td>crooked hillary clinton likes to talk about the things she will do but she has been there for 30 years   why didn t she do them</td>\n",
       "    </tr>\n",
       "    <tr>\n",
       "      <th>786054986534969344</th>\n",
       "      <td>2016-10-12 04:04:47</td>\n",
       "      <td>Twitter for iPhone</td>\n",
       "      <td>thank you florida- a movement that has never been seen before and will never be seen again. lets get out &amp;amp;… https://t.co/t9xm9wfdzi</td>\n",
       "      <td>18789</td>\n",
       "      <td>2016-10-11 23:04:47-05:00</td>\n",
       "      <td>23.079722</td>\n",
       "      <td>2016.778689</td>\n",
       "      <td>thank you florida  a movement that has never been seen before and will never be seen again  lets get out  amp   https   t co t9xm9wfdzi</td>\n",
       "    </tr>\n",
       "    <tr>\n",
       "      <th>786007502639038464</th>\n",
       "      <td>2016-10-12 00:56:06</td>\n",
       "      <td>Twitter for iPhone</td>\n",
       "      <td>join me thursday in florida &amp;amp; ohio!\\nwest palm beach, fl at noon:\\nhttps://t.co/jwbznqhxg9\\ncincinnati, oh this 7:30pm:\\nhttps://t.co/5w2uhalpix</td>\n",
       "      <td>7761</td>\n",
       "      <td>2016-10-11 19:56:06-05:00</td>\n",
       "      <td>19.935000</td>\n",
       "      <td>2016.778689</td>\n",
       "      <td>join me thursday in florida  amp  ohio \\nwest palm beach  fl at noon \\nhttps   t co jwbznqhxg9\\ncincinnati  oh this 7 30pm \\nhttps   t co 5w2uhalpix</td>\n",
       "    </tr>\n",
       "    <tr>\n",
       "      <th>785979396620324865</th>\n",
       "      <td>2016-10-11 23:04:25</td>\n",
       "      <td>Twitter for Android</td>\n",
       "      <td>wow, @cnn town hall questions were given to crooked hillary clinton in advance of big debates against bernie sanders. hillary &amp;amp; cnn fraud!</td>\n",
       "      <td>28714</td>\n",
       "      <td>2016-10-11 18:04:25-05:00</td>\n",
       "      <td>18.073611</td>\n",
       "      <td>2016.775956</td>\n",
       "      <td>wow   cnn town hall questions were given to crooked hillary clinton in advance of big debates against bernie sanders  hillary  amp  cnn fraud</td>\n",
       "    </tr>\n",
       "    <tr>\n",
       "      <th>785957064480653313</th>\n",
       "      <td>2016-10-11 21:35:41</td>\n",
       "      <td>Twitter for iPhone</td>\n",
       "      <td>thank you texas! if you haven't registered to vote- today is your last day. go to: https://t.co/hfihpea3sp &amp;amp; get ou… https://t.co/gxbdrd4x2k</td>\n",
       "      <td>12555</td>\n",
       "      <td>2016-10-11 16:35:41-05:00</td>\n",
       "      <td>16.594722</td>\n",
       "      <td>2016.775956</td>\n",
       "      <td>thank you texas  if you haven t registered to vote  today is your last day  go to  https   t co hfihpea3sp  amp  get ou  https   t co gxbdrd4x2k</td>\n",
       "    </tr>\n",
       "    <tr>\n",
       "      <th>785947219216125952</th>\n",
       "      <td>2016-10-11 20:56:33</td>\n",
       "      <td>Twitter for iPhone</td>\n",
       "      <td>voter registration deadlines today. you can register now at: https://t.co/hfihpea3sp and get out to… https://t.co/llfdf0drx4</td>\n",
       "      <td>8094</td>\n",
       "      <td>2016-10-11 15:56:33-05:00</td>\n",
       "      <td>15.942500</td>\n",
       "      <td>2016.775956</td>\n",
       "      <td>voter registration deadlines today  you can register now at  https   t co hfihpea3sp and get out to  https   t co llfdf0drx4</td>\n",
       "    </tr>\n",
       "    <tr>\n",
       "      <th>785913754194104320</th>\n",
       "      <td>2016-10-11 18:43:35</td>\n",
       "      <td>Twitter for iPhone</td>\n",
       "      <td>don't let her fool us again. https://t.co/3qsoadfh7s</td>\n",
       "      <td>28432</td>\n",
       "      <td>2016-10-11 13:43:35-05:00</td>\n",
       "      <td>13.726389</td>\n",
       "      <td>2016.775956</td>\n",
       "      <td>don t let her fool us again  https   t co 3qsoadfh7s</td>\n",
       "    </tr>\n",
       "    <tr>\n",
       "      <th>785910334427058177</th>\n",
       "      <td>2016-10-11 18:29:59</td>\n",
       "      <td>Twitter for iPhone</td>\n",
       "      <td>crooked's state dept gave special attention to \"friends of bill\" after the haiti earthquake. unbelievable! https://t.co/opp2l8ln0j</td>\n",
       "      <td>13098</td>\n",
       "      <td>2016-10-11 13:29:59-05:00</td>\n",
       "      <td>13.499722</td>\n",
       "      <td>2016.775956</td>\n",
       "      <td>crooked s state dept gave special attention to  friends of bill  after the haiti earthquake  unbelievable  https   t co opp2l8ln0j</td>\n",
       "    </tr>\n",
       "    <tr>\n",
       "      <th>785904113540210688</th>\n",
       "      <td>2016-10-11 18:05:16</td>\n",
       "      <td>Twitter for iPhone</td>\n",
       "      <td>rt @donaldjtrumpjr: 13 states have voter registration deadlines today: fl, oh, pa, mi, ga, tx, nm, in, la, tn, ar, ky, sc.\\n\\nregister: https…</td>\n",
       "      <td>6719</td>\n",
       "      <td>2016-10-11 13:05:16-05:00</td>\n",
       "      <td>13.087778</td>\n",
       "      <td>2016.775956</td>\n",
       "      <td>rt  donaldjtrumpjr  13 states have voter registration deadlines today  fl  oh  pa  mi  ga  tx  nm  in  la  tn  ar  ky  sc \\n\\nregister  https</td>\n",
       "    </tr>\n",
       "    <tr>\n",
       "      <th>785898532645502980</th>\n",
       "      <td>2016-10-11 17:43:06</td>\n",
       "      <td>Twitter for iPhone</td>\n",
       "      <td>i hope people are looking at the disgraceful behavior of hillary clinton as exposed by wikileaks. she is unfit to run.</td>\n",
       "      <td>23235</td>\n",
       "      <td>2016-10-11 12:43:06-05:00</td>\n",
       "      <td>12.718333</td>\n",
       "      <td>2016.775956</td>\n",
       "      <td>i hope people are looking at the disgraceful behavior of hillary clinton as exposed by wikileaks  she is unfit to run</td>\n",
       "    </tr>\n",
       "    <tr>\n",
       "      <th>785890855760465920</th>\n",
       "      <td>2016-10-11 17:12:35</td>\n",
       "      <td>Twitter for Android</td>\n",
       "      <td>in texas now, leaving soon for big rally in florida!</td>\n",
       "      <td>8139</td>\n",
       "      <td>2016-10-11 12:12:35-05:00</td>\n",
       "      <td>12.209722</td>\n",
       "      <td>2016.775956</td>\n",
       "      <td>in texas now  leaving soon for big rally in florida</td>\n",
       "    </tr>\n",
       "    <tr>\n",
       "      <th>785885793340448769</th>\n",
       "      <td>2016-10-11 16:52:28</td>\n",
       "      <td>Twitter for Android</td>\n",
       "      <td>the very foul mouthed sen. john mccain begged for my support during his  primary (i gave, he won), then dropped me over locker room remarks!</td>\n",
       "      <td>21993</td>\n",
       "      <td>2016-10-11 11:52:28-05:00</td>\n",
       "      <td>11.874444</td>\n",
       "      <td>2016.775956</td>\n",
       "      <td>the very foul mouthed sen  john mccain begged for my support during his  primary  i gave  he won   then dropped me over locker room remarks</td>\n",
       "    </tr>\n",
       "    <tr>\n",
       "      <th>785863826361184257</th>\n",
       "      <td>2016-10-11 15:25:11</td>\n",
       "      <td>Twitter for iPhone</td>\n",
       "      <td>wow. unbelievable. https://t.co/rcbpccmwnd</td>\n",
       "      <td>19035</td>\n",
       "      <td>2016-10-11 10:25:11-05:00</td>\n",
       "      <td>10.419722</td>\n",
       "      <td>2016.775956</td>\n",
       "      <td>wow  unbelievable  https   t co rcbpccmwnd</td>\n",
       "    </tr>\n",
       "    <tr>\n",
       "      <th>785854588654092290</th>\n",
       "      <td>2016-10-11 14:48:29</td>\n",
       "      <td>Twitter for iPhone</td>\n",
       "      <td>disloyal r's are far more difficult than crooked hillary. they come at you from all sides. they don’t know how to win - i will teach them!</td>\n",
       "      <td>22089</td>\n",
       "      <td>2016-10-11 09:48:29-05:00</td>\n",
       "      <td>9.808056</td>\n",
       "      <td>2016.775956</td>\n",
       "      <td>disloyal r s are far more difficult than crooked hillary  they come at you from all sides  they don t know how to win   i will teach them</td>\n",
       "    </tr>\n",
       "    <tr>\n",
       "      <th>785846205750337537</th>\n",
       "      <td>2016-10-11 14:15:10</td>\n",
       "      <td>Twitter Web Client</td>\n",
       "      <td>with the exception of cheating bernie out of the nom the dems have always proven to be far more loyal to each other than the republicans!</td>\n",
       "      <td>14909</td>\n",
       "      <td>2016-10-11 09:15:10-05:00</td>\n",
       "      <td>9.252778</td>\n",
       "      <td>2016.775956</td>\n",
       "      <td>with the exception of cheating bernie out of the nom the dems have always proven to be far more loyal to each other than the republicans</td>\n",
       "    </tr>\n",
       "    <tr>\n",
       "      <th>785842546878578688</th>\n",
       "      <td>2016-10-11 14:00:38</td>\n",
       "      <td>Twitter for iPhone</td>\n",
       "      <td>it is so nice that the shackles have been taken off me and i can now fight for america the way i want to.</td>\n",
       "      <td>23727</td>\n",
       "      <td>2016-10-11 09:00:38-05:00</td>\n",
       "      <td>9.010556</td>\n",
       "      <td>2016.775956</td>\n",
       "      <td>it is so nice that the shackles have been taken off me and i can now fight for america the way i want to</td>\n",
       "    </tr>\n",
       "    <tr>\n",
       "      <th>785842270801133568</th>\n",
       "      <td>2016-10-11 13:59:32</td>\n",
       "      <td>Twitter for iPhone</td>\n",
       "      <td>rt @erictrump: 13 states have voter registration deadlines today: fl, oh, pa, mi, ga, tx, nm, in, la, tn, ar, ky, sc.\\n\\nregister: https://t.…</td>\n",
       "      <td>8818</td>\n",
       "      <td>2016-10-11 08:59:32-05:00</td>\n",
       "      <td>8.992222</td>\n",
       "      <td>2016.775956</td>\n",
       "      <td>rt  erictrump  13 states have voter registration deadlines today  fl  oh  pa  mi  ga  tx  nm  in  la  tn  ar  ky  sc \\n\\nregister  https   t</td>\n",
       "    </tr>\n",
       "    <tr>\n",
       "      <th>785828772423561216</th>\n",
       "      <td>2016-10-11 13:05:53</td>\n",
       "      <td>Twitter for Android</td>\n",
       "      <td>our very weak and ineffective leader, paul ryan, had a bad conference call where his members went wild at his disloyalty.</td>\n",
       "      <td>17774</td>\n",
       "      <td>2016-10-11 08:05:53-05:00</td>\n",
       "      <td>8.098056</td>\n",
       "      <td>2016.775956</td>\n",
       "      <td>our very weak and ineffective leader  paul ryan  had a bad conference call where his members went wild at his disloyalty</td>\n",
       "    </tr>\n",
       "    <tr>\n",
       "      <th>785816454042124288</th>\n",
       "      <td>2016-10-11 12:16:57</td>\n",
       "      <td>Twitter for iPhone</td>\n",
       "      <td>despite winning the second debate in a landslide (every poll), it is hard to do well when paul ryan and others give zero support!</td>\n",
       "      <td>18035</td>\n",
       "      <td>2016-10-11 07:16:57-05:00</td>\n",
       "      <td>7.282500</td>\n",
       "      <td>2016.775956</td>\n",
       "      <td>despite winning the second debate in a landslide  every poll   it is hard to do well when paul ryan and others give zero support</td>\n",
       "    </tr>\n",
       "    <tr>\n",
       "      <th>785654535234531329</th>\n",
       "      <td>2016-10-11 01:33:32</td>\n",
       "      <td>Twitter for iPhone</td>\n",
       "      <td>thank you pennsylvania. this is a movement like we have never seen before! #votetrumppence16 on 11/8/16- together,… https://t.co/x0197jl5ru</td>\n",
       "      <td>15018</td>\n",
       "      <td>2016-10-10 20:33:32-05:00</td>\n",
       "      <td>20.558889</td>\n",
       "      <td>2016.775956</td>\n",
       "      <td>thank you pennsylvania  this is a movement like we have never seen before   votetrumppence16 on 11 8 16  together   https   t co x0197jl5ru</td>\n",
       "    </tr>\n",
       "    <tr>\n",
       "      <th>785608815962099712</th>\n",
       "      <td>2016-10-10 22:31:52</td>\n",
       "      <td>Twitter for iPhone</td>\n",
       "      <td>is this really america? terrible! https://t.co/wiwc61pifu</td>\n",
       "      <td>19892</td>\n",
       "      <td>2016-10-10 17:31:52-05:00</td>\n",
       "      <td>17.531111</td>\n",
       "      <td>2016.773224</td>\n",
       "      <td>is this really america  terrible  https   t co wiwc61pifu</td>\n",
       "    </tr>\n",
       "    <tr>\n",
       "      <th>785563318652178432</th>\n",
       "      <td>2016-10-10 19:31:04</td>\n",
       "      <td>Twitter for Android</td>\n",
       "      <td>wow, @cnn got caught fixing their \"focus group\" in order to make crooked hillary look better. really pathetic and totally dishonest!</td>\n",
       "      <td>28336</td>\n",
       "      <td>2016-10-10 14:31:04-05:00</td>\n",
       "      <td>14.517778</td>\n",
       "      <td>2016.773224</td>\n",
       "      <td>wow   cnn got caught fixing their  focus group  in order to make crooked hillary look better  really pathetic and totally dishonest</td>\n",
       "    </tr>\n",
       "    <tr>\n",
       "      <th>785561269571026946</th>\n",
       "      <td>2016-10-10 19:22:56</td>\n",
       "      <td>Twitter for iPhone</td>\n",
       "      <td>debate polls look great - thank you!\\n#maga #americafirst https://t.co/4peq3sswdz</td>\n",
       "      <td>15732</td>\n",
       "      <td>2016-10-10 14:22:56-05:00</td>\n",
       "      <td>14.382222</td>\n",
       "      <td>2016.773224</td>\n",
       "      <td>debate polls look great   thank you \\n maga  americafirst https   t co 4peq3sswdz</td>\n",
       "    </tr>\n",
       "    <tr>\n",
       "      <th>785559022082658305</th>\n",
       "      <td>2016-10-10 19:14:00</td>\n",
       "      <td>Twitter for iPhone</td>\n",
       "      <td>cnn is the worst - fortunately they have bad ratings because everyone knows they are biased. https://t.co/ofrfny2ruy</td>\n",
       "      <td>14212</td>\n",
       "      <td>2016-10-10 14:14:00-05:00</td>\n",
       "      <td>14.233333</td>\n",
       "      <td>2016.773224</td>\n",
       "      <td>cnn is the worst   fortunately they have bad ratings because everyone knows they are biased  https   t co ofrfny2ruy</td>\n",
       "    </tr>\n",
       "    <tr>\n",
       "      <th>785530928256933888</th>\n",
       "      <td>2016-10-10 17:22:22</td>\n",
       "      <td>Twitter for Android</td>\n",
       "      <td>paul ryan should spend more time on balancing the budget, jobs and illegal immigration and not waste his time on fighting republican nominee</td>\n",
       "      <td>29781</td>\n",
       "      <td>2016-10-10 12:22:22-05:00</td>\n",
       "      <td>12.372778</td>\n",
       "      <td>2016.773224</td>\n",
       "      <td>paul ryan should spend more time on balancing the budget  jobs and illegal immigration and not waste his time on fighting republican nominee</td>\n",
       "    </tr>\n",
       "    <tr>\n",
       "      <th>785527400528568320</th>\n",
       "      <td>2016-10-10 17:08:21</td>\n",
       "      <td>Twitter for Android</td>\n",
       "      <td>thank you for all of the great comments on the debate last night. very exciting!</td>\n",
       "      <td>11795</td>\n",
       "      <td>2016-10-10 12:08:21-05:00</td>\n",
       "      <td>12.139167</td>\n",
       "      <td>2016.773224</td>\n",
       "      <td>thank you for all of the great comments on the debate last night  very exciting</td>\n",
       "    </tr>\n",
       "    <tr>\n",
       "      <th>785323809062653952</th>\n",
       "      <td>2016-10-10 03:39:21</td>\n",
       "      <td>Twitter for iPhone</td>\n",
       "      <td>thank you st. louis, missouri!\\n#makeamericagreatagain  \\nhttps://t.co/2llbltf0me https://t.co/wbmvxf1a9d</td>\n",
       "      <td>16007</td>\n",
       "      <td>2016-10-09 22:39:21-05:00</td>\n",
       "      <td>22.655833</td>\n",
       "      <td>2016.773224</td>\n",
       "      <td>thank you st  louis  missouri \\n makeamericagreatagain  \\nhttps   t co 2llbltf0me https   t co wbmvxf1a9d</td>\n",
       "    </tr>\n",
       "    <tr>\n",
       "      <th>785314249044140036</th>\n",
       "      <td>2016-10-10 03:01:22</td>\n",
       "      <td>Twitter for iPhone</td>\n",
       "      <td>rt @mike_pence: congrats to my running mate @realdonaldtrump on a big debate win! proud to stand with you as we #maga.</td>\n",
       "      <td>40835</td>\n",
       "      <td>2016-10-09 22:01:22-05:00</td>\n",
       "      <td>22.022778</td>\n",
       "      <td>2016.773224</td>\n",
       "      <td>rt  mike_pence  congrats to my running mate  realdonaldtrump on a big debate win  proud to stand with you as we  maga</td>\n",
       "    </tr>\n",
       "    <tr>\n",
       "      <th>...</th>\n",
       "      <td>...</td>\n",
       "      <td>...</td>\n",
       "      <td>...</td>\n",
       "      <td>...</td>\n",
       "      <td>...</td>\n",
       "      <td>...</td>\n",
       "      <td>...</td>\n",
       "      <td>...</td>\n",
       "    </tr>\n",
       "    <tr>\n",
       "      <th>966766375292358659</th>\n",
       "      <td>2018-02-22 20:07:20</td>\n",
       "      <td>Twitter for iPhone</td>\n",
       "      <td>today, it was my great honor to host a school safety roundtable at the @whitehouse with state and local leaders, law enforcement officers, and education officials.\\n\\nthere is nothing more important than protecting our children. they deserve to be safe, and we will deliver! h...</td>\n",
       "      <td>17515</td>\n",
       "      <td>2018-02-22 15:07:20-05:00</td>\n",
       "      <td>15.122222</td>\n",
       "      <td>2018.142466</td>\n",
       "      <td>today  it was my great honor to host a school safety roundtable at the  whitehouse with state and local leaders  law enforcement officers  and education officials \\n\\nthere is nothing more important than protecting our children  they deserve to be safe  and we will deliver  h...</td>\n",
       "    </tr>\n",
       "    <tr>\n",
       "      <th>966711641378381826</th>\n",
       "      <td>2018-02-22 16:29:50</td>\n",
       "      <td>Media Studio</td>\n",
       "      <td>on behalf of an entire nation, congratulations to the u.s. women's hockey team on winning the gold! #goteamusa #olympics https://t.co/3cuzwlvgua</td>\n",
       "      <td>17162</td>\n",
       "      <td>2018-02-22 11:29:50-05:00</td>\n",
       "      <td>11.497222</td>\n",
       "      <td>2018.142466</td>\n",
       "      <td>on behalf of an entire nation  congratulations to the u s  women s hockey team on winning the gold   goteamusa  olympics https   t co 3cuzwlvgua</td>\n",
       "    </tr>\n",
       "    <tr>\n",
       "      <th>966687491616059392</th>\n",
       "      <td>2018-02-22 14:53:52</td>\n",
       "      <td>Twitter for iPhone</td>\n",
       "      <td>will be meeting with lawmakers today at 11:30 a.m. to discuss school safety.  next week it will be with our nation’s governors. it’s been many years of all talk, no action. we’ll get it done!</td>\n",
       "      <td>18524</td>\n",
       "      <td>2018-02-22 09:53:52-05:00</td>\n",
       "      <td>9.897778</td>\n",
       "      <td>2018.142466</td>\n",
       "      <td>will be meeting with lawmakers today at 11 30 a m  to discuss school safety   next week it will be with our nation s governors  it s been many years of all talk  no action  we ll get it done</td>\n",
       "    </tr>\n",
       "    <tr>\n",
       "      <th>966681883206668289</th>\n",
       "      <td>2018-02-22 14:31:35</td>\n",
       "      <td>Twitter for iPhone</td>\n",
       "      <td>what many people don’t understand, or don’t want to understand, is that wayne, chris and the folks who work so hard at the @nra are great people and great american patriots. they love our country and will do the right thing.                  make america great again!</td>\n",
       "      <td>21229</td>\n",
       "      <td>2018-02-22 09:31:35-05:00</td>\n",
       "      <td>9.526389</td>\n",
       "      <td>2018.142466</td>\n",
       "      <td>what many people don t understand  or don t want to understand  is that wayne  chris and the folks who work so hard at the  nra are great people and great american patriots  they love our country and will do the right thing                   make america great again</td>\n",
       "    </tr>\n",
       "    <tr>\n",
       "      <th>966662241977360384</th>\n",
       "      <td>2018-02-22 13:13:32</td>\n",
       "      <td>Twitter for iPhone</td>\n",
       "      <td>i will be strongly pushing comprehensive background checks with an emphasis on mental health. raise age to 21 and end sale of bump stocks! congress is in a mood to finally do something on this issue - i hope!</td>\n",
       "      <td>35401</td>\n",
       "      <td>2018-02-22 08:13:32-05:00</td>\n",
       "      <td>8.225556</td>\n",
       "      <td>2018.142466</td>\n",
       "      <td>i will be strongly pushing comprehensive background checks with an emphasis on mental health  raise age to 21 and end sale of bump stocks  congress is in a mood to finally do something on this issue   i hope</td>\n",
       "    </tr>\n",
       "    <tr>\n",
       "      <th>966660169194229761</th>\n",
       "      <td>2018-02-22 13:05:18</td>\n",
       "      <td>Twitter for iPhone</td>\n",
       "      <td>....if a potential “sicko shooter” knows that a school has a large number of very weapons talented teachers (and others) who will be instantly shooting, the sicko will never attack that school. cowards won’t go there...problem solved. must be offensive, defense alone won’t work!</td>\n",
       "      <td>24208</td>\n",
       "      <td>2018-02-22 08:05:18-05:00</td>\n",
       "      <td>8.088333</td>\n",
       "      <td>2018.142466</td>\n",
       "      <td>if a potential  sicko shooter  knows that a school has a large number of very weapons talented teachers  and others  who will be instantly shooting  the sicko will never attack that school  cowards won t go there   problem solved  must be offensive  defense alone won t work</td>\n",
       "    </tr>\n",
       "    <tr>\n",
       "      <th>966657362789568512</th>\n",
       "      <td>2018-02-22 12:54:09</td>\n",
       "      <td>Twitter for iPhone</td>\n",
       "      <td>....history shows that a school shooting lasts, on average, 3 minutes. it takes police &amp;amp; first responders approximately 5 to 8 minutes to get to site of crime. highly trained, gun adept, teachers/coaches would solve the problem instantly, before police arrive. great deter...</td>\n",
       "      <td>28058</td>\n",
       "      <td>2018-02-22 07:54:09-05:00</td>\n",
       "      <td>7.902500</td>\n",
       "      <td>2018.142466</td>\n",
       "      <td>history shows that a school shooting lasts  on average  3 minutes  it takes police  amp  first responders approximately 5 to 8 minutes to get to site of crime  highly trained  gun adept  teachers coaches would solve the problem instantly  before police arrive  great deter...</td>\n",
       "    </tr>\n",
       "    <tr>\n",
       "      <th>966653833047887874</th>\n",
       "      <td>2018-02-22 12:40:08</td>\n",
       "      <td>Twitter for iPhone</td>\n",
       "      <td>....immediately fire back if a savage sicko came to a school with bad intentions. highly trained teachers would also serve as a deterrent to the cowards that do this. far more assets at much less cost than guards. a “gun free” school is a magnet for bad people. attacks would ...</td>\n",
       "      <td>21054</td>\n",
       "      <td>2018-02-22 07:40:08-05:00</td>\n",
       "      <td>7.668889</td>\n",
       "      <td>2018.142466</td>\n",
       "      <td>immediately fire back if a savage sicko came to a school with bad intentions  highly trained teachers would also serve as a deterrent to the cowards that do this  far more assets at much less cost than guards  a  gun free  school is a magnet for bad people  attacks would ...</td>\n",
       "    </tr>\n",
       "    <tr>\n",
       "      <th>966650397002813440</th>\n",
       "      <td>2018-02-22 12:26:28</td>\n",
       "      <td>Twitter for iPhone</td>\n",
       "      <td>i never said “give teachers guns” like was stated on fake news @cnn &amp;amp; @nbc. what i said was to look at the possibility of giving “concealed guns to gun adept teachers with military or special training experience - only the best. 20% of teachers, a lot, would now be able to</td>\n",
       "      <td>21067</td>\n",
       "      <td>2018-02-22 07:26:28-05:00</td>\n",
       "      <td>7.441111</td>\n",
       "      <td>2018.142466</td>\n",
       "      <td>i never said  give teachers guns  like was stated on fake news  cnn  amp   nbc  what i said was to look at the possibility of giving  concealed guns to gun adept teachers with military or special training experience   only the best  20  of teachers  a lot  would now be able to</td>\n",
       "    </tr>\n",
       "    <tr>\n",
       "      <th>966487844662456320</th>\n",
       "      <td>2018-02-22 01:40:33</td>\n",
       "      <td>Twitter for iPhone</td>\n",
       "      <td>i will always remember the time i spent today with courageous students, teachers and families. so much love in the midst of so much pain. we must not let them down. we must keep our children safe!!\\n\\nfull listening session: https://t.co/x5venyqx5p https://t.co/capfx5odip</td>\n",
       "      <td>22425</td>\n",
       "      <td>2018-02-21 20:40:33-05:00</td>\n",
       "      <td>20.675833</td>\n",
       "      <td>2018.142466</td>\n",
       "      <td>i will always remember the time i spent today with courageous students  teachers and families  so much love in the midst of so much pain  we must not let them down  we must keep our children safe  \\n\\nfull listening session  https   t co x5venyqx5p https   t co capfx5odip</td>\n",
       "    </tr>\n",
       "    <tr>\n",
       "      <th>966420452070559749</th>\n",
       "      <td>2018-02-21 21:12:45</td>\n",
       "      <td>Twitter for iPhone</td>\n",
       "      <td>.@flotus melania and i join millions of people around the world in mourning the passing of billy graham. our prayers are with his children, grandchildren, great-grandchildren and all who worked closely with reverend graham in his lifelong ministry. https://t.co/e1697tcyai</td>\n",
       "      <td>17287</td>\n",
       "      <td>2018-02-21 16:12:45-05:00</td>\n",
       "      <td>16.212500</td>\n",
       "      <td>2018.139726</td>\n",
       "      <td>flotus melania and i join millions of people around the world in mourning the passing of billy graham  our prayers are with his children  grandchildren  great grandchildren and all who worked closely with reverend graham in his lifelong ministry  https   t co e1697tcyai</td>\n",
       "    </tr>\n",
       "    <tr>\n",
       "      <th>966377081469882368</th>\n",
       "      <td>2018-02-21 18:20:25</td>\n",
       "      <td>Media Studio</td>\n",
       "      <td>yesterday, it was my great honor to recognize extraordinary law enforcement officers and first responders, and to award them the the highest possible decoration for bravery by public safety officers, the medal of valor. #americanheroes https://t.co/em0wbbvy5p</td>\n",
       "      <td>14272</td>\n",
       "      <td>2018-02-21 13:20:25-05:00</td>\n",
       "      <td>13.340278</td>\n",
       "      <td>2018.139726</td>\n",
       "      <td>yesterday  it was my great honor to recognize extraordinary law enforcement officers and first responders  and to award them the the highest possible decoration for bravery by public safety officers  the medal of valor   americanheroes https   t co em0wbbvy5p</td>\n",
       "    </tr>\n",
       "    <tr>\n",
       "      <th>966321700588711936</th>\n",
       "      <td>2018-02-21 14:40:21</td>\n",
       "      <td>Twitter for iPhone</td>\n",
       "      <td>question: if all of the russian meddling took place during the obama administration, right up to january 20th, why aren’t they the subject of the investigation? why didn’t obama do something about the meddling? why aren’t dem crimes under investigation? ask jeff sessions!</td>\n",
       "      <td>30624</td>\n",
       "      <td>2018-02-21 09:40:21-05:00</td>\n",
       "      <td>9.672500</td>\n",
       "      <td>2018.139726</td>\n",
       "      <td>question  if all of the russian meddling took place during the obama administration  right up to january 20th  why aren t they the subject of the investigation  why didn t obama do something about the meddling  why aren t dem crimes under investigation  ask jeff sessions</td>\n",
       "    </tr>\n",
       "    <tr>\n",
       "      <th>966317112565420033</th>\n",
       "      <td>2018-02-21 14:22:07</td>\n",
       "      <td>Twitter for iPhone</td>\n",
       "      <td>the great billy graham is dead. there was nobody like him! he will be missed by christians and all religions. a very special man.</td>\n",
       "      <td>28236</td>\n",
       "      <td>2018-02-21 09:22:07-05:00</td>\n",
       "      <td>9.368611</td>\n",
       "      <td>2018.139726</td>\n",
       "      <td>the great billy graham is dead  there was nobody like him  he will be missed by christians and all religions  a very special man</td>\n",
       "    </tr>\n",
       "    <tr>\n",
       "      <th>966119932793585664</th>\n",
       "      <td>2018-02-21 01:18:36</td>\n",
       "      <td>Twitter for iPhone</td>\n",
       "      <td>@cnn @msnbc whether we are republican or democrat, we must now focus on strengthening background checks!</td>\n",
       "      <td>15200</td>\n",
       "      <td>2018-02-20 20:18:36-05:00</td>\n",
       "      <td>20.310000</td>\n",
       "      <td>2018.139726</td>\n",
       "      <td>cnn  msnbc whether we are republican or democrat  we must now focus on strengthening background checks</td>\n",
       "    </tr>\n",
       "    <tr>\n",
       "      <th>966118856874971138</th>\n",
       "      <td>2018-02-21 01:14:19</td>\n",
       "      <td>Twitter for iPhone</td>\n",
       "      <td>so true, thank you! https://t.co/9ttxlfokyz</td>\n",
       "      <td>20495</td>\n",
       "      <td>2018-02-20 20:14:19-05:00</td>\n",
       "      <td>20.238611</td>\n",
       "      <td>2018.139726</td>\n",
       "      <td>so true  thank you  https   t co 9ttxlfokyz</td>\n",
       "    </tr>\n",
       "    <tr>\n",
       "      <th>966117265426001920</th>\n",
       "      <td>2018-02-21 01:08:00</td>\n",
       "      <td>Twitter for iPhone</td>\n",
       "      <td>bad ratings @cnn &amp;amp; @msnbc got scammed when they covered the anti-trump russia rally wall-to-wall. they probably knew it was fake news but, because it was a rally against me, they pushed it hard anyway. two really dishonest newscasters, but the public is wise!</td>\n",
       "      <td>20961</td>\n",
       "      <td>2018-02-20 20:08:00-05:00</td>\n",
       "      <td>20.133333</td>\n",
       "      <td>2018.139726</td>\n",
       "      <td>bad ratings  cnn  amp   msnbc got scammed when they covered the anti trump russia rally wall to wall  they probably knew it was fake news but  because it was a rally against me  they pushed it hard anyway  two really dishonest newscasters  but the public is wise</td>\n",
       "    </tr>\n",
       "    <tr>\n",
       "      <th>966006815745040384</th>\n",
       "      <td>2018-02-20 17:49:07</td>\n",
       "      <td>Twitter for iPhone</td>\n",
       "      <td>main street is booming thanks to our incredible tax cut and reform law. \"this shows small-business owners are more than just optimistic, they are ready to grow their businesses.\" https://t.co/w9aw68uwoj</td>\n",
       "      <td>16505</td>\n",
       "      <td>2018-02-20 12:49:07-05:00</td>\n",
       "      <td>12.818611</td>\n",
       "      <td>2018.136986</td>\n",
       "      <td>main street is booming thanks to our incredible tax cut and reform law   this shows small business owners are more than just optimistic  they are ready to grow their businesses   https   t co w9aw68uwoj</td>\n",
       "    </tr>\n",
       "    <tr>\n",
       "      <th>965971586913374208</th>\n",
       "      <td>2018-02-20 15:29:07</td>\n",
       "      <td>Twitter for iPhone</td>\n",
       "      <td>....cameras running. another false accusation. why doesn’t @washingtonpost report the story of the women taking money to make up stories about me? one had her home mortgage paid off. only @foxnews so reported...doesn’t fit the mainstream media narrative.</td>\n",
       "      <td>18498</td>\n",
       "      <td>2018-02-20 10:29:07-05:00</td>\n",
       "      <td>10.485278</td>\n",
       "      <td>2018.136986</td>\n",
       "      <td>cameras running  another false accusation  why doesn t  washingtonpost report the story of the women taking money to make up stories about me  one had her home mortgage paid off  only  foxnews so reported   doesn t fit the mainstream media narrative</td>\n",
       "    </tr>\n",
       "    <tr>\n",
       "      <th>965968309358333952</th>\n",
       "      <td>2018-02-20 15:16:06</td>\n",
       "      <td>Twitter for iPhone</td>\n",
       "      <td>a woman i don’t know and, to the best of my knowledge, never met, is on the front page of the fake news washington post saying i kissed her (for two minutes yet) in the lobby of trump tower 12 years ago. never happened! who would do this in a public space with live security.....</td>\n",
       "      <td>20406</td>\n",
       "      <td>2018-02-20 10:16:06-05:00</td>\n",
       "      <td>10.268333</td>\n",
       "      <td>2018.136986</td>\n",
       "      <td>a woman i don t know and  to the best of my knowledge  never met  is on the front page of the fake news washington post saying i kissed her  for two minutes yet  in the lobby of trump tower 12 years ago  never happened  who would do this in a public space with live security  ...</td>\n",
       "    </tr>\n",
       "    <tr>\n",
       "      <th>965943827931549696</th>\n",
       "      <td>2018-02-20 13:38:49</td>\n",
       "      <td>Twitter for iPhone</td>\n",
       "      <td>i have been much tougher on russia than obama, just look at the facts. total fake news!</td>\n",
       "      <td>15194</td>\n",
       "      <td>2018-02-20 08:38:49-05:00</td>\n",
       "      <td>8.646944</td>\n",
       "      <td>2018.136986</td>\n",
       "      <td>i have been much tougher on russia than obama  just look at the facts  total fake news</td>\n",
       "    </tr>\n",
       "    <tr>\n",
       "      <th>965937068907073536</th>\n",
       "      <td>2018-02-20 13:11:58</td>\n",
       "      <td>Twitter for iPhone</td>\n",
       "      <td>hope republicans in the great state of pennsylvania challenge the new “pushed” congressional map, all the way to the supreme court, if necessary. your original was correct! don’t let the dems take elections away from you so that they can raise taxes &amp;amp; waste money!</td>\n",
       "      <td>19078</td>\n",
       "      <td>2018-02-20 08:11:58-05:00</td>\n",
       "      <td>8.199444</td>\n",
       "      <td>2018.136986</td>\n",
       "      <td>hope republicans in the great state of pennsylvania challenge the new  pushed  congressional map  all the way to the supreme court  if necessary  your original was correct  don t let the dems take elections away from you so that they can raise taxes  amp  waste money</td>\n",
       "    </tr>\n",
       "    <tr>\n",
       "      <th>965935035328155649</th>\n",
       "      <td>2018-02-20 13:03:53</td>\n",
       "      <td>Twitter for iPhone</td>\n",
       "      <td>matt schlapp and cpac are getting ready for another exciting event. big difference from those days when president obama held the white house. you’ve come a long way matt!</td>\n",
       "      <td>9548</td>\n",
       "      <td>2018-02-20 08:03:53-05:00</td>\n",
       "      <td>8.064722</td>\n",
       "      <td>2018.136986</td>\n",
       "      <td>matt schlapp and cpac are getting ready for another exciting event  big difference from those days when president obama held the white house  you ve come a long way matt</td>\n",
       "    </tr>\n",
       "    <tr>\n",
       "      <th>965932714141650946</th>\n",
       "      <td>2018-02-20 12:54:39</td>\n",
       "      <td>Twitter for iPhone</td>\n",
       "      <td>republicans are now leading the generic poll, perhaps because of the popular tax cuts which the dems want to take away. actually, they want to raise you taxes, substantially. also, they want to do nothing on daca, r’s want to fix!</td>\n",
       "      <td>16198</td>\n",
       "      <td>2018-02-20 07:54:39-05:00</td>\n",
       "      <td>7.910833</td>\n",
       "      <td>2018.136986</td>\n",
       "      <td>republicans are now leading the generic poll  perhaps because of the popular tax cuts which the dems want to take away  actually  they want to raise you taxes  substantially  also  they want to do nothing on daca  r s want to fix</td>\n",
       "    </tr>\n",
       "    <tr>\n",
       "      <th>965930611272712192</th>\n",
       "      <td>2018-02-20 12:46:18</td>\n",
       "      <td>Twitter for iPhone</td>\n",
       "      <td>....the president obama quote just before election. that’s because he thought crooked hillary was going to win and he didn’t want to “rock the boat.” when i easily won the electoral college, the whole game changed and the russian excuse became the narrative of the dems.</td>\n",
       "      <td>19468</td>\n",
       "      <td>2018-02-20 07:46:18-05:00</td>\n",
       "      <td>7.771667</td>\n",
       "      <td>2018.136986</td>\n",
       "      <td>the president obama quote just before election  that s because he thought crooked hillary was going to win and he didn t want to  rock the boat   when i easily won the electoral college  the whole game changed and the russian excuse became the narrative of the dems</td>\n",
       "    </tr>\n",
       "    <tr>\n",
       "      <th>965928352614965248</th>\n",
       "      <td>2018-02-20 12:37:20</td>\n",
       "      <td>Twitter for iPhone</td>\n",
       "      <td>“there is no serious person out there who would suggest somehow that you could even rig america’s elections, there’s no evidence that that has happened in the past or that it will happen this time, and so i’d invite mr. trump to stop whining and make his case to get votes.” ....</td>\n",
       "      <td>16354</td>\n",
       "      <td>2018-02-20 07:37:20-05:00</td>\n",
       "      <td>7.622222</td>\n",
       "      <td>2018.136986</td>\n",
       "      <td>there is no serious person out there who would suggest somehow that you could even rig america s elections  there s no evidence that that has happened in the past or that it will happen this time  and so i d invite mr  trump to stop whining and make his case to get votes    ...</td>\n",
       "    </tr>\n",
       "    <tr>\n",
       "      <th>965925223949357056</th>\n",
       "      <td>2018-02-20 12:24:54</td>\n",
       "      <td>Twitter for iPhone</td>\n",
       "      <td>thank you to @foxandfriends for the great timeline on all of the failures the obama administration had against russia, including crimea, syria and so much more. we are now starting to win again!</td>\n",
       "      <td>13817</td>\n",
       "      <td>2018-02-20 07:24:54-05:00</td>\n",
       "      <td>7.415000</td>\n",
       "      <td>2018.136986</td>\n",
       "      <td>thank you to  foxandfriends for the great timeline on all of the failures the obama administration had against russia  including crimea  syria and so much more  we are now starting to win again</td>\n",
       "    </tr>\n",
       "    <tr>\n",
       "      <th>965780052167286784</th>\n",
       "      <td>2018-02-20 02:48:02</td>\n",
       "      <td>Twitter for iPhone</td>\n",
       "      <td>“the faith of donald trump,” a book just out by david brody and scott lamb, is a very interesting read. enjoy!</td>\n",
       "      <td>12454</td>\n",
       "      <td>2018-02-19 21:48:02-05:00</td>\n",
       "      <td>21.800556</td>\n",
       "      <td>2018.136986</td>\n",
       "      <td>the faith of donald trump   a book just out by david brody and scott lamb  is a very interesting read  enjoy</td>\n",
       "    </tr>\n",
       "    <tr>\n",
       "      <th>965775382598311937</th>\n",
       "      <td>2018-02-20 02:29:29</td>\n",
       "      <td>Twitter for iPhone</td>\n",
       "      <td>the u.s. economy is looking very good, in my opinion, even better than anticipated. companies are pouring back into our country, reversing the long term trend of leaving. the unemployment numbers are looking great, and regulations &amp;amp; taxes have been massively cut! jobs, jo...</td>\n",
       "      <td>23889</td>\n",
       "      <td>2018-02-19 21:29:29-05:00</td>\n",
       "      <td>21.491389</td>\n",
       "      <td>2018.136986</td>\n",
       "      <td>the u s  economy is looking very good  in my opinion  even better than anticipated  companies are pouring back into our country  reversing the long term trend of leaving  the unemployment numbers are looking great  and regulations  amp  taxes have been massively cut  jobs  jo...</td>\n",
       "    </tr>\n",
       "    <tr>\n",
       "      <th>965773283554668544</th>\n",
       "      <td>2018-02-20 02:21:08</td>\n",
       "      <td>Twitter for iPhone</td>\n",
       "      <td>.@mittromney has announced he is running for the senate from the wonderful state of utah. he will make a great senator and worthy successor to @orrinhatch, and has my full support and endorsement!</td>\n",
       "      <td>8865</td>\n",
       "      <td>2018-02-19 21:21:08-05:00</td>\n",
       "      <td>21.352222</td>\n",
       "      <td>2018.136986</td>\n",
       "      <td>mittromney has announced he is running for the senate from the wonderful state of utah  he will make a great senator and worthy successor to  orrinhatch  and has my full support and endorsement</td>\n",
       "    </tr>\n",
       "  </tbody>\n",
       "</table>\n",
       "<p>9151 rows × 8 columns</p>\n",
       "</div>"
      ],
      "text/plain": [
       "                                  time               source  \\\n",
       "id                                                            \n",
       "786204978629185536 2016-10-12 14:00:48   Twitter for iPhone   \n",
       "786201435486781440 2016-10-12 13:46:43   Twitter for iPhone   \n",
       "786189446274248704 2016-10-12 12:59:05  Twitter for Android   \n",
       "786054986534969344 2016-10-12 04:04:47   Twitter for iPhone   \n",
       "786007502639038464 2016-10-12 00:56:06   Twitter for iPhone   \n",
       "785979396620324865 2016-10-11 23:04:25  Twitter for Android   \n",
       "785957064480653313 2016-10-11 21:35:41   Twitter for iPhone   \n",
       "785947219216125952 2016-10-11 20:56:33   Twitter for iPhone   \n",
       "785913754194104320 2016-10-11 18:43:35   Twitter for iPhone   \n",
       "785910334427058177 2016-10-11 18:29:59   Twitter for iPhone   \n",
       "785904113540210688 2016-10-11 18:05:16   Twitter for iPhone   \n",
       "785898532645502980 2016-10-11 17:43:06   Twitter for iPhone   \n",
       "785890855760465920 2016-10-11 17:12:35  Twitter for Android   \n",
       "785885793340448769 2016-10-11 16:52:28  Twitter for Android   \n",
       "785863826361184257 2016-10-11 15:25:11   Twitter for iPhone   \n",
       "785854588654092290 2016-10-11 14:48:29   Twitter for iPhone   \n",
       "785846205750337537 2016-10-11 14:15:10   Twitter Web Client   \n",
       "785842546878578688 2016-10-11 14:00:38   Twitter for iPhone   \n",
       "785842270801133568 2016-10-11 13:59:32   Twitter for iPhone   \n",
       "785828772423561216 2016-10-11 13:05:53  Twitter for Android   \n",
       "785816454042124288 2016-10-11 12:16:57   Twitter for iPhone   \n",
       "785654535234531329 2016-10-11 01:33:32   Twitter for iPhone   \n",
       "785608815962099712 2016-10-10 22:31:52   Twitter for iPhone   \n",
       "785563318652178432 2016-10-10 19:31:04  Twitter for Android   \n",
       "785561269571026946 2016-10-10 19:22:56   Twitter for iPhone   \n",
       "785559022082658305 2016-10-10 19:14:00   Twitter for iPhone   \n",
       "785530928256933888 2016-10-10 17:22:22  Twitter for Android   \n",
       "785527400528568320 2016-10-10 17:08:21  Twitter for Android   \n",
       "785323809062653952 2016-10-10 03:39:21   Twitter for iPhone   \n",
       "785314249044140036 2016-10-10 03:01:22   Twitter for iPhone   \n",
       "...                                ...                  ...   \n",
       "966766375292358659 2018-02-22 20:07:20   Twitter for iPhone   \n",
       "966711641378381826 2018-02-22 16:29:50         Media Studio   \n",
       "966687491616059392 2018-02-22 14:53:52   Twitter for iPhone   \n",
       "966681883206668289 2018-02-22 14:31:35   Twitter for iPhone   \n",
       "966662241977360384 2018-02-22 13:13:32   Twitter for iPhone   \n",
       "966660169194229761 2018-02-22 13:05:18   Twitter for iPhone   \n",
       "966657362789568512 2018-02-22 12:54:09   Twitter for iPhone   \n",
       "966653833047887874 2018-02-22 12:40:08   Twitter for iPhone   \n",
       "966650397002813440 2018-02-22 12:26:28   Twitter for iPhone   \n",
       "966487844662456320 2018-02-22 01:40:33   Twitter for iPhone   \n",
       "966420452070559749 2018-02-21 21:12:45   Twitter for iPhone   \n",
       "966377081469882368 2018-02-21 18:20:25         Media Studio   \n",
       "966321700588711936 2018-02-21 14:40:21   Twitter for iPhone   \n",
       "966317112565420033 2018-02-21 14:22:07   Twitter for iPhone   \n",
       "966119932793585664 2018-02-21 01:18:36   Twitter for iPhone   \n",
       "966118856874971138 2018-02-21 01:14:19   Twitter for iPhone   \n",
       "966117265426001920 2018-02-21 01:08:00   Twitter for iPhone   \n",
       "966006815745040384 2018-02-20 17:49:07   Twitter for iPhone   \n",
       "965971586913374208 2018-02-20 15:29:07   Twitter for iPhone   \n",
       "965968309358333952 2018-02-20 15:16:06   Twitter for iPhone   \n",
       "965943827931549696 2018-02-20 13:38:49   Twitter for iPhone   \n",
       "965937068907073536 2018-02-20 13:11:58   Twitter for iPhone   \n",
       "965935035328155649 2018-02-20 13:03:53   Twitter for iPhone   \n",
       "965932714141650946 2018-02-20 12:54:39   Twitter for iPhone   \n",
       "965930611272712192 2018-02-20 12:46:18   Twitter for iPhone   \n",
       "965928352614965248 2018-02-20 12:37:20   Twitter for iPhone   \n",
       "965925223949357056 2018-02-20 12:24:54   Twitter for iPhone   \n",
       "965780052167286784 2018-02-20 02:48:02   Twitter for iPhone   \n",
       "965775382598311937 2018-02-20 02:29:29   Twitter for iPhone   \n",
       "965773283554668544 2018-02-20 02:21:08   Twitter for iPhone   \n",
       "\n",
       "                                                                                                                                                                                                                                                                                                       text  \\\n",
       "id                                                                                                                                                                                                                                                                                                            \n",
       "786204978629185536                                                                                                                                                                                                                          pay to play politics. \\n#crookedhillary https://t.co/wjsl8itvvk   \n",
       "786201435486781440                                                                                                                                                                 very little pick-up by the dishonest media of incredible information provided by wikileaks. so dishonest! rigged system!   \n",
       "786189446274248704                                                                                                                                                         crooked hillary clinton likes to talk about the things she will do but she has been there for 30 years - why didn't she do them?   \n",
       "786054986534969344                                                                                                                                                  thank you florida- a movement that has never been seen before and will never be seen again. lets get out &amp;… https://t.co/t9xm9wfdzi   \n",
       "786007502639038464                                                                                                                                     join me thursday in florida &amp; ohio!\\nwest palm beach, fl at noon:\\nhttps://t.co/jwbznqhxg9\\ncincinnati, oh this 7:30pm:\\nhttps://t.co/5w2uhalpix   \n",
       "785979396620324865                                                                                                                                           wow, @cnn town hall questions were given to crooked hillary clinton in advance of big debates against bernie sanders. hillary &amp; cnn fraud!   \n",
       "785957064480653313                                                                                                                                         thank you texas! if you haven't registered to vote- today is your last day. go to: https://t.co/hfihpea3sp &amp; get ou… https://t.co/gxbdrd4x2k   \n",
       "785947219216125952                                                                                                                                                             voter registration deadlines today. you can register now at: https://t.co/hfihpea3sp and get out to… https://t.co/llfdf0drx4   \n",
       "785913754194104320                                                                                                                                                                                                                                     don't let her fool us again. https://t.co/3qsoadfh7s   \n",
       "785910334427058177                                                                                                                                                       crooked's state dept gave special attention to \"friends of bill\" after the haiti earthquake. unbelievable! https://t.co/opp2l8ln0j   \n",
       "785904113540210688                                                                                                                                           rt @donaldjtrumpjr: 13 states have voter registration deadlines today: fl, oh, pa, mi, ga, tx, nm, in, la, tn, ar, ky, sc.\\n\\nregister: https…   \n",
       "785898532645502980                                                                                                                                                                   i hope people are looking at the disgraceful behavior of hillary clinton as exposed by wikileaks. she is unfit to run.   \n",
       "785890855760465920                                                                                                                                                                                                                                     in texas now, leaving soon for big rally in florida!   \n",
       "785885793340448769                                                                                                                                             the very foul mouthed sen. john mccain begged for my support during his  primary (i gave, he won), then dropped me over locker room remarks!   \n",
       "785863826361184257                                                                                                                                                                                                                                               wow. unbelievable. https://t.co/rcbpccmwnd   \n",
       "785854588654092290                                                                                                                                               disloyal r's are far more difficult than crooked hillary. they come at you from all sides. they don’t know how to win - i will teach them!   \n",
       "785846205750337537                                                                                                                                                with the exception of cheating bernie out of the nom the dems have always proven to be far more loyal to each other than the republicans!   \n",
       "785842546878578688                                                                                                                                                                                it is so nice that the shackles have been taken off me and i can now fight for america the way i want to.   \n",
       "785842270801133568                                                                                                                                           rt @erictrump: 13 states have voter registration deadlines today: fl, oh, pa, mi, ga, tx, nm, in, la, tn, ar, ky, sc.\\n\\nregister: https://t.…   \n",
       "785828772423561216                                                                                                                                                                our very weak and ineffective leader, paul ryan, had a bad conference call where his members went wild at his disloyalty.   \n",
       "785816454042124288                                                                                                                                                        despite winning the second debate in a landslide (every poll), it is hard to do well when paul ryan and others give zero support!   \n",
       "785654535234531329                                                                                                                                              thank you pennsylvania. this is a movement like we have never seen before! #votetrumppence16 on 11/8/16- together,… https://t.co/x0197jl5ru   \n",
       "785608815962099712                                                                                                                                                                                                                                is this really america? terrible! https://t.co/wiwc61pifu   \n",
       "785563318652178432                                                                                                                                                     wow, @cnn got caught fixing their \"focus group\" in order to make crooked hillary look better. really pathetic and totally dishonest!   \n",
       "785561269571026946                                                                                                                                                                                                        debate polls look great - thank you!\\n#maga #americafirst https://t.co/4peq3sswdz   \n",
       "785559022082658305                                                                                                                                                                     cnn is the worst - fortunately they have bad ratings because everyone knows they are biased. https://t.co/ofrfny2ruy   \n",
       "785530928256933888                                                                                                                                             paul ryan should spend more time on balancing the budget, jobs and illegal immigration and not waste his time on fighting republican nominee   \n",
       "785527400528568320                                                                                                                                                                                                         thank you for all of the great comments on the debate last night. very exciting!   \n",
       "785323809062653952                                                                                                                                                                                thank you st. louis, missouri!\\n#makeamericagreatagain  \\nhttps://t.co/2llbltf0me https://t.co/wbmvxf1a9d   \n",
       "785314249044140036                                                                                                                                                                   rt @mike_pence: congrats to my running mate @realdonaldtrump on a big debate win! proud to stand with you as we #maga.   \n",
       "...                                                                                                                                                                                                                                                                                                     ...   \n",
       "966766375292358659  today, it was my great honor to host a school safety roundtable at the @whitehouse with state and local leaders, law enforcement officers, and education officials.\\n\\nthere is nothing more important than protecting our children. they deserve to be safe, and we will deliver! h...   \n",
       "966711641378381826                                                                                                                                         on behalf of an entire nation, congratulations to the u.s. women's hockey team on winning the gold! #goteamusa #olympics https://t.co/3cuzwlvgua   \n",
       "966687491616059392                                                                                          will be meeting with lawmakers today at 11:30 a.m. to discuss school safety.  next week it will be with our nation’s governors. it’s been many years of all talk, no action. we’ll get it done!   \n",
       "966681883206668289              what many people don’t understand, or don’t want to understand, is that wayne, chris and the folks who work so hard at the @nra are great people and great american patriots. they love our country and will do the right thing.                  make america great again!   \n",
       "966662241977360384                                                                         i will be strongly pushing comprehensive background checks with an emphasis on mental health. raise age to 21 and end sale of bump stocks! congress is in a mood to finally do something on this issue - i hope!   \n",
       "966660169194229761  ....if a potential “sicko shooter” knows that a school has a large number of very weapons talented teachers (and others) who will be instantly shooting, the sicko will never attack that school. cowards won’t go there...problem solved. must be offensive, defense alone won’t work!   \n",
       "966657362789568512  ....history shows that a school shooting lasts, on average, 3 minutes. it takes police &amp; first responders approximately 5 to 8 minutes to get to site of crime. highly trained, gun adept, teachers/coaches would solve the problem instantly, before police arrive. great deter...   \n",
       "966653833047887874  ....immediately fire back if a savage sicko came to a school with bad intentions. highly trained teachers would also serve as a deterrent to the cowards that do this. far more assets at much less cost than guards. a “gun free” school is a magnet for bad people. attacks would ...   \n",
       "966650397002813440    i never said “give teachers guns” like was stated on fake news @cnn &amp; @nbc. what i said was to look at the possibility of giving “concealed guns to gun adept teachers with military or special training experience - only the best. 20% of teachers, a lot, would now be able to   \n",
       "966487844662456320         i will always remember the time i spent today with courageous students, teachers and families. so much love in the midst of so much pain. we must not let them down. we must keep our children safe!!\\n\\nfull listening session: https://t.co/x5venyqx5p https://t.co/capfx5odip   \n",
       "966420452070559749         .@flotus melania and i join millions of people around the world in mourning the passing of billy graham. our prayers are with his children, grandchildren, great-grandchildren and all who worked closely with reverend graham in his lifelong ministry. https://t.co/e1697tcyai   \n",
       "966377081469882368                      yesterday, it was my great honor to recognize extraordinary law enforcement officers and first responders, and to award them the the highest possible decoration for bravery by public safety officers, the medal of valor. #americanheroes https://t.co/em0wbbvy5p   \n",
       "966321700588711936         question: if all of the russian meddling took place during the obama administration, right up to january 20th, why aren’t they the subject of the investigation? why didn’t obama do something about the meddling? why aren’t dem crimes under investigation? ask jeff sessions!   \n",
       "966317112565420033                                                                                                                                                        the great billy graham is dead. there was nobody like him! he will be missed by christians and all religions. a very special man.   \n",
       "966119932793585664                                                                                                                                                                                 @cnn @msnbc whether we are republican or democrat, we must now focus on strengthening background checks!   \n",
       "966118856874971138                                                                                                                                                                                                                                              so true, thank you! https://t.co/9ttxlfokyz   \n",
       "966117265426001920                  bad ratings @cnn &amp; @msnbc got scammed when they covered the anti-trump russia rally wall-to-wall. they probably knew it was fake news but, because it was a rally against me, they pushed it hard anyway. two really dishonest newscasters, but the public is wise!   \n",
       "966006815745040384                                                                               main street is booming thanks to our incredible tax cut and reform law. \"this shows small-business owners are more than just optimistic, they are ready to grow their businesses.\" https://t.co/w9aw68uwoj   \n",
       "965971586913374208                           ....cameras running. another false accusation. why doesn’t @washingtonpost report the story of the women taking money to make up stories about me? one had her home mortgage paid off. only @foxnews so reported...doesn’t fit the mainstream media narrative.   \n",
       "965968309358333952  a woman i don’t know and, to the best of my knowledge, never met, is on the front page of the fake news washington post saying i kissed her (for two minutes yet) in the lobby of trump tower 12 years ago. never happened! who would do this in a public space with live security.....   \n",
       "965943827931549696                                                                                                                                                                                                  i have been much tougher on russia than obama, just look at the facts. total fake news!   \n",
       "965937068907073536             hope republicans in the great state of pennsylvania challenge the new “pushed” congressional map, all the way to the supreme court, if necessary. your original was correct! don’t let the dems take elections away from you so that they can raise taxes &amp; waste money!   \n",
       "965935035328155649                                                                                                               matt schlapp and cpac are getting ready for another exciting event. big difference from those days when president obama held the white house. you’ve come a long way matt!   \n",
       "965932714141650946                                                   republicans are now leading the generic poll, perhaps because of the popular tax cuts which the dems want to take away. actually, they want to raise you taxes, substantially. also, they want to do nothing on daca, r’s want to fix!   \n",
       "965930611272712192           ....the president obama quote just before election. that’s because he thought crooked hillary was going to win and he didn’t want to “rock the boat.” when i easily won the electoral college, the whole game changed and the russian excuse became the narrative of the dems.   \n",
       "965928352614965248  “there is no serious person out there who would suggest somehow that you could even rig america’s elections, there’s no evidence that that has happened in the past or that it will happen this time, and so i’d invite mr. trump to stop whining and make his case to get votes.” ....   \n",
       "965925223949357056                                                                                       thank you to @foxandfriends for the great timeline on all of the failures the obama administration had against russia, including crimea, syria and so much more. we are now starting to win again!   \n",
       "965780052167286784                                                                                                                                                                           “the faith of donald trump,” a book just out by david brody and scott lamb, is a very interesting read. enjoy!   \n",
       "965775382598311937  the u.s. economy is looking very good, in my opinion, even better than anticipated. companies are pouring back into our country, reversing the long term trend of leaving. the unemployment numbers are looking great, and regulations &amp; taxes have been massively cut! jobs, jo...   \n",
       "965773283554668544                                                                                     .@mittromney has announced he is running for the senate from the wonderful state of utah. he will make a great senator and worthy successor to @orrinhatch, and has my full support and endorsement!   \n",
       "\n",
       "                    retweet_count                  est_time       hour  \\\n",
       "id                                                                       \n",
       "786204978629185536          24915 2016-10-12 09:00:48-05:00   9.013333   \n",
       "786201435486781440          22609 2016-10-12 08:46:43-05:00   8.778611   \n",
       "786189446274248704          18329 2016-10-12 07:59:05-05:00   7.984722   \n",
       "786054986534969344          18789 2016-10-11 23:04:47-05:00  23.079722   \n",
       "786007502639038464           7761 2016-10-11 19:56:06-05:00  19.935000   \n",
       "785979396620324865          28714 2016-10-11 18:04:25-05:00  18.073611   \n",
       "785957064480653313          12555 2016-10-11 16:35:41-05:00  16.594722   \n",
       "785947219216125952           8094 2016-10-11 15:56:33-05:00  15.942500   \n",
       "785913754194104320          28432 2016-10-11 13:43:35-05:00  13.726389   \n",
       "785910334427058177          13098 2016-10-11 13:29:59-05:00  13.499722   \n",
       "785904113540210688           6719 2016-10-11 13:05:16-05:00  13.087778   \n",
       "785898532645502980          23235 2016-10-11 12:43:06-05:00  12.718333   \n",
       "785890855760465920           8139 2016-10-11 12:12:35-05:00  12.209722   \n",
       "785885793340448769          21993 2016-10-11 11:52:28-05:00  11.874444   \n",
       "785863826361184257          19035 2016-10-11 10:25:11-05:00  10.419722   \n",
       "785854588654092290          22089 2016-10-11 09:48:29-05:00   9.808056   \n",
       "785846205750337537          14909 2016-10-11 09:15:10-05:00   9.252778   \n",
       "785842546878578688          23727 2016-10-11 09:00:38-05:00   9.010556   \n",
       "785842270801133568           8818 2016-10-11 08:59:32-05:00   8.992222   \n",
       "785828772423561216          17774 2016-10-11 08:05:53-05:00   8.098056   \n",
       "785816454042124288          18035 2016-10-11 07:16:57-05:00   7.282500   \n",
       "785654535234531329          15018 2016-10-10 20:33:32-05:00  20.558889   \n",
       "785608815962099712          19892 2016-10-10 17:31:52-05:00  17.531111   \n",
       "785563318652178432          28336 2016-10-10 14:31:04-05:00  14.517778   \n",
       "785561269571026946          15732 2016-10-10 14:22:56-05:00  14.382222   \n",
       "785559022082658305          14212 2016-10-10 14:14:00-05:00  14.233333   \n",
       "785530928256933888          29781 2016-10-10 12:22:22-05:00  12.372778   \n",
       "785527400528568320          11795 2016-10-10 12:08:21-05:00  12.139167   \n",
       "785323809062653952          16007 2016-10-09 22:39:21-05:00  22.655833   \n",
       "785314249044140036          40835 2016-10-09 22:01:22-05:00  22.022778   \n",
       "...                           ...                       ...        ...   \n",
       "966766375292358659          17515 2018-02-22 15:07:20-05:00  15.122222   \n",
       "966711641378381826          17162 2018-02-22 11:29:50-05:00  11.497222   \n",
       "966687491616059392          18524 2018-02-22 09:53:52-05:00   9.897778   \n",
       "966681883206668289          21229 2018-02-22 09:31:35-05:00   9.526389   \n",
       "966662241977360384          35401 2018-02-22 08:13:32-05:00   8.225556   \n",
       "966660169194229761          24208 2018-02-22 08:05:18-05:00   8.088333   \n",
       "966657362789568512          28058 2018-02-22 07:54:09-05:00   7.902500   \n",
       "966653833047887874          21054 2018-02-22 07:40:08-05:00   7.668889   \n",
       "966650397002813440          21067 2018-02-22 07:26:28-05:00   7.441111   \n",
       "966487844662456320          22425 2018-02-21 20:40:33-05:00  20.675833   \n",
       "966420452070559749          17287 2018-02-21 16:12:45-05:00  16.212500   \n",
       "966377081469882368          14272 2018-02-21 13:20:25-05:00  13.340278   \n",
       "966321700588711936          30624 2018-02-21 09:40:21-05:00   9.672500   \n",
       "966317112565420033          28236 2018-02-21 09:22:07-05:00   9.368611   \n",
       "966119932793585664          15200 2018-02-20 20:18:36-05:00  20.310000   \n",
       "966118856874971138          20495 2018-02-20 20:14:19-05:00  20.238611   \n",
       "966117265426001920          20961 2018-02-20 20:08:00-05:00  20.133333   \n",
       "966006815745040384          16505 2018-02-20 12:49:07-05:00  12.818611   \n",
       "965971586913374208          18498 2018-02-20 10:29:07-05:00  10.485278   \n",
       "965968309358333952          20406 2018-02-20 10:16:06-05:00  10.268333   \n",
       "965943827931549696          15194 2018-02-20 08:38:49-05:00   8.646944   \n",
       "965937068907073536          19078 2018-02-20 08:11:58-05:00   8.199444   \n",
       "965935035328155649           9548 2018-02-20 08:03:53-05:00   8.064722   \n",
       "965932714141650946          16198 2018-02-20 07:54:39-05:00   7.910833   \n",
       "965930611272712192          19468 2018-02-20 07:46:18-05:00   7.771667   \n",
       "965928352614965248          16354 2018-02-20 07:37:20-05:00   7.622222   \n",
       "965925223949357056          13817 2018-02-20 07:24:54-05:00   7.415000   \n",
       "965780052167286784          12454 2018-02-19 21:48:02-05:00  21.800556   \n",
       "965775382598311937          23889 2018-02-19 21:29:29-05:00  21.491389   \n",
       "965773283554668544           8865 2018-02-19 21:21:08-05:00  21.352222   \n",
       "\n",
       "                           year  \\\n",
       "id                                \n",
       "786204978629185536  2016.778689   \n",
       "786201435486781440  2016.778689   \n",
       "786189446274248704  2016.778689   \n",
       "786054986534969344  2016.778689   \n",
       "786007502639038464  2016.778689   \n",
       "785979396620324865  2016.775956   \n",
       "785957064480653313  2016.775956   \n",
       "785947219216125952  2016.775956   \n",
       "785913754194104320  2016.775956   \n",
       "785910334427058177  2016.775956   \n",
       "785904113540210688  2016.775956   \n",
       "785898532645502980  2016.775956   \n",
       "785890855760465920  2016.775956   \n",
       "785885793340448769  2016.775956   \n",
       "785863826361184257  2016.775956   \n",
       "785854588654092290  2016.775956   \n",
       "785846205750337537  2016.775956   \n",
       "785842546878578688  2016.775956   \n",
       "785842270801133568  2016.775956   \n",
       "785828772423561216  2016.775956   \n",
       "785816454042124288  2016.775956   \n",
       "785654535234531329  2016.775956   \n",
       "785608815962099712  2016.773224   \n",
       "785563318652178432  2016.773224   \n",
       "785561269571026946  2016.773224   \n",
       "785559022082658305  2016.773224   \n",
       "785530928256933888  2016.773224   \n",
       "785527400528568320  2016.773224   \n",
       "785323809062653952  2016.773224   \n",
       "785314249044140036  2016.773224   \n",
       "...                         ...   \n",
       "966766375292358659  2018.142466   \n",
       "966711641378381826  2018.142466   \n",
       "966687491616059392  2018.142466   \n",
       "966681883206668289  2018.142466   \n",
       "966662241977360384  2018.142466   \n",
       "966660169194229761  2018.142466   \n",
       "966657362789568512  2018.142466   \n",
       "966653833047887874  2018.142466   \n",
       "966650397002813440  2018.142466   \n",
       "966487844662456320  2018.142466   \n",
       "966420452070559749  2018.139726   \n",
       "966377081469882368  2018.139726   \n",
       "966321700588711936  2018.139726   \n",
       "966317112565420033  2018.139726   \n",
       "966119932793585664  2018.139726   \n",
       "966118856874971138  2018.139726   \n",
       "966117265426001920  2018.139726   \n",
       "966006815745040384  2018.136986   \n",
       "965971586913374208  2018.136986   \n",
       "965968309358333952  2018.136986   \n",
       "965943827931549696  2018.136986   \n",
       "965937068907073536  2018.136986   \n",
       "965935035328155649  2018.136986   \n",
       "965932714141650946  2018.136986   \n",
       "965930611272712192  2018.136986   \n",
       "965928352614965248  2018.136986   \n",
       "965925223949357056  2018.136986   \n",
       "965780052167286784  2018.136986   \n",
       "965775382598311937  2018.136986   \n",
       "965773283554668544  2018.136986   \n",
       "\n",
       "                                                                                                                                                                                                                                                                                                    no_punc  \n",
       "id                                                                                                                                                                                                                                                                                                           \n",
       "786204978629185536                                                                                                                                                                                                                          pay to play politics  \\n crookedhillary https   t co wjsl8itvvk  \n",
       "786201435486781440                                                                                                                                                                 very little pick up by the dishonest media of incredible information provided by wikileaks  so dishonest  rigged system   \n",
       "786189446274248704                                                                                                                                                         crooked hillary clinton likes to talk about the things she will do but she has been there for 30 years   why didn t she do them   \n",
       "786054986534969344                                                                                                                                                  thank you florida  a movement that has never been seen before and will never be seen again  lets get out  amp   https   t co t9xm9wfdzi  \n",
       "786007502639038464                                                                                                                                     join me thursday in florida  amp  ohio \\nwest palm beach  fl at noon \\nhttps   t co jwbznqhxg9\\ncincinnati  oh this 7 30pm \\nhttps   t co 5w2uhalpix  \n",
       "785979396620324865                                                                                                                                           wow   cnn town hall questions were given to crooked hillary clinton in advance of big debates against bernie sanders  hillary  amp  cnn fraud   \n",
       "785957064480653313                                                                                                                                         thank you texas  if you haven t registered to vote  today is your last day  go to  https   t co hfihpea3sp  amp  get ou  https   t co gxbdrd4x2k  \n",
       "785947219216125952                                                                                                                                                             voter registration deadlines today  you can register now at  https   t co hfihpea3sp and get out to  https   t co llfdf0drx4  \n",
       "785913754194104320                                                                                                                                                                                                                                     don t let her fool us again  https   t co 3qsoadfh7s  \n",
       "785910334427058177                                                                                                                                                       crooked s state dept gave special attention to  friends of bill  after the haiti earthquake  unbelievable  https   t co opp2l8ln0j  \n",
       "785904113540210688                                                                                                                                           rt  donaldjtrumpjr  13 states have voter registration deadlines today  fl  oh  pa  mi  ga  tx  nm  in  la  tn  ar  ky  sc \\n\\nregister  https   \n",
       "785898532645502980                                                                                                                                                                   i hope people are looking at the disgraceful behavior of hillary clinton as exposed by wikileaks  she is unfit to run   \n",
       "785890855760465920                                                                                                                                                                                                                                     in texas now  leaving soon for big rally in florida   \n",
       "785885793340448769                                                                                                                                             the very foul mouthed sen  john mccain begged for my support during his  primary  i gave  he won   then dropped me over locker room remarks   \n",
       "785863826361184257                                                                                                                                                                                                                                               wow  unbelievable  https   t co rcbpccmwnd  \n",
       "785854588654092290                                                                                                                                               disloyal r s are far more difficult than crooked hillary  they come at you from all sides  they don t know how to win   i will teach them   \n",
       "785846205750337537                                                                                                                                                with the exception of cheating bernie out of the nom the dems have always proven to be far more loyal to each other than the republicans   \n",
       "785842546878578688                                                                                                                                                                                it is so nice that the shackles have been taken off me and i can now fight for america the way i want to   \n",
       "785842270801133568                                                                                                                                           rt  erictrump  13 states have voter registration deadlines today  fl  oh  pa  mi  ga  tx  nm  in  la  tn  ar  ky  sc \\n\\nregister  https   t    \n",
       "785828772423561216                                                                                                                                                                our very weak and ineffective leader  paul ryan  had a bad conference call where his members went wild at his disloyalty   \n",
       "785816454042124288                                                                                                                                                        despite winning the second debate in a landslide  every poll   it is hard to do well when paul ryan and others give zero support   \n",
       "785654535234531329                                                                                                                                              thank you pennsylvania  this is a movement like we have never seen before   votetrumppence16 on 11 8 16  together   https   t co x0197jl5ru  \n",
       "785608815962099712                                                                                                                                                                                                                                is this really america  terrible  https   t co wiwc61pifu  \n",
       "785563318652178432                                                                                                                                                     wow   cnn got caught fixing their  focus group  in order to make crooked hillary look better  really pathetic and totally dishonest   \n",
       "785561269571026946                                                                                                                                                                                                        debate polls look great   thank you \\n maga  americafirst https   t co 4peq3sswdz  \n",
       "785559022082658305                                                                                                                                                                     cnn is the worst   fortunately they have bad ratings because everyone knows they are biased  https   t co ofrfny2ruy  \n",
       "785530928256933888                                                                                                                                             paul ryan should spend more time on balancing the budget  jobs and illegal immigration and not waste his time on fighting republican nominee  \n",
       "785527400528568320                                                                                                                                                                                                         thank you for all of the great comments on the debate last night  very exciting   \n",
       "785323809062653952                                                                                                                                                                                thank you st  louis  missouri \\n makeamericagreatagain  \\nhttps   t co 2llbltf0me https   t co wbmvxf1a9d  \n",
       "785314249044140036                                                                                                                                                                   rt  mike_pence  congrats to my running mate  realdonaldtrump on a big debate win  proud to stand with you as we  maga   \n",
       "...                                                                                                                                                                                                                                                                                                     ...  \n",
       "966766375292358659  today  it was my great honor to host a school safety roundtable at the  whitehouse with state and local leaders  law enforcement officers  and education officials \\n\\nthere is nothing more important than protecting our children  they deserve to be safe  and we will deliver  h...  \n",
       "966711641378381826                                                                                                                                         on behalf of an entire nation  congratulations to the u s  women s hockey team on winning the gold   goteamusa  olympics https   t co 3cuzwlvgua  \n",
       "966687491616059392                                                                                          will be meeting with lawmakers today at 11 30 a m  to discuss school safety   next week it will be with our nation s governors  it s been many years of all talk  no action  we ll get it done   \n",
       "966681883206668289              what many people don t understand  or don t want to understand  is that wayne  chris and the folks who work so hard at the  nra are great people and great american patriots  they love our country and will do the right thing                   make america great again   \n",
       "966662241977360384                                                                         i will be strongly pushing comprehensive background checks with an emphasis on mental health  raise age to 21 and end sale of bump stocks  congress is in a mood to finally do something on this issue   i hope   \n",
       "966660169194229761      if a potential  sicko shooter  knows that a school has a large number of very weapons talented teachers  and others  who will be instantly shooting  the sicko will never attack that school  cowards won t go there   problem solved  must be offensive  defense alone won t work   \n",
       "966657362789568512      history shows that a school shooting lasts  on average  3 minutes  it takes police  amp  first responders approximately 5 to 8 minutes to get to site of crime  highly trained  gun adept  teachers coaches would solve the problem instantly  before police arrive  great deter...  \n",
       "966653833047887874      immediately fire back if a savage sicko came to a school with bad intentions  highly trained teachers would also serve as a deterrent to the cowards that do this  far more assets at much less cost than guards  a  gun free  school is a magnet for bad people  attacks would ...  \n",
       "966650397002813440    i never said  give teachers guns  like was stated on fake news  cnn  amp   nbc  what i said was to look at the possibility of giving  concealed guns to gun adept teachers with military or special training experience   only the best  20  of teachers  a lot  would now be able to  \n",
       "966487844662456320         i will always remember the time i spent today with courageous students  teachers and families  so much love in the midst of so much pain  we must not let them down  we must keep our children safe  \\n\\nfull listening session  https   t co x5venyqx5p https   t co capfx5odip  \n",
       "966420452070559749           flotus melania and i join millions of people around the world in mourning the passing of billy graham  our prayers are with his children  grandchildren  great grandchildren and all who worked closely with reverend graham in his lifelong ministry  https   t co e1697tcyai  \n",
       "966377081469882368                      yesterday  it was my great honor to recognize extraordinary law enforcement officers and first responders  and to award them the the highest possible decoration for bravery by public safety officers  the medal of valor   americanheroes https   t co em0wbbvy5p  \n",
       "966321700588711936         question  if all of the russian meddling took place during the obama administration  right up to january 20th  why aren t they the subject of the investigation  why didn t obama do something about the meddling  why aren t dem crimes under investigation  ask jeff sessions   \n",
       "966317112565420033                                                                                                                                                        the great billy graham is dead  there was nobody like him  he will be missed by christians and all religions  a very special man   \n",
       "966119932793585664                                                                                                                                                                                  cnn  msnbc whether we are republican or democrat  we must now focus on strengthening background checks   \n",
       "966118856874971138                                                                                                                                                                                                                                              so true  thank you  https   t co 9ttxlfokyz  \n",
       "966117265426001920                  bad ratings  cnn  amp   msnbc got scammed when they covered the anti trump russia rally wall to wall  they probably knew it was fake news but  because it was a rally against me  they pushed it hard anyway  two really dishonest newscasters  but the public is wise   \n",
       "966006815745040384                                                                               main street is booming thanks to our incredible tax cut and reform law   this shows small business owners are more than just optimistic  they are ready to grow their businesses   https   t co w9aw68uwoj  \n",
       "965971586913374208                               cameras running  another false accusation  why doesn t  washingtonpost report the story of the women taking money to make up stories about me  one had her home mortgage paid off  only  foxnews so reported   doesn t fit the mainstream media narrative   \n",
       "965968309358333952  a woman i don t know and  to the best of my knowledge  never met  is on the front page of the fake news washington post saying i kissed her  for two minutes yet  in the lobby of trump tower 12 years ago  never happened  who would do this in a public space with live security  ...  \n",
       "965943827931549696                                                                                                                                                                                                  i have been much tougher on russia than obama  just look at the facts  total fake news   \n",
       "965937068907073536             hope republicans in the great state of pennsylvania challenge the new  pushed  congressional map  all the way to the supreme court  if necessary  your original was correct  don t let the dems take elections away from you so that they can raise taxes  amp  waste money   \n",
       "965935035328155649                                                                                                               matt schlapp and cpac are getting ready for another exciting event  big difference from those days when president obama held the white house  you ve come a long way matt   \n",
       "965932714141650946                                                   republicans are now leading the generic poll  perhaps because of the popular tax cuts which the dems want to take away  actually  they want to raise you taxes  substantially  also  they want to do nothing on daca  r s want to fix   \n",
       "965930611272712192               the president obama quote just before election  that s because he thought crooked hillary was going to win and he didn t want to  rock the boat   when i easily won the electoral college  the whole game changed and the russian excuse became the narrative of the dems   \n",
       "965928352614965248   there is no serious person out there who would suggest somehow that you could even rig america s elections  there s no evidence that that has happened in the past or that it will happen this time  and so i d invite mr  trump to stop whining and make his case to get votes    ...  \n",
       "965925223949357056                                                                                       thank you to  foxandfriends for the great timeline on all of the failures the obama administration had against russia  including crimea  syria and so much more  we are now starting to win again   \n",
       "965780052167286784                                                                                                                                                                            the faith of donald trump   a book just out by david brody and scott lamb  is a very interesting read  enjoy   \n",
       "965775382598311937  the u s  economy is looking very good  in my opinion  even better than anticipated  companies are pouring back into our country  reversing the long term trend of leaving  the unemployment numbers are looking great  and regulations  amp  taxes have been massively cut  jobs  jo...  \n",
       "965773283554668544                                                                                       mittromney has announced he is running for the senate from the wonderful state of utah  he will make a great senator and worthy successor to  orrinhatch  and has my full support and endorsement   \n",
       "\n",
       "[9151 rows x 8 columns]"
      ]
     },
     "execution_count": 41,
     "metadata": {},
     "output_type": "execute_result"
    }
   ],
   "source": [
    "# Save your regex in punct_re\n",
    "punct_re = r'[^\\w\\s]'\n",
    "trump['no_punc'] = trump['text'].apply(lambda x: re.sub(punct_re,' ',x))\n",
    "trump\n",
    "# YOUR CODE HERE\n",
    "#raise NotImplementedError()"
   ]
  },
  {
   "cell_type": "code",
   "execution_count": 42,
   "metadata": {
    "deletable": false,
    "editable": false,
    "nbgrader": {
     "cell_type": "code",
     "checksum": "acba51f5c1ed85ceafe923184be4be33",
     "grade": true,
     "grade_id": "q6c-test",
     "locked": true,
     "points": 1,
     "schema_version": 2,
     "solution": false
    },
    "tags": [
     "test",
     "q05c"
    ]
   },
   "outputs": [],
   "source": [
    "assert isinstance(punct_re, str)\n",
    "assert re.search(punct_re, 'this') is None\n",
    "assert re.search(punct_re, 'this is ok') is None\n",
    "assert re.search(punct_re, 'this is\\nok') is None\n",
    "assert re.search(punct_re, 'this is not ok.') is not None\n",
    "assert re.search(punct_re, 'this#is#ok') is not None\n",
    "assert re.search(punct_re, 'this^is ok') is not None\n",
    "assert trump['no_punc'].loc[800329364986626048] == 'i watched parts of  nbcsnl saturday night live last night  it is a totally one sided  biased show   nothing funny at all  equal time for us '\n",
    "assert trump['no_punc'].loc[894620077634592769] == 'on  purpleheartday i thank all the brave men and women who have sacrificed in battle for this great nation   usa   https   t co qmfdlslp6p'\n",
    "# If you fail these tests, you accidentally changed the text column\n",
    "assert trump['text'].loc[884740553040175104] == 'working hard to get the olympics for the united states (l.a.). stay tuned!'"
   ]
  },
  {
   "cell_type": "markdown",
   "metadata": {
    "deletable": false,
    "editable": false,
    "nbgrader": {
     "cell_type": "markdown",
     "checksum": "f5839488bd1747eb5a57c1f22124fd25",
     "grade": false,
     "grade_id": "q6d-header",
     "locked": true,
     "schema_version": 2,
     "solution": false
    }
   },
   "source": [
    "## Question 6d:\n",
    "\n",
    "\n",
    "Now, let's convert the tweets into what's called a [*tidy format*](https://cran.r-project.org/web/packages/tidyr/vignettes/tidy-data.html) to make the sentiments easier to calculate. Use the `no_punc` column of `trump` to create a table called `tidy_format`. The index of the table should be the IDs of the tweets, repeated once for every word in the tweet. It has two columns:\n",
    "\n",
    "1. `num`: The location of the word in the tweet. For example, if the tweet was \"i love america\", then the location of the word \"i\" is 0, \"love\" is 1, and \"america\" is 2.\n",
    "2. `word`: The individual words of each tweet.\n",
    "\n",
    "The first few rows of our `tidy_format` table look like:\n",
    "\n",
    "<table border=\"1\" class=\"dataframe\">\n",
    "  <thead>\n",
    "    <tr style=\"text-align: right;\">\n",
    "      <th></th>\n",
    "      <th>num</th>\n",
    "      <th>word</th>\n",
    "    </tr>\n",
    "  </thead>\n",
    "  <tbody>\n",
    "    <tr>\n",
    "      <th>894661651760377856</th>\n",
    "      <td>0</td>\n",
    "      <td>i</td>\n",
    "    </tr>\n",
    "    <tr>\n",
    "      <th>894661651760377856</th>\n",
    "      <td>1</td>\n",
    "      <td>think</td>\n",
    "    </tr>\n",
    "    <tr>\n",
    "      <th>894661651760377856</th>\n",
    "      <td>2</td>\n",
    "      <td>senator</td>\n",
    "    </tr>\n",
    "    <tr>\n",
    "      <th>894661651760377856</th>\n",
    "      <td>3</td>\n",
    "      <td>blumenthal</td>\n",
    "    </tr>\n",
    "    <tr>\n",
    "      <th>894661651760377856</th>\n",
    "      <td>4</td>\n",
    "      <td>should</td>\n",
    "    </tr>\n",
    "  </tbody>\n",
    "</table>\n",
    "\n",
    "**Note that you'll get different results depending on when you pulled in the tweets.** However, you can double check that your tweet with ID `894661651760377856` has the same rows as ours. Our tests don't check whether your table looks exactly like ours.\n",
    "\n",
    "As usual, try to avoid using any for loops. Our solution uses a chain of 5 methods on the 'trump' DF, albeit using some rather advanced Pandas hacking.\n",
    "\n",
    "* **Hint 1:** Try looking at the `expand` argument to pandas' `str.split`.\n",
    "\n",
    "* **Hint 2:** Try looking at the `stack()` method.\n",
    "\n",
    "* **Hint 3:** Try looking at the `level` parameter of the `reset_index` method.\n"
   ]
  },
  {
   "cell_type": "code",
   "execution_count": 43,
   "metadata": {
    "deletable": false,
    "nbgrader": {
     "cell_type": "code",
     "checksum": "71f93a81cbd4dd1b2ff47a6d65ef758e",
     "grade": false,
     "grade_id": "q6d-answer",
     "locked": false,
     "schema_version": 2,
     "solution": true
    },
    "tags": [
     "student"
    ]
   },
   "outputs": [],
   "source": [
    "tidy_format = trump[\"no_punc\"].str.split(expand=True).stack().to_frame().reset_index()\n",
    "tidy_format.index = tidy_format[\"id\"]\n",
    "#tidy_format\n",
    "tidy_format=tidy_format.drop(\"id\",axis=1).rename(columns={\"level_1\": \"num\",0:\"word\"})\n",
    "# a=tidy_format.loc[894661651760377856]\n",
    "# a"
   ]
  },
  {
   "cell_type": "code",
   "execution_count": 44,
   "metadata": {
    "deletable": false,
    "editable": false,
    "nbgrader": {
     "cell_type": "code",
     "checksum": "78b35d7cc8348ceb6ffbd17591dfd4f1",
     "grade": true,
     "grade_id": "q6d-tests",
     "locked": true,
     "points": 1,
     "schema_version": 2,
     "solution": false
    },
    "tags": [
     "test",
     "q05d"
    ]
   },
   "outputs": [],
   "source": [
    "assert tidy_format.loc[894661651760377856].shape == (27, 2)\n",
    "assert ' '.join(list(tidy_format.loc[894661651760377856]['word'])) == 'i think senator blumenthal should take a nice long vacation in vietnam where he lied about his service so he can at least say he was there'"
   ]
  },
  {
   "cell_type": "markdown",
   "metadata": {
    "deletable": false,
    "editable": false,
    "nbgrader": {
     "cell_type": "markdown",
     "checksum": "b170181366bfdd62b6d5df9e487479b3",
     "grade": false,
     "grade_id": "q6e-header",
     "locked": true,
     "schema_version": 2,
     "solution": false
    }
   },
   "source": [
    "## Question 6e:\n",
    "\n",
    "Now that we have this table in the tidy format, it becomes much easier to find the sentiment of each tweet: we can join the table with the lexicon table. \n",
    "\n",
    "Add a `polarity` column to the `trump` table.  The `polarity` column should contain the sum of the sentiment polarity of each word in the text of the tweet.\n",
    "\n",
    "**Hint** you will need to merge the `tidy_format` and `sent` tables and group the final answer.\n"
   ]
  },
  {
   "cell_type": "code",
   "execution_count": 45,
   "metadata": {
    "deletable": false,
    "nbgrader": {
     "cell_type": "code",
     "checksum": "5ad778cbb8a86c9255acac2d8799fa96",
     "grade": false,
     "grade_id": "q6e",
     "locked": false,
     "schema_version": 2,
     "solution": true
    },
    "tags": [
     "student"
    ]
   },
   "outputs": [
    {
     "name": "stderr",
     "output_type": "stream",
     "text": [
      "/srv/conda/envs/data100/lib/python3.6/site-packages/ipykernel_launcher.py:3: SettingWithCopyWarning: \n",
      "A value is trying to be set on a copy of a slice from a DataFrame.\n",
      "Try using .loc[row_indexer,col_indexer] = value instead\n",
      "\n",
      "See the caveats in the documentation: http://pandas.pydata.org/pandas-docs/stable/indexing.html#indexing-view-versus-copy\n",
      "  This is separate from the ipykernel package so we can avoid doing imports until\n"
     ]
    }
   ],
   "source": [
    "polarity =sent.merge(tidy_format,right_on=\"word\",left_index=True,how=\"outer\")\n",
    "polarity[\"num\"].dropna(inplace=True)\n",
    "trump[\"polarity\"] = polarity.groupby(polarity.index).sum()[\"polarity\"]\n",
    "\n",
    "# YOUR CODE HERE\n",
    "#raise NotImplementedError()"
   ]
  },
  {
   "cell_type": "code",
   "execution_count": 46,
   "metadata": {
    "deletable": false,
    "editable": false,
    "nbgrader": {
     "cell_type": "code",
     "checksum": "ff43fac8ac5a95a2eef4bbb52405ad16",
     "grade": true,
     "grade_id": "q6e-tests",
     "locked": true,
     "points": 2,
     "schema_version": 2,
     "solution": false
    },
    "tags": [
     "test",
     "q05e"
    ]
   },
   "outputs": [],
   "source": [
    "assert np.allclose(trump.loc[744701872456536064, 'polarity'], 8.4)\n",
    "assert np.allclose(trump.loc[745304731346702336, 'polarity'], 2.5)\n",
    "assert np.allclose(trump.loc[744519497764184064, 'polarity'], 1.7)\n",
    "assert np.allclose(trump.loc[894661651760377856, 'polarity'], 0.2)\n",
    "assert np.allclose(trump.loc[894620077634592769, 'polarity'], 5.4)\n",
    "# If you fail this test, you dropped tweets with 0 polarity\n",
    "assert np.allclose(trump.loc[744355251365511169, 'polarity'], 0.0)"
   ]
  },
  {
   "cell_type": "markdown",
   "metadata": {
    "deletable": false,
    "editable": false,
    "nbgrader": {
     "cell_type": "markdown",
     "checksum": "1d52c721610f2c6a5e4862a1866e5abc",
     "grade": false,
     "grade_id": "a-note-on-vader",
     "locked": true,
     "schema_version": 2,
     "solution": false
    }
   },
   "source": [
    "Now we have a measure of the sentiment of each of his tweets! Note that this calculation is rather basic; you can read over the VADER readme to understand a more robust sentiment analysis.\n",
    "\n",
    "Now, run the cells below to see the most positive and most negative tweets from Trump in your dataset:"
   ]
  },
  {
   "cell_type": "code",
   "execution_count": 47,
   "metadata": {
    "deletable": false,
    "editable": false,
    "nbgrader": {
     "cell_type": "code",
     "checksum": "3ea0c421557a05c5a03c51515a5fdc78",
     "grade": false,
     "grade_id": "negative-tweets",
     "locked": true,
     "schema_version": 2,
     "solution": false
    }
   },
   "outputs": [
    {
     "name": "stdout",
     "output_type": "stream",
     "text": [
      "Most negative tweets:\n",
      "\n",
      "   .@mittromney has announced he is running for the senate from the wonderful state of utah. he will make a great senator and worthy successor to @orrinhatch, and has my full support and endorsement!\n",
      "\n",
      "   it is outrageous that poisonous synthetic heroin fentanyl comes pouring into the u.s. postal system from china. we can, and must, end this now! the senate should pass the stop act – and firmly stop this poison from killing our children and destroying our country. no more delay!\n",
      "\n",
      "   the rigged russian witch hunt goes on and on as the “originators and founders” of this scam continue to be fired and demoted for their corrupt and illegal activity. all credibility is gone from this terrible hoax, and much more will be lost as it proceeds. no collusion!\n",
      "\n",
      "   james comey is a proven leaker &amp; liar. virtually everyone in washington thought he should be fired for the terrible job he did-until he was, in fact, fired. he leaked classified information, for which he should be prosecuted. he lied to congress under oath. he is a weak and.....\n",
      "\n",
      "   this is an illegally brought rigged witch hunt run by people who are totally corrupt and/or conflicted. it was started and paid for by crooked hillary and the democrats. phony dossier, fisa disgrace and so many lying and dishonest people already fired. 17 angry dems? stay tuned!\n"
     ]
    }
   ],
   "source": [
    "print('Most negative tweets:')\n",
    "for t in trump.sort_values('polarity').head()['text']:\n",
    "    print('\\n  ', t)"
   ]
  },
  {
   "cell_type": "code",
   "execution_count": 48,
   "metadata": {
    "deletable": false,
    "editable": false,
    "nbgrader": {
     "cell_type": "code",
     "checksum": "e0d27a82de94a1ce5cf64a2c72ffb7aa",
     "grade": false,
     "grade_id": "postive-tweets",
     "locked": true,
     "schema_version": 2,
     "solution": false
    }
   },
   "outputs": [
    {
     "name": "stdout",
     "output_type": "stream",
     "text": [
      "Most positive tweets:\n",
      "\n",
      "   congratulations to patrick reed on his great and courageous masters win! when patrick had his amazing win at doral 5 years ago, people saw his great talent, and a bright future ahead. now he is the masters champion!\n",
      "\n",
      "   my supporters are the smartest, strongest, most hard working and most loyal that we have seen in our countries history. it is a beautiful thing to watch as we win elections and gather support from all over the country. as we get stronger, so does our country. best numbers ever!\n",
      "\n",
      "   thank you to all of my great supporters, really big progress being made. other countries wanting to fix crazy trade deals. economy is roaring. supreme court pick getting great reviews. new poll says trump, at over 90%, is the most popular republican in history of the party. wow!\n",
      "\n",
      "   thank you, @wvgovernor jim justice, for that warm introduction. tonight, it was my great honor to attend the “greenbrier classic – salute to service dinner” in west virginia! god bless our veterans. god bless america - and happy independence day to all! https://t.co/v35qvcn8m6\n",
      "\n",
      "   the republican party had a great night. tremendous voter energy and excitement, and all candidates are those who have a great chance of winning in november. the economy is sooo strong, and with nancy pelosi wanting to end the big tax cuts and raise taxes, why wouldn’t we win?\n"
     ]
    }
   ],
   "source": [
    "print('Most positive tweets:')\n",
    "for t in trump.sort_values('polarity', ascending=False).head()['text']:\n",
    "    print('\\n  ', t)"
   ]
  },
  {
   "cell_type": "markdown",
   "metadata": {
    "deletable": false,
    "editable": false,
    "nbgrader": {
     "cell_type": "markdown",
     "checksum": "0f2ca7db78e7689cdd731e11c9dcffb9",
     "grade": false,
     "grade_id": "q6g",
     "locked": true,
     "schema_version": 2,
     "solution": false
    }
   },
   "source": [
    "## Question 6g\n",
    "\n",
    "Plot the distribution of tweet sentiments broken down by whether the text of the tweet contains `nyt` or `fox`.  Then in the box below comment on what we observe?"
   ]
  },
  {
   "cell_type": "code",
   "execution_count": 49,
   "metadata": {
    "deletable": false,
    "nbgrader": {
     "cell_type": "code",
     "checksum": "4eb3b83e9188000a1a52427c06ea3c62",
     "grade": true,
     "grade_id": "q6g-answer",
     "locked": false,
     "points": 1,
     "schema_version": 2,
     "solution": true
    },
    "tags": [
     "student"
    ]
   },
   "outputs": [
    {
     "data": {
      "text/plain": [
       "<matplotlib.legend.Legend at 0x7f1edc9be0f0>"
      ]
     },
     "execution_count": 49,
     "metadata": {},
     "output_type": "execute_result"
    },
    {
     "data": {
      "image/png": "[encoded data removed]",
      "text/plain": [
       "<matplotlib.figure.Figure at 0x7f1edc9ca048>"
      ]
     },
     "metadata": {},
     "output_type": "display_data"
    }
   ],
   "source": [
    "nyt = trump[\"polarity\"][trump[\"text\"].str.contains(\"nyt\")]\n",
    "fox = trump[\"polarity\"][trump[\"text\"].str.contains(\"fox\")]\n",
    "sns.distplot(nyt,label=\"NYT\",hist=False)\n",
    "sns.distplot(fox,label=\"Fox\",hist=False)\n",
    "plt.legend()\n",
    "# YOUR CODE HERE\n",
    "#raise NotImplementedError()"
   ]
  },
  {
   "cell_type": "markdown",
   "metadata": {
    "deletable": false,
    "editable": false,
    "nbgrader": {
     "cell_type": "markdown",
     "checksum": "88e3a81cb1d24df731e4d72d10f08d9f",
     "grade": false,
     "grade_id": "comment-on-faux-news",
     "locked": true,
     "schema_version": 2,
     "solution": false
    }
   },
   "source": [
    "#### Comment on what you observe:"
   ]
  },
  {
   "cell_type": "markdown",
   "metadata": {
    "deletable": false,
    "nbgrader": {
     "cell_type": "markdown",
     "checksum": "07f011cfd9a34c2b3314f2a3aa210187",
     "grade": true,
     "grade_id": "q6g-written",
     "locked": false,
     "points": 1,
     "schema_version": 2,
     "solution": true
    }
   },
   "source": [
    "Tweets contains NYT(New York Times) shows a normal distribution and basicly represent a negative tweets. But fox seems like a neutral word, tweets contains it show great density on 0 or small positive polarity. "
   ]
  },
  {
   "cell_type": "markdown",
   "metadata": {
    "deletable": false,
    "editable": false,
    "nbgrader": {
     "cell_type": "markdown",
     "checksum": "c5ecdf3a6f728a340b159acc71ac1abe",
     "grade": false,
     "grade_id": "q7-header",
     "locked": true,
     "schema_version": 2,
     "solution": false
    }
   },
   "source": [
    "## Question 7: Engagement\n",
    "\n",
    "## Question 7a\n",
    "\n",
    "In this problem, we'll explore which words led to a greater average number of retweets. For example, at the time of this writing, Donald Trump has two tweets that contain the word 'oakland' (tweets 932570628451954688 and 1016609920031117312) with 36757 and 10286 retweets respectively, for an average of 23,521.5.\n",
    "\n",
    "Find the top 20 most retweeted words. Include only words that appear in at least 25 tweets. As usual, try to do this without any for loops. You can string together ~7 pandas commands and get everything done on one line.\n",
    "\n",
    "Your `top_20` table should have this format:\n",
    "\n",
    "<table border=\"1\" class=\"dataframe\">\n",
    "  <thead>\n",
    "    <tr style=\"text-align: right;\">\n",
    "      <th></th>\n",
    "      <th>retweet_count</th>\n",
    "    </tr>\n",
    "    <tr>\n",
    "      <th>word</th>\n",
    "      <th></th>\n",
    "    </tr>\n",
    "  </thead>\n",
    "  <tbody>\n",
    "    <tr>\n",
    "      <th>jong</th>\n",
    "      <td>40675.666667</td>\n",
    "    </tr>\n",
    "    <tr>\n",
    "      <th>try</th>\n",
    "      <td>33937.800000</td>\n",
    "    </tr>\n",
    "    <tr>\n",
    "      <th>kim</th>\n",
    "      <td>32849.595745</td>\n",
    "    </tr>\n",
    "    <tr>\n",
    "      <th>un</th>\n",
    "      <td>32741.731707</td>\n",
    "    </tr>\n",
    "    <tr>\n",
    "      <th>maybe</th>\n",
    "      <td>30473.192308</td>\n",
    "    </tr>\n",
    "  </tbody>\n",
    "</table>"
   ]
  },
  {
   "cell_type": "code",
   "execution_count": 50,
   "metadata": {
    "deletable": false,
    "nbgrader": {
     "cell_type": "code",
     "checksum": "fd0b39f47c0462c1c6da4a8c31df384c",
     "grade": false,
     "grade_id": "q7a",
     "locked": false,
     "schema_version": 2,
     "solution": true
    },
    "tags": [
     "student"
    ]
   },
   "outputs": [],
   "source": [
    "tidy_format[\"retweet_count\"] = trump[\"retweet_count\"]\n",
    "a= tidy_format.groupby(['word']).agg([\"count\",\"mean\"])\n",
    "b = a[a[\"num\"][\"count\"] >= 25].sort_values(by=(\"retweet_count\",\"mean\"),ascending=False)[:20]\n",
    "top_20=b.drop(b.columns[[0,1,2]],axis=1)\n",
    "top_20.columns = ['retweet_count']"
   ]
  },
  {
   "cell_type": "code",
   "execution_count": 51,
   "metadata": {
    "deletable": false,
    "editable": false,
    "nbgrader": {
     "cell_type": "code",
     "checksum": "21c9f88159cc2a93678adbf0ed15b141",
     "grade": true,
     "grade_id": "q7a-test",
     "locked": true,
     "points": 1,
     "schema_version": 2,
     "solution": false
    },
    "tags": [
     "test",
     "q07a"
    ]
   },
   "outputs": [],
   "source": [
    "# Although it can't be guaranteed, it's very likely that the top 5 words will still be\n",
    "# in the top 20 words in the next month.\n",
    "assert 'jong'     in top_20.index\n",
    "assert 'try'     in top_20.index\n",
    "assert 'kim' in top_20.index\n",
    "assert 'un'    in top_20.index\n",
    "assert 'maybe'    in top_20.index\n"
   ]
  },
  {
   "cell_type": "markdown",
   "metadata": {
    "deletable": false,
    "editable": false,
    "nbgrader": {
     "cell_type": "markdown",
     "checksum": "a4a12be8f88ac931b51b85a1ffa5cfde",
     "grade": false,
     "grade_id": "bar-chart-results",
     "locked": true,
     "schema_version": 2,
     "solution": false
    }
   },
   "source": [
    "Here's a bar chart of your results:"
   ]
  },
  {
   "cell_type": "code",
   "execution_count": 52,
   "metadata": {
    "deletable": false,
    "editable": false,
    "nbgrader": {
     "cell_type": "code",
     "checksum": "4a962cdd19dad39e5f8aa5fe2ff096e4",
     "grade": false,
     "grade_id": "top-retweets",
     "locked": true,
     "schema_version": 2,
     "solution": false
    }
   },
   "outputs": [
    {
     "data": {
      "image/png": "[encoded data removed]",
      "text/plain": [
       "<matplotlib.figure.Figure at 0x7f1edd1aee48>"
      ]
     },
     "metadata": {},
     "output_type": "display_data"
    }
   ],
   "source": [
    "top_20['retweet_count'].sort_values().plot.barh(figsize=(10, 8));"
   ]
  },
  {
   "cell_type": "markdown",
   "metadata": {
    "deletable": false,
    "editable": false,
    "nbgrader": {
     "cell_type": "markdown",
     "checksum": "70a14a09cd647399e07501fd7ba2c9e1",
     "grade": false,
     "grade_id": "q7b",
     "locked": true,
     "schema_version": 2,
     "solution": false
    }
   },
   "source": [
    "## Question 7b\n",
    "\n",
    "\"kim\", \"jong\" and \"un\" are apparently really popular in Trump's tweets! It seems like we can conclude that his tweets involving jong are more popular than his other tweets. Or can we?\n",
    "\n",
    "Consider each of the statements about possible confounding factors below. State whether each statement is true or false and explain. If the statement is true, state whether the confounding factor could have made kim jong un related tweets higher in the list than they should be.\n",
    "\n",
    "1. We didn't restrict our word list to nouns, so we have unhelpful words like \"let\" and \"any\" in our result.\n",
    "1. We didn't remove hashtags in our text, so we have duplicate words (eg. #great and great).\n",
    "1. We didn't account for the fact that Trump's follower count has increased over time."
   ]
  },
  {
   "cell_type": "markdown",
   "metadata": {
    "deletable": false,
    "nbgrader": {
     "cell_type": "markdown",
     "checksum": "577b78199cd4361dd51b92774e09beb0",
     "grade": true,
     "grade_id": "q7b-answer",
     "locked": false,
     "points": 1,
     "schema_version": 2,
     "solution": true
    },
    "tags": [
     "student",
     "written"
    ]
   },
   "source": [
    "We can't conclude like that. From my point of view, these three word represent the leader of north Korea, so when we divide it into three part, they has definitely different meaning, the tweets which has only one or two of them in it is not likely to be popular.\n",
    "\n",
    "\n",
    "Considering the first statement, it is true.Because this kind of word didin't worth analyze, it doesn't really influence the popularity of a certain tweet.\n",
    "\n",
    "\n",
    "For the second one, it is false. Because we have already done the data cleaning process. That means, if there exist a #great in the tweet, we will record it as great itself.\n",
    "\n",
    "\n",
    "\n",
    "The third one is True, the number of follower will let word\"fake\",\"old\" being higher on our list. Since more people that follow Trump, there will be more people agree with statements involving those words. And thereby increase the retweet amount of those words."
   ]
  },
  {
   "cell_type": "markdown",
   "metadata": {
    "deletable": false,
    "editable": false,
    "nbgrader": {
     "cell_type": "markdown",
     "checksum": "2349bca60086e521e2127eb40b1beb29",
     "grade": false,
     "grade_id": "q8",
     "locked": true,
     "schema_version": 2,
     "solution": false
    }
   },
   "source": [
    "## Question 8\n",
    "\n",
    "Using the `trump` tweets construct an interesting plot describing a property of the data and discuss what you found below.\n",
    "\n",
    "**Ideas:**\n",
    "\n",
    "1. How has the sentiment changed with length of the tweets?\n",
    "1. Does sentiment affect retweet count?\n",
    "1. Are retweets more negative than regular tweets?\n",
    "1. Are there any spikes in the number of retweets and do the correspond to world events? \n",
    "1. *Bonus:* How many Russian twitter bots follow Trump? \n",
    "1. What terms have an especially positive or negative sentiment?\n",
    "\n",
    "You can look at other data sources and even tweets.\n"
   ]
  },
  {
   "cell_type": "markdown",
   "metadata": {
    "deletable": false,
    "editable": false,
    "nbgrader": {
     "cell_type": "markdown",
     "checksum": "9742f4a99a0e60845ad7dcc60d774fd7",
     "grade": false,
     "grade_id": "plot8-q",
     "locked": true,
     "schema_version": 2,
     "solution": false
    }
   },
   "source": [
    "### Plot:"
   ]
  },
  {
   "cell_type": "code",
   "execution_count": 53,
   "metadata": {
    "deletable": false,
    "nbgrader": {
     "cell_type": "code",
     "checksum": "1f84a32506abaa59849e1923f60afb03",
     "grade": true,
     "grade_id": "q8-plot",
     "locked": false,
     "points": 2,
     "schema_version": 2,
     "solution": true
    }
   },
   "outputs": [
    {
     "data": {
      "text/plain": [
       "<seaborn.axisgrid.JointGrid at 0x7f1ecedffe10>"
      ]
     },
     "execution_count": 53,
     "metadata": {},
     "output_type": "execute_result"
    },
    {
     "data": {
      "image/png": "[encoded data removed]",
      "text/plain": [
       "<matplotlib.figure.Figure at 0x7f1ecedffe48>"
      ]
     },
     "metadata": {},
     "output_type": "display_data"
    }
   ],
   "source": [
    "tidy_format[\"retweet_count\"] = trump[\"retweet_count\"]\n",
    "tidy_format[\"polarity\"] = trump[\"polarity\"]\n",
    "tidy_format=tidy_format[tidy_format['polarity']>-20.0]\n",
    "final= tidy_format.groupby(['word']).agg(\"mean\")\n",
    "sns.jointplot(x=\"polarity\", y=\"retweet_count\", data=final)\n",
    "# aaa = final[final[\"num\"][\"count\"] >= 25].sort_values(by=(\"retweet_count\",\"mean\"),ascending=False)[:20]\n",
    "# top_20=b.drop(b.columns[[0,1,2]],axis=1)\n",
    "# top_20.columns = ['retweet_count']\n",
    "# # YOUR CODE HERE\n",
    "# raise NotImplementedError()"
   ]
  },
  {
   "cell_type": "markdown",
   "metadata": {
    "deletable": false,
    "editable": false,
    "nbgrader": {
     "cell_type": "markdown",
     "checksum": "8bcdf92134fc82c0b7dcfb54c62dadfe",
     "grade": false,
     "grade_id": "disc8-q",
     "locked": true,
     "schema_version": 2,
     "solution": false
    }
   },
   "source": [
    "### Discussion of Your Plot:"
   ]
  },
  {
   "cell_type": "markdown",
   "metadata": {
    "deletable": false,
    "nbgrader": {
     "cell_type": "markdown",
     "checksum": "36550141bfc678e4ad08057239781458",
     "grade": true,
     "grade_id": "q8-disc",
     "locked": false,
     "points": 1,
     "schema_version": 2,
     "solution": true
    }
   },
   "source": [
    "From my exploration, we can know that when the polarity is between -10 to 10, Trump's tweet tends to be retweet when polarity is closer to 0.\n",
    "That means, the absolute value of polarity is inverse proportion to retweet count in this part."
   ]
  },
  {
   "cell_type": "markdown",
   "metadata": {
    "deletable": false,
    "editable": false,
    "nbgrader": {
     "cell_type": "markdown",
     "checksum": "7cd0d0cd6110eba1fea6f1316c48f4a0",
     "grade": false,
     "grade_id": "submission",
     "locked": true,
     "schema_version": 2,
     "solution": false
    }
   },
   "source": [
    "## Submission\n",
    "\n",
    "Congrats, you just finished Project 1!"
   ]
  },
  {
   "cell_type": "markdown",
   "metadata": {},
   "source": [
    "## Submission\n",
    "\n",
    "You're done!\n",
    "\n",
    "Before submitting this assignment, ensure to:\n",
    "\n",
    "1. Restart the Kernel (in the menubar, select Kernel->Restart & Run All)\n",
    "2. Validate the notebook by clicking the \"Validate\" button\n",
    "\n",
    "Finally, make sure to **submit** the assignment via the Assignments tab in Datahub"
   ]
  }
 ],
 "metadata": {
  "kernelspec": {
   "display_name": "Python 3",
   "language": "python",
   "name": "python3"
  },
  "language_info": {
   "codemirror_mode": {
    "name": "ipython",
    "version": 3
   },
   "file_extension": ".py",
   "mimetype": "text/x-python",
   "name": "python",
   "nbconvert_exporter": "python",
   "pygments_lexer": "ipython3",
   "version": "3.6.4"
  }
 },
 "nbformat": 4,
 "nbformat_minor": 2
}
