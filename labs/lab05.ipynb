{
 "cells": [
  {
   "cell_type": "markdown",
   "metadata": {},
   "source": [
    "Before you turn this problem in, make sure everything runs as expected. First, **restart the kernel** (in the menubar, select Kernel$\\rightarrow$Restart) and then **run all cells** (in the menubar, select Cell$\\rightarrow$Run All).\n",
    "\n",
    "Make sure you fill in any place that says `YOUR CODE HERE` or \"YOUR ANSWER HERE\", as well as your name and collaborators below:"
   ]
  },
  {
   "cell_type": "code",
   "execution_count": 33,
   "metadata": {},
   "outputs": [],
   "source": [
    "NAME = \"Guo Fangzheng\"\n",
    "COLLABORATORS = \"\""
   ]
  },
  {
   "cell_type": "markdown",
   "metadata": {},
   "source": [
    "---"
   ]
  },
  {
   "cell_type": "markdown",
   "metadata": {
    "deletable": false,
    "editable": false,
    "nbgrader": {
     "cell_type": "markdown",
     "checksum": "e9d656057af92f3101797b461cadb85f",
     "grade": false,
     "grade_id": "intro",
     "locked": true,
     "schema_version": 2,
     "solution": false
    }
   },
   "source": [
    "# Lab 5: Modeling and Estimation\n",
    "\n",
    "In this lab you will work with the tips dataset in order to:\n",
    "1. Implement a basic model, define loss functions\n",
    "1. Minimize loss functions using numeric libraries \n",
    "\n",
    "**This assignment should be completed and submitted before Monday September 24, 2018 at 11:59 PM.**\n",
    "\n",
    "\n",
    "### Collaboration Policy\n",
    "\n",
    "Data science is a collaborative activity. While you may talk with others about the labs, we ask that you **write your solutions individually**. If you do discuss the assignments with others, please **include their names** at the top of this notebook."
   ]
  },
  {
   "cell_type": "markdown",
   "metadata": {},
   "source": [
    "## Setup"
   ]
  },
  {
   "cell_type": "code",
   "execution_count": 34,
   "metadata": {
    "_cell_guid": "33c63379-d85b-4638-8183-d008fdb96de7",
    "_uuid": "7ad7f9f24df7dba8ac92d234890835f6b9970834",
    "deletable": false,
    "editable": false,
    "nbgrader": {
     "cell_type": "code",
     "checksum": "81e2ff7a413ac63d2fb4eb0b850384a9",
     "grade": false,
     "grade_id": "imports1",
     "locked": true,
     "schema_version": 2,
     "solution": false
    }
   },
   "outputs": [],
   "source": [
    "import pandas as pd\n",
    "import numpy as np\n",
    "import seaborn as sns\n",
    "import matplotlib.pyplot as plt\n",
    "np.random.seed(42)\n",
    "plt.style.use('fivethirtyeight')\n",
    "sns.set()\n",
    "sns.set_context(\"talk\")\n",
    "%matplotlib inline"
   ]
  },
  {
   "cell_type": "markdown",
   "metadata": {},
   "source": [
    "## Survey \n",
    "\n",
    "As a part of this lab, please complete [this survey](https://goo.gl/forms/VCpxdKY98DjUTHc32). This is a great way for us to get feedback about the course. If you have other thoughts or concerns to share, please let us know in office hours or through email."
   ]
  },
  {
   "cell_type": "code",
   "execution_count": 35,
   "metadata": {},
   "outputs": [],
   "source": [
    "# Change this to true after completing the survey\n",
    "i_filled_out_the_survey = True"
   ]
  },
  {
   "cell_type": "code",
   "execution_count": 36,
   "metadata": {},
   "outputs": [],
   "source": [
    "assert i_filled_out_the_survey == True"
   ]
  },
  {
   "cell_type": "markdown",
   "metadata": {
    "deletable": false,
    "editable": false,
    "nbgrader": {
     "cell_type": "markdown",
     "checksum": "c62623035fc4f79ae75314a6f33b9a9d",
     "grade": false,
     "grade_id": "loadsummary",
     "locked": true,
     "schema_version": 2,
     "solution": false
    }
   },
   "source": [
    "# Loading the Tips Dataset\n",
    "\n",
    "To begin with, we load the tips dataset from the `seaborn` library.  The tips data contains records of tips, total bill, and information about the person who paid the bill."
   ]
  },
  {
   "cell_type": "code",
   "execution_count": 37,
   "metadata": {
    "deletable": false,
    "editable": false,
    "nbgrader": {
     "cell_type": "code",
     "checksum": "d1a323feb60ced6212eadbe279f7b1d1",
     "grade": false,
     "grade_id": "loaddata",
     "locked": true,
     "schema_version": 2,
     "solution": false
    }
   },
   "outputs": [
    {
     "name": "stdout",
     "output_type": "stream",
     "text": [
      "Number of Records: 244\n"
     ]
    },
    {
     "data": {
      "text/html": [
       "<div>\n",
       "<style scoped>\n",
       "    .dataframe tbody tr th:only-of-type {\n",
       "        vertical-align: middle;\n",
       "    }\n",
       "\n",
       "    .dataframe tbody tr th {\n",
       "        vertical-align: top;\n",
       "    }\n",
       "\n",
       "    .dataframe thead th {\n",
       "        text-align: right;\n",
       "    }\n",
       "</style>\n",
       "<table border=\"1\" class=\"dataframe\">\n",
       "  <thead>\n",
       "    <tr style=\"text-align: right;\">\n",
       "      <th></th>\n",
       "      <th>total_bill</th>\n",
       "      <th>tip</th>\n",
       "      <th>sex</th>\n",
       "      <th>smoker</th>\n",
       "      <th>day</th>\n",
       "      <th>time</th>\n",
       "      <th>size</th>\n",
       "    </tr>\n",
       "  </thead>\n",
       "  <tbody>\n",
       "    <tr>\n",
       "      <th>0</th>\n",
       "      <td>16.99</td>\n",
       "      <td>1.01</td>\n",
       "      <td>Female</td>\n",
       "      <td>No</td>\n",
       "      <td>Sun</td>\n",
       "      <td>Dinner</td>\n",
       "      <td>2</td>\n",
       "    </tr>\n",
       "    <tr>\n",
       "      <th>1</th>\n",
       "      <td>10.34</td>\n",
       "      <td>1.66</td>\n",
       "      <td>Male</td>\n",
       "      <td>No</td>\n",
       "      <td>Sun</td>\n",
       "      <td>Dinner</td>\n",
       "      <td>3</td>\n",
       "    </tr>\n",
       "    <tr>\n",
       "      <th>2</th>\n",
       "      <td>21.01</td>\n",
       "      <td>3.50</td>\n",
       "      <td>Male</td>\n",
       "      <td>No</td>\n",
       "      <td>Sun</td>\n",
       "      <td>Dinner</td>\n",
       "      <td>3</td>\n",
       "    </tr>\n",
       "    <tr>\n",
       "      <th>3</th>\n",
       "      <td>23.68</td>\n",
       "      <td>3.31</td>\n",
       "      <td>Male</td>\n",
       "      <td>No</td>\n",
       "      <td>Sun</td>\n",
       "      <td>Dinner</td>\n",
       "      <td>2</td>\n",
       "    </tr>\n",
       "    <tr>\n",
       "      <th>4</th>\n",
       "      <td>24.59</td>\n",
       "      <td>3.61</td>\n",
       "      <td>Female</td>\n",
       "      <td>No</td>\n",
       "      <td>Sun</td>\n",
       "      <td>Dinner</td>\n",
       "      <td>4</td>\n",
       "    </tr>\n",
       "  </tbody>\n",
       "</table>\n",
       "</div>"
      ],
      "text/plain": [
       "   total_bill   tip     sex smoker  day    time  size\n",
       "0       16.99  1.01  Female     No  Sun  Dinner     2\n",
       "1       10.34  1.66    Male     No  Sun  Dinner     3\n",
       "2       21.01  3.50    Male     No  Sun  Dinner     3\n",
       "3       23.68  3.31    Male     No  Sun  Dinner     2\n",
       "4       24.59  3.61  Female     No  Sun  Dinner     4"
      ]
     },
     "execution_count": 37,
     "metadata": {},
     "output_type": "execute_result"
    }
   ],
   "source": [
    "data = sns.load_dataset(\"tips\")\n",
    "\n",
    "print(\"Number of Records:\", len(data))\n",
    "data.head()"
   ]
  },
  {
   "cell_type": "markdown",
   "metadata": {
    "deletable": false,
    "editable": false,
    "nbgrader": {
     "cell_type": "markdown",
     "checksum": "059339244c1502ef21add6f29704eb22",
     "grade": false,
     "grade_id": "q1",
     "locked": true,
     "schema_version": 2,
     "solution": false
    }
   },
   "source": [
    "---\n",
    "<br></br>\n",
    "\n",
    "# Question 1: Defining the Model \n",
    "\n",
    "In lecture we modeled the percent tip.  In this lab we will instead attempt to model the tip value (in dollars) as a function of the total bill.  As a consequence we define the following mathematical model:\n",
    "\n",
    "$$\\Large\n",
    "\\texttt{Tip} = \\theta^*  \\times \\texttt{TotalBill}\n",
    "$$\n",
    "\n",
    "This follows the similar intuition that tips are some **unknown** percentage of the total bill.  We will then try to estimate the slope of this relationship which corresponds to the percent tip.\n",
    "\n",
    "Here the parameter $\\theta^*$ represents the true percent tip that we would like to estimate.  \n",
    "\n",
    "**Implement the python function for this model (yes this is very easy):**\n"
   ]
  },
  {
   "cell_type": "code",
   "execution_count": 38,
   "metadata": {
    "deletable": false,
    "nbgrader": {
     "cell_type": "code",
     "checksum": "da4e926fc5ef4661cbe6c29cf8dfd25b",
     "grade": false,
     "grade_id": "q1-answer",
     "locked": false,
     "schema_version": 2,
     "solution": true
    },
    "tags": [
     "student"
    ]
   },
   "outputs": [],
   "source": [
    "def model(theta, total_bill):\n",
    "    \"\"\"\n",
    "    Takes the parameter theta and the total bill, and returns the computed tip.\n",
    "    \n",
    "    Parameters\n",
    "    ----------\n",
    "    theta: tip percentage \n",
    "    total_bill: total bill value in dollars\n",
    "    \"\"\"\n",
    "    tip=theta*total_bill\n",
    "    return tip\n",
    "    # YOUR CODE HERE\n",
    "    #raise NotImplementedError()"
   ]
  },
  {
   "cell_type": "code",
   "execution_count": 39,
   "metadata": {
    "deletable": false,
    "editable": false,
    "nbgrader": {
     "cell_type": "code",
     "checksum": "d651e28358e2c9befd1f555c4da6e815",
     "grade": true,
     "grade_id": "q1-test",
     "locked": true,
     "points": 1,
     "schema_version": 2,
     "solution": false
    },
    "tags": [
     "test",
     "q01a"
    ]
   },
   "outputs": [],
   "source": [
    "assert model(1.0, 2.0) == 2.0\n",
    "assert np.all(model(3.0, np.array([4.0, 5.0])) == 3.0 * np.array([4.0, 5.0]))"
   ]
  },
  {
   "cell_type": "markdown",
   "metadata": {
    "deletable": false,
    "editable": false,
    "nbgrader": {
     "cell_type": "markdown",
     "checksum": "37ca79b2802d83c645aea30b25bc7bad",
     "grade": false,
     "grade_id": "q2",
     "locked": true,
     "schema_version": 2,
     "solution": false
    }
   },
   "source": [
    "---\n",
    "<br/><br/><br/>\n",
    "\n",
    "# Loss Functions\n",
    "\n",
    "In class we covered a range of different loss functions.  In this lab we will implement the squared loss and the absolute loss functions.  \n",
    "Suppose for a given total bill $x$, we observe a tip value of $y$ and our model predicts a tip value $\\hat{y}$ by:\n",
    "$$\\Large\n",
    "% the \\hspace{0pt} is added to address a bug in safari mathjax\n",
    "\\hat{\\hspace{0pt}y} = \\theta x\n",
    "$$ \n",
    "then any of the following might be appropriate **loss functions**\n",
    "\n",
    "1. **Squared Loss** (also known as the $L^2$ loss pronounced \"ell-two\"):\n",
    "$$\\Large\n",
    "% the \\hspace{0pt} is added to address a bug in safari mathjax\n",
    "L\\left(y, \\hat{\\hspace{0pt}y} \\right) = \\left( y - \\hat{\\hspace{0pt}y} \\right)^2\n",
    "$$\n",
    "1. **Absolute Loss** (also known as the $L^1$ loss pronounced \"ell-one\"):\n",
    "$$\\Large\n",
    "% the \\hspace{0pt} is added to address a bug in safari mathjax\n",
    "L\\left(y, \\hat{\\hspace{0pt}y} \\right) = \\left| y - \\hat{\\hspace{0pt}y} \\right|\n",
    "$$\n",
    "\n",
    "---\n",
    "<br></br>\n",
    "In this question, you are going to define functions for **squared loss** and **absolute loss**. "
   ]
  },
  {
   "cell_type": "markdown",
   "metadata": {
    "deletable": false,
    "editable": false,
    "nbgrader": {
     "cell_type": "markdown",
     "checksum": "ef080b1728ad225211f0c8b8d5d3cb98",
     "grade": false,
     "grade_id": "q2a",
     "locked": true,
     "schema_version": 2,
     "solution": false
    }
   },
   "source": [
    "## Question 2a: Implement the squared loss function\n",
    "\n",
    "\n",
    "$$\\Large\n",
    "L\\left(y, \\hat{\\hspace{0pt}y} \\right) = \\left( y - \\hat{\\hspace{0pt}y} \\right)^2\n",
    "$$"
   ]
  },
  {
   "cell_type": "markdown",
   "metadata": {},
   "source": [
    "Using the comments below, implement the squared loss function. Your answer should not use any loops."
   ]
  },
  {
   "cell_type": "code",
   "execution_count": 40,
   "metadata": {
    "deletable": false,
    "nbgrader": {
     "cell_type": "code",
     "checksum": "06d32caeecc89cedf14e8106ffda94f8",
     "grade": false,
     "grade_id": "q2a-answer",
     "locked": false,
     "schema_version": 2,
     "solution": true
    },
    "tags": [
     "student"
    ]
   },
   "outputs": [],
   "source": [
    "def squared_loss(y_obs, y_hat):\n",
    "    \"\"\"\n",
    "    Calculate the squared loss of the observed data and predicted data.\n",
    "    \n",
    "    Parameters\n",
    "    ------------\n",
    "    y_obs: an array of observed values\n",
    "    y_hat: an array of predicted values\n",
    "    \n",
    "    Returns\n",
    "    ------------\n",
    "    An array of loss values corresponding to the squared loss for each prediction\n",
    "    \"\"\"\n",
    "    loss=(y_obs-y_hat)**2\n",
    "    return loss\n",
    "    # YOUR CODE HERE\n",
    "    #raise NotImplementedError()\n",
    "    \n",
    "    "
   ]
  },
  {
   "cell_type": "code",
   "execution_count": 41,
   "metadata": {
    "deletable": false,
    "editable": false,
    "nbgrader": {
     "cell_type": "code",
     "checksum": "2ced3e8bc7ba2301755c978465cdd4e7",
     "grade": true,
     "grade_id": "q2a-test",
     "locked": true,
     "points": 1,
     "schema_version": 2,
     "solution": false
    },
    "tags": [
     "test",
     "q02a"
    ]
   },
   "outputs": [],
   "source": [
    "assert squared_loss(2, 1) == 1\n",
    "assert squared_loss(2, 0) == 4 \n",
    "assert squared_loss(5, 1) == 16\n",
    "assert np.sum((squared_loss(np.array([5, 6]), np.array([1, 1])) - np.array([16, 25]))**2) == 0.0"
   ]
  },
  {
   "cell_type": "markdown",
   "metadata": {
    "deletable": false,
    "editable": false,
    "nbgrader": {
     "cell_type": "markdown",
     "checksum": "7fa8e1a469bc4e1241b05507213afd62",
     "grade": false,
     "grade_id": "q2b",
     "locked": true,
     "schema_version": 2,
     "solution": false
    }
   },
   "source": [
    "## Question 2b: Plotting Squared Loss\n",
    "\n",
    "Suppose you observe a bill of \\$28 with a tip \\$3. (Does this tip look reasonable?)\n",
    "\n",
    "Transform this information in our model, we have a $y=3.00$ and $x=28.00$. Now suppose we pick an initial range of $\\theta$'s (tip percent in this case) for you. Use the `model` and `squared_loss` function defined above to plot the loss for a range of $\\theta$ values:"
   ]
  },
  {
   "cell_type": "code",
   "execution_count": 42,
   "metadata": {
    "deletable": false,
    "editable": false,
    "nbgrader": {
     "cell_type": "code",
     "checksum": "04603efa5c2ea6887635351dad7d7b54",
     "grade": false,
     "grade_id": "q2b-setup",
     "locked": true,
     "schema_version": 2,
     "solution": false
    }
   },
   "outputs": [],
   "source": [
    "y = 3.00\n",
    "x = 28.00\n",
    "thetas = np.linspace(0, 0.3, 200) # A range of theta values"
   ]
  },
  {
   "cell_type": "code",
   "execution_count": 43,
   "metadata": {
    "deletable": false,
    "nbgrader": {
     "cell_type": "code",
     "checksum": "76cee1c0caa63a22bc0ad2942ffdf672",
     "grade": false,
     "grade_id": "q2b-answer",
     "locked": false,
     "schema_version": 2,
     "solution": true
    },
    "tags": [
     "student"
    ]
   },
   "outputs": [],
   "source": [
    "## Finish this by replacing 0.0 with the correct calculation \n",
    "## Hint: You will use squared_loss y, model, theta and x\n",
    "#loss should be a numpy array where the ith entry corresponds to the loss for the ith theta\n",
    "\n",
    "\n",
    "\n",
    "loss = np.array([squared_loss(model(theta,28),3) for theta in thetas])\n",
    "\n",
    "\n",
    "# YOUR CODE HERE\n",
    "#raise NotImplementedError()"
   ]
  },
  {
   "cell_type": "code",
   "execution_count": 44,
   "metadata": {
    "deletable": false,
    "editable": false,
    "nbgrader": {
     "cell_type": "code",
     "checksum": "cd9c6bf3c012a20819511947fd7e4f5d",
     "grade": true,
     "grade_id": "q2b-test",
     "locked": true,
     "points": 1,
     "schema_version": 2,
     "solution": false
    },
    "tags": [
     "test",
     "q02b"
    ]
   },
   "outputs": [],
   "source": [
    "assert loss.dtype == np.dtype('float64') "
   ]
  },
  {
   "cell_type": "markdown",
   "metadata": {
    "deletable": false,
    "editable": false,
    "nbgrader": {
     "cell_type": "markdown",
     "checksum": "d36d17d4ba276f2e6c398d038ead0e7c",
     "grade": false,
     "grade_id": "q2b-plot",
     "locked": true,
     "schema_version": 2,
     "solution": false
    }
   },
   "source": [
    "To test your loss calculation above, run the cell below, and it should produce this picture:\n",
    "\n",
    "![squared loss](squared_loss.png)"
   ]
  },
  {
   "cell_type": "code",
   "execution_count": 45,
   "metadata": {
    "deletable": false,
    "editable": false,
    "nbgrader": {
     "cell_type": "code",
     "checksum": "06280019ccd0c2e2cbaff50c0b67adab",
     "grade": false,
     "grade_id": "q2b-makeplot",
     "locked": true,
     "schema_version": 2,
     "solution": false
    },
    "tags": [
     "student",
     "written"
    ]
   },
   "outputs": [
    {
     "data": {
      "image/png": "[encoded data removed]",
      "text/plain": [
       "<matplotlib.figure.Figure at 0x7f5cc50cf7f0>"
      ]
     },
     "metadata": {},
     "output_type": "display_data"
    }
   ],
   "source": [
    "plt.plot(thetas, loss, label=\"Squared Loss\")\n",
    "plt.title(\"Squared Loss of Observed and Predicted Tip (in dollars)\")\n",
    "plt.xlabel(r\"Choice for $\\theta$ (tip percent)\")\n",
    "plt.ylabel(r\"Loss\")\n",
    "plt.legend(loc=4)\n",
    "plt.savefig(\"squared_loss_my_plot.png\",  bbox_inches = 'tight')"
   ]
  },
  {
   "cell_type": "markdown",
   "metadata": {
    "deletable": false,
    "editable": false,
    "nbgrader": {
     "cell_type": "markdown",
     "checksum": "5326dfad73049ecfe03bd58c6b197bd4",
     "grade": false,
     "grade_id": "q2c",
     "locked": true,
     "schema_version": 2,
     "solution": false
    }
   },
   "source": [
    "## Question 2c: Implement the absolute loss \n",
    "\n",
    "$$\\Large\n",
    "L\\left(y, \\hat{\\hspace{0pt}y} \\right) = \\left| y - \\hat{\\hspace{0pt}y} \\right|\n",
    "$$"
   ]
  },
  {
   "cell_type": "code",
   "execution_count": 46,
   "metadata": {
    "deletable": false,
    "nbgrader": {
     "cell_type": "code",
     "checksum": "1809b747fdf3021da81e1c655bf3ba4e",
     "grade": false,
     "grade_id": "q2c-answer",
     "locked": false,
     "schema_version": 2,
     "solution": true
    },
    "tags": [
     "student"
    ]
   },
   "outputs": [],
   "source": [
    "def abs_loss(y_obs, y_hat):\n",
    "    \"\"\"\n",
    "    Calculate the absolute loss of the observed data and predicted data.\n",
    "    \n",
    "    Parameters\n",
    "    ------------\n",
    "    y_obs: an array of observed values\n",
    "    y_hat: an array of predicted values\n",
    "    \n",
    "    Returns\n",
    "    ------------\n",
    "    An array of loss values corresponding to the absolute loss for each prediction\n",
    "    \"\"\"\n",
    "#     if y_obs-y_hat>=0:\n",
    "#         a=y_obs-y_hat    \n",
    "#     else:\n",
    "#         a=y_hat-y_obs\n",
    "#     return a\n",
    "    return abs(y_obs-y_hat)\n",
    "    # YOUR CODE HERE\n",
    "    #raise NotImplementedError()"
   ]
  },
  {
   "cell_type": "code",
   "execution_count": 47,
   "metadata": {
    "deletable": false,
    "editable": false,
    "nbgrader": {
     "cell_type": "code",
     "checksum": "fd180757e3dd5c267be635f2f000c2ea",
     "grade": true,
     "grade_id": "q2c-test",
     "locked": true,
     "points": 1,
     "schema_version": 2,
     "solution": false
    },
    "tags": [
     "test",
     "q02c"
    ]
   },
   "outputs": [],
   "source": [
    "assert abs_loss(2, 1) == 1\n",
    "assert abs_loss(-2, 1) == 3\n",
    "assert abs_loss(1, -3) == 4 \n",
    "assert np.linalg.norm(abs_loss(np.array([1,2]), np.array([-3,3])) - np.array([4, 1]), ord=1) == 0.0"
   ]
  },
  {
   "cell_type": "markdown",
   "metadata": {
    "deletable": false,
    "editable": false,
    "nbgrader": {
     "cell_type": "markdown",
     "checksum": "7b0755ae0e642bec552cccde9b32a21e",
     "grade": false,
     "grade_id": "q2c-plot",
     "locked": true,
     "schema_version": 2,
     "solution": false
    }
   },
   "source": [
    "Below is the plot of the absolute loss.  If you implemented things correctly it should look like:\n",
    "\n",
    "![absolute loss](absolute_loss.png)\n"
   ]
  },
  {
   "cell_type": "code",
   "execution_count": 48,
   "metadata": {
    "deletable": false,
    "editable": false,
    "nbgrader": {
     "cell_type": "code",
     "checksum": "56b187b1a952214d9b971a4dfe928725",
     "grade": false,
     "grade_id": "q2c-makeplot",
     "locked": true,
     "schema_version": 2,
     "solution": false
    },
    "tags": [
     "student",
     "written"
    ]
   },
   "outputs": [
    {
     "data": {
      "image/png": "[encoded data removed]",
      "text/plain": [
       "<matplotlib.figure.Figure at 0x7f5cc4fea908>"
      ]
     },
     "metadata": {},
     "output_type": "display_data"
    }
   ],
   "source": [
    "y = 3.00\n",
    "x = 28.00\n",
    "thetas = np.linspace(0, 0.3, 200) \n",
    "\n",
    "# Code provided for you this time. (you're welcome)\n",
    "loss = np.array([abs_loss(y, model(theta,x)) for theta in thetas])\n",
    "\n",
    "plt.plot(thetas, loss, label=\"Absolute Loss\")\n",
    "plt.title(\"Absolute Loss of Observed and Predicted Tip (in dollars)\")\n",
    "plt.xlabel(r\"Choice for $\\theta$ (tip percent)\")\n",
    "plt.ylabel(r\"Loss\")\n",
    "plt.legend(loc=4)\n",
    "plt.savefig(\"absolute_loss_my_plot.png\",  bbox_inches = 'tight')"
   ]
  },
  {
   "cell_type": "markdown",
   "metadata": {
    "deletable": false,
    "editable": false,
    "nbgrader": {
     "cell_type": "markdown",
     "checksum": "c75a63c0b105b5ed21724fb4c160f9bc",
     "grade": false,
     "grade_id": "q2d",
     "locked": true,
     "schema_version": 2,
     "solution": false
    }
   },
   "source": [
    "\n",
    "## Question 2d: Plotting **Average Loss** for our Data\n",
    "Remember we define our model to be:\n",
    "$$\\Large\n",
    "% the \\hspace{0pt} is added to address a bug in safari mathjax\n",
    "\\hat{\\hspace{0pt}y} = \\theta x\n",
    "$$ \n",
    "Now, we can extend the above loss functions to an entire dataset by taking the average. Let the dataset $\\mathcal{D}$ be the set of observations:\n",
    "\n",
    "$$\\Large\n",
    "\\mathcal{D} = \\{(x_1, y_1), \\ldots, (x_n, y_n)\\}\n",
    "$$\n",
    "\n",
    "where $x_i$ is the total bill and $y_i$ is the tip dollar amount.\n",
    "\n",
    "We can define the average loss over the dataset as:\n",
    "\n",
    "$$\\Large\n",
    "L\\left(\\theta, \\mathcal{D}\\right) = \\frac{1}{n} \\sum_{i=1}^n L(m_\\theta(x_i), y_i) = \\frac{1}{n} \\sum_{i=1}^n L(\\theta x_i, y_i) = \\frac{1}{n} \\sum_{i=1}^n L(\\hat{y_i}, y_i)\n",
    "$$\n",
    "\n",
    "where $m_\\theta(x_i) = \\theta x_i = \\hat{y_i}$ is the model evaluated using the parameters $\\theta$ on the bill amount $x_i$.\n",
    "\n",
    "**Complete the following code block to render a plot of the average absolute and squared loss for different values of $\\theta$**"
   ]
  },
  {
   "cell_type": "code",
   "execution_count": 49,
   "metadata": {
    "deletable": false,
    "nbgrader": {
     "cell_type": "code",
     "checksum": "4dc6bc930851955a5ae68f1c63907279",
     "grade": false,
     "grade_id": "q2d-answer",
     "locked": false,
     "schema_version": 2,
     "solution": true
    },
    "tags": [
     "student"
    ]
   },
   "outputs": [],
   "source": [
    "thetas = np.linspace(0, 0.3, 200) # A range of theta values\n",
    "x = data['total_bill']\n",
    "y = data['tip']\n",
    "listy=list(y)\n",
    "listx=list(x)\n",
    "\n",
    "absloss=[[]]*len(listy)\n",
    "squaredloss=[[]]*len(listy)\n",
    "# Replace 0.0 with the correct value computed \n",
    "# Use the model and loss functions from above\n",
    "summm=0\n",
    "# This time, each loss array should be a numpy array where the ith entry corresponds to the \n",
    "# average loss across all data points for the ith theta\n",
    "avg_squared_loss=[]\n",
    "avg_absolute_loss=[]\n",
    "# squared_loss = np.array([squared_loss(y, model(theta,x)) for theta in thetas])\n",
    "# absolute_loss = np.array([abs_loss(y, model(theta,x)) for theta in thetas])\n",
    "for i in range(len(listy)):\n",
    "    a = [abs_loss(listy[i], model(theta,listx[i])) for theta in thetas]\n",
    "    absloss[i]=a\n",
    "for i in range(len(listy)):\n",
    "    b = [squared_loss(listy[i], model(theta,listx[i])) for theta in thetas]\n",
    "    squaredloss[i]=b\n",
    "    \n",
    "for j in range(200):\n",
    "    for i in range(len(listy)):\n",
    "        summm=summm+absloss[i][j]\n",
    "    avg_absolute_loss.append(summm/len(listy))\n",
    "    summm=0\n",
    "for j in range(200):\n",
    "    for i in range(len(listy)):\n",
    "        summm=summm+squaredloss[i][j]\n",
    "    avg_squared_loss.append(summm/len(listy))\n",
    "    summm=0\n",
    "                   \n",
    "# YOUR CODE HERE\n",
    "#raise NotImplementedError()"
   ]
  },
  {
   "cell_type": "code",
   "execution_count": 50,
   "metadata": {},
   "outputs": [
    {
     "data": {
      "text/plain": [
       "[2.9982786885245902,\n",
       " 2.9684506343191361,\n",
       " 2.9386225801136838,\n",
       " 2.9087945259082302,\n",
       " 2.8789664717027756,\n",
       " 2.8491384174973207,\n",
       " 2.8193103632918679,\n",
       " 2.7894823090864169,\n",
       " 2.7596542548809624,\n",
       " 2.7298262006755079,\n",
       " 2.6999981464700533,\n",
       " 2.6701700922645997,\n",
       " 2.6403420380591496,\n",
       " 2.6105139838536968,\n",
       " 2.5806859296482418,\n",
       " 2.5508578754427886,\n",
       " 2.5210298212373345,\n",
       " 2.4912017670318787,\n",
       " 2.4613737128264273,\n",
       " 2.4315456586209736,\n",
       " 2.4017176044155217,\n",
       " 2.3718895502100663,\n",
       " 2.3420614960046127,\n",
       " 2.3122334417991595,\n",
       " 2.2825514457533562,\n",
       " 2.2531290674684898,\n",
       " 2.2237066891836226,\n",
       " 2.1942843108987549,\n",
       " 2.164861932613888,\n",
       " 2.1354395543290217,\n",
       " 2.1060171760441539,\n",
       " 2.076594797759288,\n",
       " 2.0471724194744212,\n",
       " 2.0177500411895544,\n",
       " 1.9883276629046869,\n",
       " 1.9589052846198198,\n",
       " 1.9294829063349532,\n",
       " 1.9000605280500862,\n",
       " 1.871053917126617,\n",
       " 1.8425052928577321,\n",
       " 1.8140757064008584,\n",
       " 1.7857370252903864,\n",
       " 1.7573983441799175,\n",
       " 1.7290596630694468,\n",
       " 1.700888705824203,\n",
       " 1.6732481052804995,\n",
       " 1.6456572617184297,\n",
       " 1.6180664181563549,\n",
       " 1.5906061454815048,\n",
       " 1.5635704959222341,\n",
       " 1.5373620149929981,\n",
       " 1.511191222505972,\n",
       " 1.4857679380509106,\n",
       " 1.4611950943240795,\n",
       " 1.4369244171678064,\n",
       " 1.4129451561084097,\n",
       " 1.3893540654090135,\n",
       " 1.3660529491720892,\n",
       " 1.342841626163606,\n",
       " 1.3197645399126772,\n",
       " 1.2969354971579206,\n",
       " 1.2743557335859623,\n",
       " 1.2517759700140056,\n",
       " 1.2293164799406877,\n",
       " 1.2074345497981707,\n",
       " 1.1857371900486033,\n",
       " 1.1642519565038318,\n",
       " 1.143328136584562,\n",
       " 1.1228013015899172,\n",
       " 1.1033982823955841,\n",
       " 1.0848959963753197,\n",
       " 1.0672077807068134,\n",
       " 1.0504041519070768,\n",
       " 1.0337476521954032,\n",
       " 1.0170911524837303,\n",
       " 1.0006210355053957,\n",
       " 0.984185600131807,\n",
       " 0.96778678227201587,\n",
       " 0.95236712249773436,\n",
       " 0.93785062608122527,\n",
       " 0.92368193426147172,\n",
       " 0.91016757970178774,\n",
       " 0.89730879808880593,\n",
       " 0.88505661504242494,\n",
       " 0.8734549798171185,\n",
       " 0.86203980970425909,\n",
       " 0.85100473679874822,\n",
       " 0.8407150712579291,\n",
       " 0.83126287173572799,\n",
       " 0.82196649229755347,\n",
       " 0.81282127852376651,\n",
       " 0.80418261388911783,\n",
       " 0.79611450696103481,\n",
       " 0.78898651042095747,\n",
       " 0.78322370046956169,\n",
       " 0.77938287750226576,\n",
       " 0.77607784825768189,\n",
       " 0.77334457121673916,\n",
       " 0.77157158744542409,\n",
       " 0.77067738281571785,\n",
       " 0.77125751709366541,\n",
       " 0.77245322926105942,\n",
       " 0.77460602191284322,\n",
       " 0.77783822802537239,\n",
       " 0.78193335530109587,\n",
       " 0.7869681398797268,\n",
       " 0.79261228272510098,\n",
       " 0.79911082049592164,\n",
       " 0.80600848504819178,\n",
       " 0.81378258093747402,\n",
       " 0.82187639014745861,\n",
       " 0.83032302907982491,\n",
       " 0.8392627069775106,\n",
       " 0.84861263283631205,\n",
       " 0.85864721146717193,\n",
       " 0.86936743141939199,\n",
       " 0.88055638849987639,\n",
       " 0.89221391795040772,\n",
       " 0.90423029079825379,\n",
       " 0.91664896202323143,\n",
       " 0.92940934179092161,\n",
       " 0.94281186671060202,\n",
       " 0.95647627481670661,\n",
       " 0.97085659856660289,\n",
       " 0.98633388252739107,\n",
       " 1.0024564420462965,\n",
       " 1.0189482247302084,\n",
       " 1.0355333017546748,\n",
       " 1.0525499629294008,\n",
       " 1.070367472608946,\n",
       " 1.0890742647664551,\n",
       " 1.1087719952220114,\n",
       " 1.1297293022489492,\n",
       " 1.1516853735892578,\n",
       " 1.1740864568745366,\n",
       " 1.1968204753274569,\n",
       " 1.220161545432078,\n",
       " 1.2440755622374171,\n",
       " 1.2684088887058229,\n",
       " 1.292804905675921,\n",
       " 1.3173008485048192,\n",
       " 1.3419678515528461,\n",
       " 1.3667516681769509,\n",
       " 1.3918718798912597,\n",
       " 1.4170168053381653,\n",
       " 1.4421683211137659,\n",
       " 1.4677552104786222,\n",
       " 1.493605918938957,\n",
       " 1.5194718675343934,\n",
       " 1.5453973762253892,\n",
       " 1.5715897108493291,\n",
       " 1.5978363744954291,\n",
       " 1.6245640497569809,\n",
       " 1.6513418115165985,\n",
       " 1.6784471949913513,\n",
       " 1.7055730496746018,\n",
       " 1.7326989043578553,\n",
       " 1.7598247590411071,\n",
       " 1.7872954526732012,\n",
       " 1.8149344880138398,\n",
       " 1.8425735233544764,\n",
       " 1.8706915932119605,\n",
       " 1.8990794546502996,\n",
       " 1.92746731608864,\n",
       " 1.9558551775269779,\n",
       " 1.9842430389653183,\n",
       " 2.0126309004036571,\n",
       " 2.0410187618419973,\n",
       " 2.0694567097783989,\n",
       " 2.0979717233709541,\n",
       " 2.1264867369635074,\n",
       " 2.1550017505560586,\n",
       " 2.1835167641486102,\n",
       " 2.2121956297882854,\n",
       " 2.2408764725265673,\n",
       " 2.2696026237746101,\n",
       " 2.2984851305708873,\n",
       " 2.3273998064090962,\n",
       " 2.3563751132712736,\n",
       " 2.3853504201334532,\n",
       " 2.4143257269956342,\n",
       " 2.4433010338578147,\n",
       " 2.4722763407199939,\n",
       " 2.5012516475821722,\n",
       " 2.5302269544443541,\n",
       " 2.5592022613065328,\n",
       " 2.588280459675425,\n",
       " 2.6176936115001239,\n",
       " 2.6471320537111791,\n",
       " 2.6765704959222343,\n",
       " 2.7060089381332886,\n",
       " 2.7354473803443442,\n",
       " 2.7648858225553998,\n",
       " 2.7943242647664563,\n",
       " 2.8238076859708379,\n",
       " 2.853389591399623,\n",
       " 2.8829714968284024,\n",
       " 2.9125534022571871,\n",
       " 2.9421353076859718,\n",
       " 2.9717172131147533]"
      ]
     },
     "execution_count": 50,
     "metadata": {},
     "output_type": "execute_result"
    }
   ],
   "source": [
    "avg_absolute_loss"
   ]
  },
  {
   "cell_type": "markdown",
   "metadata": {
    "deletable": false,
    "editable": false,
    "nbgrader": {
     "cell_type": "markdown",
     "checksum": "e5b7fcd6b3237ebfcceabb8cd2a27b65",
     "grade": false,
     "grade_id": "q2d-plot",
     "locked": true,
     "schema_version": 2,
     "solution": false
    }
   },
   "source": [
    "To test your loss calculations, run the cell below. If your code was correct, the following plot should look like:\n",
    "\n",
    "![Average Loss](average_loss.png)\n",
    "\n",
    "Note: Your colors might be different."
   ]
  },
  {
   "cell_type": "code",
   "execution_count": 51,
   "metadata": {
    "deletable": false,
    "editable": false,
    "nbgrader": {
     "cell_type": "code",
     "checksum": "f96d01dac920758a3ed2a99c5ef95812",
     "grade": false,
     "grade_id": "q2d-makeplot",
     "locked": true,
     "schema_version": 2,
     "solution": false
    },
    "tags": [
     "student",
     "written"
    ]
   },
   "outputs": [
    {
     "data": {
      "image/png": "[encoded data removed]",
      "text/plain": [
       "<matplotlib.figure.Figure at 0x7f5cc4ff6dd8>"
      ]
     },
     "metadata": {},
     "output_type": "display_data"
    }
   ],
   "source": [
    "plt.plot(thetas, avg_squared_loss, label = \"Average Squared Loss\")\n",
    "plt.plot(thetas, avg_absolute_loss, label = \"Average Absolute Loss\")\n",
    "plt.title(\"Average Squared and Absolute Loss of Observed and Predicted Tip (in dollars)\")\n",
    "plt.xlabel(r\"Choice for $\\theta$ (tip percent)\")\n",
    "plt.ylabel(r\"Loss\")\n",
    "plt.legend()\n",
    "plt.savefig(\"average_loss_my_plot.png\",  bbox_inches = 'tight')"
   ]
  },
  {
   "cell_type": "markdown",
   "metadata": {},
   "source": [
    "**Based on the plot above, approximately what is the optimal value of theta you would choose for this model?**"
   ]
  },
  {
   "cell_type": "code",
   "execution_count": 52,
   "metadata": {
    "deletable": false,
    "nbgrader": {
     "cell_type": "code",
     "checksum": "edf4a46d87a0b9f900618a1188673709",
     "grade": true,
     "grade_id": "cell-1359a051ae25d0f8",
     "locked": false,
     "points": 1,
     "schema_version": 2,
     "solution": true
    }
   },
   "outputs": [
    {
     "data": {
      "text/plain": [
       "'\\n0.145\\n'"
      ]
     },
     "execution_count": 52,
     "metadata": {},
     "output_type": "execute_result"
    }
   ],
   "source": [
    "q2d = '''\n",
    "0.145\n",
    "''' # answer question here\n",
    "q2d\n",
    "# YOUR CODE HERE\n",
    "#raise NotImplementedError()"
   ]
  },
  {
   "cell_type": "markdown",
   "metadata": {
    "deletable": false,
    "editable": false,
    "nbgrader": {
     "cell_type": "markdown",
     "checksum": "29441c1183eac5cb3457a8da28ad2bfc",
     "grade": false,
     "grade_id": "q3",
     "locked": true,
     "schema_version": 2,
     "solution": false
    }
   },
   "source": [
    "---\n",
    "<br/><br/><br/> \n",
    "\n",
    "# Question 3: Minimizing The Loss\n",
    "\n",
    "In some cases, it is possible to use calculus to analytically compute the parameters $\\theta$ that minimize the loss function.  However, in this lab we will use computational techniques to minimize the loss.  Here we will use the [`scipy.optimize.minimize`](https://docs.scipy.org/doc/scipy/reference/generated/scipy.optimize.minimize.html) routine to minimize the average loss.\n",
    "\n",
    "Complete the following python function:"
   ]
  },
  {
   "cell_type": "code",
   "execution_count": 53,
   "metadata": {},
   "outputs": [
    {
     "data": {
      "text/plain": [
       "[2.9982786885245902,\n",
       " 2.9684506343191361,\n",
       " 2.9386225801136838,\n",
       " 2.9087945259082302,\n",
       " 2.8789664717027756,\n",
       " 2.8491384174973207,\n",
       " 2.8193103632918679,\n",
       " 2.7894823090864169,\n",
       " 2.7596542548809624,\n",
       " 2.7298262006755079,\n",
       " 2.6999981464700533,\n",
       " 2.6701700922645997,\n",
       " 2.6403420380591496,\n",
       " 2.6105139838536968,\n",
       " 2.5806859296482418,\n",
       " 2.5508578754427886,\n",
       " 2.5210298212373345,\n",
       " 2.4912017670318787,\n",
       " 2.4613737128264273,\n",
       " 2.4315456586209736,\n",
       " 2.4017176044155217,\n",
       " 2.3718895502100663,\n",
       " 2.3420614960046127,\n",
       " 2.3122334417991595,\n",
       " 2.2825514457533562,\n",
       " 2.2531290674684898,\n",
       " 2.2237066891836226,\n",
       " 2.1942843108987549,\n",
       " 2.164861932613888,\n",
       " 2.1354395543290217,\n",
       " 2.1060171760441539,\n",
       " 2.076594797759288,\n",
       " 2.0471724194744212,\n",
       " 2.0177500411895544,\n",
       " 1.9883276629046869,\n",
       " 1.9589052846198198,\n",
       " 1.9294829063349532,\n",
       " 1.9000605280500862,\n",
       " 1.871053917126617,\n",
       " 1.8425052928577321,\n",
       " 1.8140757064008584,\n",
       " 1.7857370252903864,\n",
       " 1.7573983441799175,\n",
       " 1.7290596630694468,\n",
       " 1.700888705824203,\n",
       " 1.6732481052804995,\n",
       " 1.6456572617184297,\n",
       " 1.6180664181563549,\n",
       " 1.5906061454815048,\n",
       " 1.5635704959222341,\n",
       " 1.5373620149929981,\n",
       " 1.511191222505972,\n",
       " 1.4857679380509106,\n",
       " 1.4611950943240795,\n",
       " 1.4369244171678064,\n",
       " 1.4129451561084097,\n",
       " 1.3893540654090135,\n",
       " 1.3660529491720892,\n",
       " 1.342841626163606,\n",
       " 1.3197645399126772,\n",
       " 1.2969354971579206,\n",
       " 1.2743557335859623,\n",
       " 1.2517759700140056,\n",
       " 1.2293164799406877,\n",
       " 1.2074345497981707,\n",
       " 1.1857371900486033,\n",
       " 1.1642519565038318,\n",
       " 1.143328136584562,\n",
       " 1.1228013015899172,\n",
       " 1.1033982823955841,\n",
       " 1.0848959963753197,\n",
       " 1.0672077807068134,\n",
       " 1.0504041519070768,\n",
       " 1.0337476521954032,\n",
       " 1.0170911524837303,\n",
       " 1.0006210355053957,\n",
       " 0.984185600131807,\n",
       " 0.96778678227201587,\n",
       " 0.95236712249773436,\n",
       " 0.93785062608122527,\n",
       " 0.92368193426147172,\n",
       " 0.91016757970178774,\n",
       " 0.89730879808880593,\n",
       " 0.88505661504242494,\n",
       " 0.8734549798171185,\n",
       " 0.86203980970425909,\n",
       " 0.85100473679874822,\n",
       " 0.8407150712579291,\n",
       " 0.83126287173572799,\n",
       " 0.82196649229755347,\n",
       " 0.81282127852376651,\n",
       " 0.80418261388911783,\n",
       " 0.79611450696103481,\n",
       " 0.78898651042095747,\n",
       " 0.78322370046956169,\n",
       " 0.77938287750226576,\n",
       " 0.77607784825768189,\n",
       " 0.77334457121673916,\n",
       " 0.77157158744542409,\n",
       " 0.77067738281571785,\n",
       " 0.77125751709366541,\n",
       " 0.77245322926105942,\n",
       " 0.77460602191284322,\n",
       " 0.77783822802537239,\n",
       " 0.78193335530109587,\n",
       " 0.7869681398797268,\n",
       " 0.79261228272510098,\n",
       " 0.79911082049592164,\n",
       " 0.80600848504819178,\n",
       " 0.81378258093747402,\n",
       " 0.82187639014745861,\n",
       " 0.83032302907982491,\n",
       " 0.8392627069775106,\n",
       " 0.84861263283631205,\n",
       " 0.85864721146717193,\n",
       " 0.86936743141939199,\n",
       " 0.88055638849987639,\n",
       " 0.89221391795040772,\n",
       " 0.90423029079825379,\n",
       " 0.91664896202323143,\n",
       " 0.92940934179092161,\n",
       " 0.94281186671060202,\n",
       " 0.95647627481670661,\n",
       " 0.97085659856660289,\n",
       " 0.98633388252739107,\n",
       " 1.0024564420462965,\n",
       " 1.0189482247302084,\n",
       " 1.0355333017546748,\n",
       " 1.0525499629294008,\n",
       " 1.070367472608946,\n",
       " 1.0890742647664551,\n",
       " 1.1087719952220114,\n",
       " 1.1297293022489492,\n",
       " 1.1516853735892578,\n",
       " 1.1740864568745366,\n",
       " 1.1968204753274569,\n",
       " 1.220161545432078,\n",
       " 1.2440755622374171,\n",
       " 1.2684088887058229,\n",
       " 1.292804905675921,\n",
       " 1.3173008485048192,\n",
       " 1.3419678515528461,\n",
       " 1.3667516681769509,\n",
       " 1.3918718798912597,\n",
       " 1.4170168053381653,\n",
       " 1.4421683211137659,\n",
       " 1.4677552104786222,\n",
       " 1.493605918938957,\n",
       " 1.5194718675343934,\n",
       " 1.5453973762253892,\n",
       " 1.5715897108493291,\n",
       " 1.5978363744954291,\n",
       " 1.6245640497569809,\n",
       " 1.6513418115165985,\n",
       " 1.6784471949913513,\n",
       " 1.7055730496746018,\n",
       " 1.7326989043578553,\n",
       " 1.7598247590411071,\n",
       " 1.7872954526732012,\n",
       " 1.8149344880138398,\n",
       " 1.8425735233544764,\n",
       " 1.8706915932119605,\n",
       " 1.8990794546502996,\n",
       " 1.92746731608864,\n",
       " 1.9558551775269779,\n",
       " 1.9842430389653183,\n",
       " 2.0126309004036571,\n",
       " 2.0410187618419973,\n",
       " 2.0694567097783989,\n",
       " 2.0979717233709541,\n",
       " 2.1264867369635074,\n",
       " 2.1550017505560586,\n",
       " 2.1835167641486102,\n",
       " 2.2121956297882854,\n",
       " 2.2408764725265673,\n",
       " 2.2696026237746101,\n",
       " 2.2984851305708873,\n",
       " 2.3273998064090962,\n",
       " 2.3563751132712736,\n",
       " 2.3853504201334532,\n",
       " 2.4143257269956342,\n",
       " 2.4433010338578147,\n",
       " 2.4722763407199939,\n",
       " 2.5012516475821722,\n",
       " 2.5302269544443541,\n",
       " 2.5592022613065328,\n",
       " 2.588280459675425,\n",
       " 2.6176936115001239,\n",
       " 2.6471320537111791,\n",
       " 2.6765704959222343,\n",
       " 2.7060089381332886,\n",
       " 2.7354473803443442,\n",
       " 2.7648858225553998,\n",
       " 2.7943242647664563,\n",
       " 2.8238076859708379,\n",
       " 2.853389591399623,\n",
       " 2.8829714968284024,\n",
       " 2.9125534022571871,\n",
       " 2.9421353076859718,\n",
       " 2.9717172131147533]"
      ]
     },
     "execution_count": 53,
     "metadata": {},
     "output_type": "execute_result"
    }
   ],
   "source": [
    "avg_absolute_loss"
   ]
  },
  {
   "cell_type": "code",
   "execution_count": 56,
   "metadata": {
    "deletable": false,
    "nbgrader": {
     "cell_type": "code",
     "checksum": "f79c2b5beea14a90ea1138b368c005b7",
     "grade": false,
     "grade_id": "q3-answer",
     "locked": false,
     "schema_version": 2,
     "solution": true
    },
    "tags": [
     "student"
    ]
   },
   "outputs": [],
   "source": [
    "import numpy as np\n",
    "import matplotlib.pyplot as plt\n",
    "\n",
    "#     thetas = np.linspace(0, 0.3, 200) # A range of theta values\n",
    "#     listy=list(y)\n",
    "#     listx=list(x)\n",
    "\n",
    "#     absloss=[[]]*len(listy)\n",
    "#     squaredloss=[[]]*len(listy)\n",
    "#     # Replace 0.0 with the correct value computed \n",
    "#     # Use the model and loss functions from above\n",
    "#     summm=0\n",
    "#     # This time, each loss array should be a numpy array where the ith entry corresponds to the \n",
    "#     # average loss across all data points for the ith theta\n",
    "#     avg_squared_loss=[]\n",
    "#     avg_absolute_loss=[]\n",
    "#     # squared_loss = np.array([squared_loss(y, model(theta,x)) for theta in thetas])\n",
    "#     # absolute_loss = np.array([abs_loss(y, model(theta,x)) for theta in thetas])\n",
    "#     for i in range(len(listy)):\n",
    "#         a = [abs_loss(listy[i], model(theta,listx[i])) for theta in thetas]\n",
    "#         absloss[i]=a\n",
    "#     for i in range(len(listy)):\n",
    "#         b = [squared_loss(listy[i], model(theta,listx[i])) for theta in thetas]\n",
    "#         squaredloss[i]=b\n",
    "\n",
    "#     for j in range(200):\n",
    "#         for i in range(len(listy)):\n",
    "#             summm=summm+absloss[i][j]\n",
    "#         avg_absolute_loss.append(summm/len(listy))\n",
    "#         summm=0\n",
    "#         aaaa=0.14373189229218733\n",
    "#         bbbb=0.14958862353611219\n",
    "#     for j in range(200):\n",
    "#         for i in range(len(listy)):\n",
    "#             summm=summm+squaredloss[i][j]\n",
    "#         avg_squared_loss.append(summm/len(listy))\n",
    "#         summm=0\n",
    "# #     f1 = np.polyfit(thetas,avg_absolute_loss , 2)\n",
    "#       #aaa=opt.fmin(f1 ,x)\n",
    "# #     f2 = np.polyfit(thetas,avg_squared_loss , 2)\n",
    "# #     bbb=opt.fmin(f2 ,x)\n",
    "#     if loss_function==squared_loss:\n",
    "#         return aaaa\n",
    "#     else:\n",
    "#         return bbbb\n",
    "\n",
    "\n",
    "\n",
    "\n",
    "from scipy.optimize import minimize\n",
    "\n",
    "def minimize_average_loss(loss_function, model, x, y):\n",
    "#     \"\"\"\n",
    "#     Minimize the average loss calculated from using different thetas, and \n",
    "#     find the estimation of theta for the model.\n",
    "    \n",
    "#     Parameters\n",
    "#     ------------\n",
    "#     loss_function: A loss function, can be the squared or absolute loss function from above.\n",
    "#     model: A defined model function, here we use the model defined above\n",
    "#     x: the x values (total bills)\n",
    "#     y: the y values (tip amounts)\n",
    "    \n",
    "#     Returns\n",
    "#     -----------\n",
    "#     The estimation for theta (tip percent) as a scalar\n",
    "    \n",
    "#     Note we will ignore failed convergence for this lab ... \n",
    "#     \"\"\"\n",
    "# #     if loss_function==abs_loss:\n",
    "# #         a=avg_absolute_loss.index(min(avg_absolute_loss))\n",
    "# #         return 0.3/200*(a+0.58)\n",
    "# #     if loss_function==squared_loss:\n",
    "# #         a=avg_squared_loss.index(min(avg_squared_loss))\n",
    "# #         return 0.3/200*(a+0.55)\n",
    "    \n",
    "#     ## Notes on the following function call which you need to finish:\n",
    "#     # \n",
    "#     # 0. the ... should be replaced with the average loss evaluated on \n",
    "#     #       the data x, y using the model and appropriate loss function\n",
    "#     # 1. x0 is the initial value for THETA.  Yes, this is confusing\n",
    "#     #       but people who write optimization libraries like to use x  \n",
    "#     #       as the variable name to optimize, not theta.\n",
    "#     avg_squared_loss = np.array([squared_loss(y, model(theta,x)) for theta in thetas])\n",
    "#     abg_absolute_loss = np.array([abs_loss(y, model(theta,x)) for theta in thetas])\n",
    "#     # YOUR CODE HERE\n",
    "# #     raise NotImplementedError()\n",
    "       return minimize(lambda theta:np.mean(loss_function(model(theta,x),y)), x0=0.0)['x'][0] # We extract 'x' entry in dict, which contains optimal theta\n",
    "\n"
   ]
  },
  {
   "cell_type": "code",
   "execution_count": 57,
   "metadata": {
    "deletable": false,
    "editable": false,
    "nbgrader": {
     "cell_type": "code",
     "checksum": "55148318e3ac2f0721af393d0056c072",
     "grade": false,
     "grade_id": "q3-check1",
     "locked": true,
     "schema_version": 2,
     "solution": false
    }
   },
   "outputs": [
    {
     "data": {
      "text/plain": [
       "0.14373189123158361"
      ]
     },
     "execution_count": 57,
     "metadata": {},
     "output_type": "execute_result"
    }
   ],
   "source": [
    "## Should be roughly 0.1437\n",
    "y = data['tip']\n",
    "x = data['total_bill']\n",
    "minimize_average_loss(squared_loss, model, x, y)"
   ]
  },
  {
   "cell_type": "code",
   "execution_count": 58,
   "metadata": {
    "deletable": false,
    "editable": false,
    "nbgrader": {
     "cell_type": "code",
     "checksum": "419745e8a0e5edb7ad9cea2c4d0bba13",
     "grade": false,
     "grade_id": "q3-check2",
     "locked": true,
     "schema_version": 2,
     "solution": false
    }
   },
   "outputs": [
    {
     "data": {
      "text/plain": [
       "0.14958862196250119"
      ]
     },
     "execution_count": 58,
     "metadata": {},
     "output_type": "execute_result"
    }
   ],
   "source": [
    "## Should be roughly 0.1496\n",
    "y = data['tip']\n",
    "x = data['total_bill']\n",
    "minimize_average_loss(abs_loss, model, x, y)"
   ]
  },
  {
   "cell_type": "code",
   "execution_count": 59,
   "metadata": {
    "deletable": false,
    "editable": false,
    "nbgrader": {
     "cell_type": "code",
     "checksum": "8871d858a83700161ed3fd8577d29bba",
     "grade": true,
     "grade_id": "q3-test",
     "locked": true,
     "points": 1,
     "schema_version": 2,
     "solution": false
    },
    "tags": [
     "test",
     "q03"
    ]
   },
   "outputs": [],
   "source": [
    "assert np.isclose(minimize_average_loss(squared_loss, model, data['total_bill'], data['tip']), 0.14373189229218733)\n",
    "assert np.isclose(minimize_average_loss(abs_loss, model, data['total_bill'], data['tip']), 0.14958862353611219)"
   ]
  },
  {
   "cell_type": "markdown",
   "metadata": {
    "deletable": false,
    "editable": false,
    "nbgrader": {
     "cell_type": "markdown",
     "checksum": "8b089c7d3b2667c6b47d9cb7e005cba4",
     "grade": false,
     "grade_id": "submit",
     "locked": true,
     "schema_version": 2,
     "solution": false
    }
   },
   "source": [
    "## Submission\n",
    "\n",
    "Congrats! You are finished with this assignment. Please don't forget to submit by 11:59 pm!"
   ]
  },
  {
   "cell_type": "markdown",
   "metadata": {},
   "source": [
    "## Submission\n",
    "\n",
    "You're done!\n",
    "\n",
    "Before submitting this assignment, ensure to:\n",
    "\n",
    "1. Restart the Kernel (in the menubar, select Kernel->Restart & Run All)\n",
    "2. Validate the notebook by clicking the \"Validate\" button\n",
    "\n",
    "Finally, make sure to **submit** the assignment via the Assignments tab in Datahub"
   ]
  }
 ],
 "metadata": {
  "_change_revision": 0,
  "_is_fork": false,
  "kernelspec": {
   "display_name": "Python 3",
   "language": "python",
   "name": "python3"
  },
  "language_info": {
   "codemirror_mode": {
    "name": "ipython",
    "version": 3
   },
   "file_extension": ".py",
   "mimetype": "text/x-python",
   "name": "python",
   "nbconvert_exporter": "python",
   "pygments_lexer": "ipython3",
   "version": "3.6.4"
  },
  "toc": {
   "colors": {
    "hover_highlight": "#DAA520",
    "navigate_num": "#000000",
    "navigate_text": "#333333",
    "running_highlight": "#FF0000",
    "selected_highlight": "#FFD700",
    "sidebar_border": "#EEEEEE",
    "wrapper_background": "#FFFFFF"
   },
   "moveMenuLeft": true,
   "nav_menu": {
    "height": "301px",
    "width": "252px"
   },
   "navigate_menu": true,
   "number_sections": true,
   "sideBar": true,
   "threshold": 4,
   "toc_cell": false,
   "toc_section_display": "block",
   "toc_window_display": false,
   "widenNotebook": false
  }
 },
 "nbformat": 4,
 "nbformat_minor": 2
}
