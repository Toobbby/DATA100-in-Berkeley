{
 "cells": [
  {
   "cell_type": "markdown",
   "metadata": {},
   "source": [
    "Before you turn this problem in, make sure everything runs as expected. First, **restart the kernel** (in the menubar, select Kernel$\\rightarrow$Restart) and then **run all cells** (in the menubar, select Cell$\\rightarrow$Run All).\n",
    "\n",
    "Make sure you fill in any place that says `YOUR CODE HERE` or \"YOUR ANSWER HERE\", as well as your name and collaborators below:"
   ]
  },
  {
   "cell_type": "code",
   "execution_count": 1,
   "metadata": {},
   "outputs": [],
   "source": [
    "NAME = \"Fangzheng Guo\"\n",
    "COLLABORATORS = \"\""
   ]
  },
  {
   "cell_type": "markdown",
   "metadata": {},
   "source": [
    "---"
   ]
  },
  {
   "cell_type": "markdown",
   "metadata": {
    "deletable": false,
    "editable": false,
    "nbgrader": {
     "cell_type": "markdown",
     "checksum": "858362bec7378a620d77d8f8a0ca0c5b",
     "grade": false,
     "grade_id": "intro",
     "locked": true,
     "schema_version": 2,
     "solution": false
    }
   },
   "source": [
    "# Lab 10: Use Bootstrap to Estimate Mean and Variance\n",
    "\n",
    "**Collaboration Policy**\n",
    "\n",
    "Data science is a collaborative activity. While you may talk with others about\n",
    "the homework, we ask that you **write your solutions individually**. If you do\n",
    "discuss the assignments with others please **include their names** at the top\n",
    "of your solution.\n",
    "\n",
    "## Due Date\n",
    "\n",
    "This assignment is due at 11:59pm Monday, November 5th.\n",
    "\n",
    "## Introduction\n",
    "\n",
    "In this lab, you will examine the bootstrap in greater detail. The goal is to develop a functional approach to bootstrapping any statistic for any sample.\n"
   ]
  },
  {
   "cell_type": "markdown",
   "metadata": {},
   "source": [
    "## Collaborators  "
   ]
  },
  {
   "cell_type": "markdown",
   "metadata": {},
   "source": [
    "Write names in this cell:"
   ]
  },
  {
   "cell_type": "code",
   "execution_count": 2,
   "metadata": {
    "deletable": false,
    "editable": false,
    "nbgrader": {
     "cell_type": "code",
     "checksum": "e96a07cd3ea17af682d7da5226d85b90",
     "grade": false,
     "grade_id": "setup",
     "locked": true,
     "schema_version": 2,
     "solution": false
    }
   },
   "outputs": [],
   "source": [
    "# Run this cell to set up your notebook\n",
    "\n",
    "import seaborn as sns\n",
    "import csv\n",
    "import numpy as np\n",
    "import pandas as pd\n",
    "import matplotlib.pyplot as plt\n",
    "%matplotlib inline\n",
    "sns.set()\n",
    "\n",
    "from IPython.display import display, Latex, Markdown\n"
   ]
  },
  {
   "cell_type": "code",
   "execution_count": 3,
   "metadata": {},
   "outputs": [],
   "source": [
    "import random"
   ]
  },
  {
   "cell_type": "markdown",
   "metadata": {
    "deletable": false,
    "editable": false,
    "nbgrader": {
     "cell_type": "markdown",
     "checksum": "e7e3e1e1a179f6eb77521aa33cc3f57d",
     "grade": false,
     "grade_id": "bootstrap_description",
     "locked": true,
     "schema_version": 2,
     "solution": false
    }
   },
   "source": [
    "## The Bootstrap Procedure\n",
    "\n",
    "The bootstrap is a very simple process: \n",
    "* Sample with replacement from the original sample (now the **bootstrap population**). These samples are called **bootstrap samples**. We typically take thousands of bootstrap samples (~10,000 is common).\n",
    "* Calculate the statistic of interest for each bootstrap sample. This statistic is called the **bootstrap statistic**, and the empirical distribution of these bootstrap statistics is an approximation to the **sampling distribution** of the bootstrapped statistic.\n",
    "\n",
    "But why bootstrap instead of just calculating the statistic of interest once on the whole sample? \n",
    "\n",
    "Take sample mean estimator as an example. Suppose $\\{x_i\\}$ are samples coming from an unknown distribution. We can use sample mean $\\bar{X} = \\frac{1}{n}\\sum_{i=1}^n x_i$ to estimate the the mean of the population. However, if we obtain another sample set $\\{x_i\\}$, we can get very different results. Therefore, computing the sampling distribution (distribution of the sample mean for all possible sample sets) would be very helpful. From such distribution, we can also obtain the bias of this estimator: $E (\\bar{X}) - \\mu$, and the variance of the estimator: $E[E(\\bar{X})-\\bar{X}]^2$.\n",
    "\n",
    "In order to compute the sampling distribution of $\\bar{X}$, we could directly use sampling methods. But that requires us to obtain several different sets of samples $\\{x_i\\}$ directly from the population. If we have $m$ sets of samples and each set contains $n$ subjects (totaling $m*n$ subjects), we can then use $ \\hat{X} = \\frac{1}{m}\\sum_{j=1}^m \\bar{X_j}$ to approximate $E(\\bar{X})$, and $\\frac{1}{m}\\sum_{j=1}^m (\\hat{X} - \\bar{X_j})^2$ to approximate $E[E(\\bar{X})-\\bar{X}]^2$.\n",
    "\n",
    "However, in reality, this is often unfeasible, and we only have one set of samples (**bootstrap population**). Therefore we can use bootstrap method to resample (sample with replacement) from the **bootstrap population** to obtain $m$ different **bootstrap samples**, each **bootstrap sample** has the same amount of data as in **bootstrap population**.\n",
    "\n",
    "Why do we sample with replacement?\n",
    "Recall that we are trying to mimic the ideal scenario of directly sampling from the original population. In the case where each bootstrap sample has the same amount of data as the bootstrap population, sampling without replacement would cause every bootstrap sample to be identical to the bootstrap population. Even when the bootstrap samples have less samples that the bootstrap population, sampling without replacement would cause the samples to be *based on the original sample*. Instead, sampling with replacement causes our bootstrap samples to be *based on the distribution of the original sample* (which we assume is representative of the original population)."
   ]
  },
  {
   "cell_type": "markdown",
   "metadata": {},
   "source": [
    "## Pre-lab\n",
    "\n",
    "### Question 0\n",
    "\n",
    "Bootstrap samples should have the same amount of data as the bootstrap population when used to estimate the standard error, perform hypothesis testing, or construct confidence intervals. Otherwise, bootstrap samples just need to have an equal (and reasonable) amount of data. Why do you think bootstrap sample size needs to meet this additional restriction for these applications? Hint: look at the standard error formula."
   ]
  },
  {
   "cell_type": "markdown",
   "metadata": {},
   "source": [
    "Your answer in this block:"
   ]
  },
  {
   "cell_type": "markdown",
   "metadata": {},
   "source": [
    "## Lab\n",
    "Your task is to write a generic bootstrap procedure."
   ]
  },
  {
   "cell_type": "markdown",
   "metadata": {
    "deletable": false,
    "editable": false,
    "nbgrader": {
     "cell_type": "markdown",
     "checksum": "fc1f079315890b73d3ccf35e9b128cd6",
     "grade": false,
     "grade_id": "q1_text1",
     "locked": true,
     "schema_version": 2,
     "solution": false
    }
   },
   "source": [
    "### Question 1\n",
    "In today's lab, let's try to use bootstrap method to estimate the distribution of sample mean and sample standard deviation  of our midterm grades. You will be given a noisy sample of grades from this midterm, which is the **bootstrap population**. You should use **sampling with replacement** to resample from this dataset again and again to obtain **bootstrap samples** and compute the **bootstrap statistic**.\n",
    "\n",
    "First, write your own sampling function. The function `simple_resample` samples with replacement from the integers 0 through *n-1* and returns an array of length *n*\n",
    "with the sampled integers. That is, `simple_resample` produces the indices for\n",
    "a single bootstrap replicate from the bootstrap population.\n",
    "\n",
    "Use the `numpy.random.randint` function to do the random sampling. \n"
   ]
  },
  {
   "cell_type": "code",
   "execution_count": 4,
   "metadata": {
    "deletable": false,
    "nbgrader": {
     "cell_type": "code",
     "checksum": "089161661e9a31e9480ae9b0a8c19d8f",
     "grade": false,
     "grade_id": "q1_code",
     "locked": false,
     "schema_version": 2,
     "solution": true
    },
    "tags": [
     "student"
    ]
   },
   "outputs": [
    {
     "data": {
      "text/plain": [
       "array([5, 9, 7, 1, 8, 9, 3, 7, 8, 8])"
      ]
     },
     "execution_count": 4,
     "metadata": {},
     "output_type": "execute_result"
    }
   ],
   "source": [
    "def simple_resample(n):\n",
    "    \"\"\"\n",
    "    Args:\n",
    "        n: an integer\n",
    "        \n",
    "    Returns:\n",
    "        an array of length n of a random sample with replacement of\n",
    "        the integers 0, 1, ..., n-1\n",
    "    \"\"\"\n",
    "    # YOUR CODE HERE\n",
    "    a=np.random.randint(n, size=n)\n",
    "    #raise NotImplementedError()\n",
    "    return a   \n",
    "\n",
    "simple_resample(10)"
   ]
  },
  {
   "cell_type": "markdown",
   "metadata": {
    "deletable": false,
    "editable": false,
    "nbgrader": {
     "cell_type": "markdown",
     "checksum": "5072e7e6e9338abdf4bfa2d77d89194d",
     "grade": false,
     "grade_id": "q1_text2",
     "locked": true,
     "schema_version": 2,
     "solution": false
    }
   },
   "source": [
    "Try your `simple_resample` function on a few cases to see if the sampling looks right."
   ]
  },
  {
   "cell_type": "code",
   "execution_count": 5,
   "metadata": {
    "deletable": false,
    "editable": false,
    "nbgrader": {
     "cell_type": "code",
     "checksum": "eb6ec00361a9e68198e5d5d611c01a04",
     "grade": true,
     "grade_id": "q1_test",
     "locked": true,
     "points": 1,
     "schema_version": 2,
     "solution": false
    },
    "tags": [
     "test",
     "q01"
    ]
   },
   "outputs": [],
   "source": [
    "# chances are less than 5.8 in 10^20 that this test fails when the function is correct\n",
    "assert (sum((42 in simple_resample(1000)) for _ in range(100000)) in range(63230-1500,63230+1500))\n",
    "assert (len(simple_resample(1000)) == 1000)"
   ]
  },
  {
   "cell_type": "markdown",
   "metadata": {
    "deletable": false,
    "editable": false,
    "nbgrader": {
     "cell_type": "markdown",
     "checksum": "92e3334265b1b29e985bb18321d31185",
     "grade": false,
     "grade_id": "q2_text1",
     "locked": true,
     "schema_version": 2,
     "solution": false
    }
   },
   "source": [
    "### Question 2\n",
    "\n",
    "Next let's write the function `bootstrap` which returns an array of length `replicates`, each entry being the `statistic` of interest computed on a bootstrap sample from the `boot_pop` (bootstrap population).\n",
    "\n",
    "In our case, the `statistic` could be the `np.mean` and `np.std` function. And the `resample` could be `simple_resample`. Here we leave them as parameters so that we could switch to other statistic and resample functions.\n",
    "\n",
    "For each bootstrap sample, you should first use `resample` to obtain samples from the `boot_pop`, then compute the statistic of those samples using the `statistic` method, and put it into your result."
   ]
  },
  {
   "cell_type": "code",
   "execution_count": 6,
   "metadata": {
    "deletable": false,
    "nbgrader": {
     "cell_type": "code",
     "checksum": "5423644879fde2fdda3606c35eef401c",
     "grade": false,
     "grade_id": "q2_code1",
     "locked": false,
     "schema_version": 2,
     "solution": true
    },
    "tags": [
     "student"
    ]
   },
   "outputs": [],
   "source": [
    "def bootstrap(boot_pop, statistic, resample, replicates = 1000):\n",
    "    \"\"\"\n",
    "    Args:\n",
    "        boot_pop: an array of shape n x d.\n",
    "        statistic: a function which takes boot_pop and returns a number.\n",
    "        resample: a function which takes n and returns a random sample from the integers [0, n)\n",
    "        replicates: the number of resamples\n",
    "        \n",
    "    Returns:\n",
    "        an array of length replicates, each entry being the statistic computed on a bootstrap sample of the data.\n",
    "    \"\"\"\n",
    "    output=np.zeros(replicates)\n",
    "    n=len(boot_pop)\n",
    "    for i in range(replicates):\n",
    "#         b=resample(n)\n",
    "#         each=[boot_pop[k] for k in b]\n",
    "        #each=np.random.choice(boot_pop,len(boot_pop))\n",
    "       # each=np.array(random.sample(list(boot_pop),n))\n",
    "        output[i]=statistic(boot_pop[resample(n)])\n",
    "    return output"
   ]
  },
  {
   "cell_type": "code",
   "execution_count": 7,
   "metadata": {
    "deletable": false,
    "editable": false,
    "nbgrader": {
     "cell_type": "code",
     "checksum": "9b8486454b3163a4f24fab7b5d06944d",
     "grade": true,
     "grade_id": "q2_test1",
     "locked": true,
     "points": 1,
     "schema_version": 2,
     "solution": false
    },
    "tags": [
     "test",
     "q02"
    ]
   },
   "outputs": [],
   "source": [
    "assert (len(bootstrap(np.ones(10), np.mean, simple_resample)) == 1000)\n",
    "assert (np.all(bootstrap(np.ones(10), np.mean, simple_resample, replicates = 1000) == np.ones(1000)))\n",
    "# chances are less than 3.9 in 10^22 that this test fails when the function is correct\n",
    "assert (sum(bootstrap(np.array([0,1]), np.median, simple_resample, replicates = 10000) == 0.5) in range(5000-500,5000+500))"
   ]
  },
  {
   "cell_type": "markdown",
   "metadata": {
    "deletable": false,
    "editable": false,
    "nbgrader": {
     "cell_type": "markdown",
     "checksum": "6f1a63e0a411e95964f95a996640a9da",
     "grade": false,
     "grade_id": "q2_text2",
     "locked": true,
     "schema_version": 2,
     "solution": false
    }
   },
   "source": [
    "Now let's use the bootstrap function to compute the distribution of the sample mean for the midterm grade.\n",
    "\n",
    "First, let's load the data."
   ]
  },
  {
   "cell_type": "code",
   "execution_count": 8,
   "metadata": {
    "deletable": false,
    "editable": false,
    "nbgrader": {
     "cell_type": "code",
     "checksum": "9da05139f55af67c1fa4640e8f4b749a",
     "grade": false,
     "grade_id": "q2_setup",
     "locked": true,
     "schema_version": 2,
     "solution": false
    }
   },
   "outputs": [
    {
     "data": {
      "text/html": [
       "<div>\n",
       "<style scoped>\n",
       "    .dataframe tbody tr th:only-of-type {\n",
       "        vertical-align: middle;\n",
       "    }\n",
       "\n",
       "    .dataframe tbody tr th {\n",
       "        vertical-align: top;\n",
       "    }\n",
       "\n",
       "    .dataframe thead th {\n",
       "        text-align: right;\n",
       "    }\n",
       "</style>\n",
       "<table border=\"1\" class=\"dataframe\">\n",
       "  <thead>\n",
       "    <tr style=\"text-align: right;\">\n",
       "      <th></th>\n",
       "      <th>Grade</th>\n",
       "    </tr>\n",
       "  </thead>\n",
       "  <tbody>\n",
       "    <tr>\n",
       "      <th>0</th>\n",
       "      <td>70.652174</td>\n",
       "    </tr>\n",
       "    <tr>\n",
       "      <th>1</th>\n",
       "      <td>85.418495</td>\n",
       "    </tr>\n",
       "    <tr>\n",
       "      <th>2</th>\n",
       "      <td>84.909697</td>\n",
       "    </tr>\n",
       "    <tr>\n",
       "      <th>3</th>\n",
       "      <td>55.759027</td>\n",
       "    </tr>\n",
       "    <tr>\n",
       "      <th>4</th>\n",
       "      <td>75.008190</td>\n",
       "    </tr>\n",
       "  </tbody>\n",
       "</table>\n",
       "</div>"
      ],
      "text/plain": [
       "       Grade\n",
       "0  70.652174\n",
       "1  85.418495\n",
       "2  84.909697\n",
       "3  55.759027\n",
       "4  75.008190"
      ]
     },
     "execution_count": 8,
     "metadata": {},
     "output_type": "execute_result"
    }
   ],
   "source": [
    "data = pd.read_csv(\"grades_sample.csv\")\n",
    "data.head()"
   ]
  },
  {
   "cell_type": "code",
   "execution_count": 9,
   "metadata": {
    "deletable": false,
    "editable": false,
    "nbgrader": {
     "cell_type": "code",
     "checksum": "1a7196d1647775e3161dd3e4fda9a890",
     "grade": false,
     "grade_id": "q2_setup2",
     "locked": true,
     "schema_version": 2,
     "solution": false
    }
   },
   "outputs": [
    {
     "data": {
      "image/png": "[encoded data removed]",
      "text/plain": [
       "<matplotlib.figure.Figure at 0x7f430d9660b8>"
      ]
     },
     "metadata": {},
     "output_type": "display_data"
    }
   ],
   "source": [
    "sns.distplot(data)\n",
    "plt.vlines(np.mean(data),0,1);"
   ]
  },
  {
   "cell_type": "markdown",
   "metadata": {
    "deletable": false,
    "editable": false,
    "nbgrader": {
     "cell_type": "markdown",
     "checksum": "fafd7ebb711cb0de23223391863d0cf5",
     "grade": false,
     "grade_id": "q2_text3",
     "locked": true,
     "schema_version": 2,
     "solution": false
    }
   },
   "source": [
    "Now use the right parameters to call our `bootstrap` method to obtain the sample mean $\\bar{X}$ for $m$ different bootstrap samples $\\{x_i\\}$. "
   ]
  },
  {
   "cell_type": "code",
   "execution_count": 10,
   "metadata": {
    "deletable": false,
    "nbgrader": {
     "cell_type": "code",
     "checksum": "27f3497ffe848b48966b7680252dd505",
     "grade": false,
     "grade_id": "q2_code2",
     "locked": false,
     "schema_version": 2,
     "solution": true
    }
   },
   "outputs": [],
   "source": [
    "m = 1000  # the number of resamples \n",
    "boot_pop = np.array(data[\"Grade\"])\n",
    "\n",
    "boot_sample_means = bootstrap(boot_pop,np.mean,simple_resample)\n",
    "\n",
    "# YOUR CODE HERE\n",
    "#raise NotImplementedError()"
   ]
  },
  {
   "cell_type": "code",
   "execution_count": 11,
   "metadata": {
    "deletable": false,
    "editable": false,
    "nbgrader": {
     "cell_type": "code",
     "checksum": "2e15dc235ea3319961e8844d08f8b95c",
     "grade": false,
     "grade_id": "q2_plot",
     "locked": true,
     "schema_version": 2,
     "solution": false
    }
   },
   "outputs": [
    {
     "data": {
      "image/png": "[encoded data removed]",
      "text/plain": [
       "<matplotlib.figure.Figure at 0x7f4301832ac8>"
      ]
     },
     "metadata": {},
     "output_type": "display_data"
    }
   ],
   "source": [
    "sns.distplot(boot_sample_means)\n",
    "plt.xlabel(r\"$\\bar{X}$\")\n",
    "plt.ylabel(\"Frequency\");"
   ]
  },
  {
   "cell_type": "code",
   "execution_count": 12,
   "metadata": {
    "deletable": false,
    "editable": false,
    "nbgrader": {
     "cell_type": "code",
     "checksum": "7d40e44d8cfe18f757b5aeccdaac39a7",
     "grade": true,
     "grade_id": "q2_test2",
     "locked": true,
     "points": 1,
     "schema_version": 2,
     "solution": false
    }
   },
   "outputs": [
    {
     "name": "stdout",
     "output_type": "stream",
     "text": [
      "mean of bootstrap mean: 80.4353558121 \n",
      "variance of bootstrap mean: 0.357989928619\n"
     ]
    }
   ],
   "source": [
    "boot_mean_mean = np.mean(boot_sample_means)\n",
    "boot_var_mean = np.var(boot_sample_means)\n",
    "print('mean of bootstrap mean:', boot_mean_mean, '\\nvariance of bootstrap mean:', boot_var_mean)\n",
    "assert len(boot_sample_means) == m\n",
    "assert 80 < boot_mean_mean < 81\n",
    "assert 0.3 < boot_var_mean < 0.5"
   ]
  },
  {
   "cell_type": "markdown",
   "metadata": {
    "deletable": false,
    "editable": false,
    "nbgrader": {
     "cell_type": "markdown",
     "checksum": "926dd41a68a8a83a355d5fc65663637f",
     "grade": false,
     "grade_id": "q2_text4",
     "locked": true,
     "schema_version": 2,
     "solution": false
    }
   },
   "source": [
    "Now use the right parameters to call our `bootstrap` method to obtain the standard deviation $\\sqrt{\\frac{1}{n}\\sum_{i=1}^{n} (x_i-\\bar{X})^2}$ for $m$ different bootstrap samples $\\{x_i\\}$. You should use `np.std`"
   ]
  },
  {
   "cell_type": "code",
   "execution_count": 13,
   "metadata": {
    "deletable": false,
    "nbgrader": {
     "cell_type": "code",
     "checksum": "57e597aeded682851885c8d976c5c7fa",
     "grade": false,
     "grade_id": "q2_code3",
     "locked": false,
     "schema_version": 2,
     "solution": true
    }
   },
   "outputs": [
    {
     "data": {
      "text/plain": [
       "array([  8.26947511,   8.3027015 ,   9.10301844,   8.67760637,\n",
       "         8.84702448,   7.91617196,   9.00771691,   8.30599471,\n",
       "         8.13288243,   9.40401984,   8.77619014,   9.1046434 ,\n",
       "         8.44725076,   8.21487555,   8.84401615,   8.50779386,\n",
       "         9.81839798,   8.20432102,   8.30490881,   7.7425327 ,\n",
       "         9.49895111,   7.84793101,   8.64502699,   8.02009295,\n",
       "         8.49424162,   7.94304574,   8.95706149,   8.76547514,\n",
       "         8.51673749,   8.15069316,   9.71709818,   9.24194598,\n",
       "         9.06017821,   7.56669697,   8.35672797,   8.62033384,\n",
       "         9.00552824,   7.93142438,   9.06980283,   8.645518  ,\n",
       "         8.59978737,   8.30653265,   8.72407661,   8.44240397,\n",
       "         8.28005165,   9.35062063,   8.88248417,   9.27662454,\n",
       "         9.4076486 ,   9.28411322,   8.91235429,   8.12257722,\n",
       "         8.62238359,   8.78254767,   8.69268691,   9.0386078 ,\n",
       "         8.60571948,   9.25228637,   8.83507663,   8.9997401 ,\n",
       "         8.72559311,   9.12528371,   8.00897843,   8.15940038,\n",
       "         9.03601453,   8.77332791,   8.62178235,   8.24708948,\n",
       "         7.87736639,   8.7907723 ,   8.19311383,   8.17823392,\n",
       "         9.22891578,   9.4122301 ,   8.86279175,   8.71265417,\n",
       "         8.23196357,   8.32434899,   8.48269997,   8.71858533,\n",
       "         8.50582885,   8.28534019,   8.33408757,   8.34644403,\n",
       "         7.80901228,   8.15011251,   8.77054958,   7.40796034,\n",
       "        10.05849914,   8.40550745,   9.44768311,   8.3539119 ,\n",
       "         9.06646775,   7.63891512,   9.03285274,   8.77618769,\n",
       "         8.50714576,   8.56264108,   7.81774546,   8.73899731,\n",
       "         8.37708419,   8.1908485 ,   7.83971528,   9.51637309,\n",
       "         9.10152302,   9.10538244,   9.25780509,   7.97776628,\n",
       "         8.42973368,   9.4075876 ,   7.65585854,   8.18994636,\n",
       "         8.48055995,   9.24102123,   8.89156174,   8.81794539,\n",
       "         9.5697952 ,   8.80256157,   8.15428692,   8.37960159,\n",
       "         8.29013861,   8.48670928,   8.37465055,   8.81697202,\n",
       "         9.13340343,   9.48173294,   8.71751864,   9.12978039,\n",
       "         7.662593  ,   8.85279274,   8.5891591 ,   9.32753871,\n",
       "         8.61915615,   8.64519523,   8.73418673,   8.93519398,\n",
       "         8.69252294,   8.27053633,   8.82734364,   8.77116692,\n",
       "         8.4066614 ,   9.46290481,   8.32412819,   8.5937702 ,\n",
       "         9.24032513,   8.5548354 ,   8.15106523,   9.30784132,\n",
       "         8.31584835,   8.09226168,   9.28156797,   8.67218378,\n",
       "         7.94401855,   8.34522906,   8.40123978,   9.48910986,\n",
       "         8.35982824,   7.96731991,   8.25066164,   8.56592553,\n",
       "         8.17536853,   8.07248666,   8.75193424,   8.13020563,\n",
       "         8.92249472,   9.67964867,   8.55074185,   8.45116352,\n",
       "         8.69342828,   8.6181982 ,   9.01589688,   8.80950789,\n",
       "         8.98233531,   8.10150603,   9.34621182,   8.51074885,\n",
       "        10.60033016,   8.4410977 ,   8.65005143,   8.5437121 ,\n",
       "         8.91245464,   9.12832345,   8.53172847,   9.06416217,\n",
       "         8.58725027,   8.25751402,   8.30278891,   7.52542835,\n",
       "         8.99337585,   9.23503798,   8.82288289,   8.72507042,\n",
       "         7.8142008 ,   9.08469355,  10.07573776,   9.06203772,\n",
       "         7.6981293 ,   8.83989549,   8.98624912,   8.90153772,\n",
       "         9.42078032,   9.27910314,   9.34043757,   8.01539631,\n",
       "         9.05868304,   9.24828253,   9.24519848,   8.050602  ,\n",
       "         8.55241618,   8.02673348,   8.23094306,   8.63243617,\n",
       "         8.64213526,   8.67057024,   8.48641165,   9.55808429,\n",
       "         8.91169884,   8.03449275,   9.1658697 ,   8.76659554,\n",
       "         8.77526111,   7.66564941,   8.23276303,   8.87648727,\n",
       "         8.15419291,   8.90557421,   8.67163141,   8.42558268,\n",
       "         7.85699305,   8.67571747,   8.65056307,   8.45797312,\n",
       "         8.44042263,   8.72795975,   9.20487535,   9.1339986 ,\n",
       "         8.73119525,   9.50083082,   8.27610112,   8.88120603,\n",
       "         8.08534837,   8.66036574,   8.20292903,   8.33332882,\n",
       "         8.31266706,   7.9535044 ,   8.7720747 ,   9.03809089,\n",
       "         8.80003087,   9.21988323,   8.50478071,   8.16453901,\n",
       "         8.37476124,   9.16472519,   8.99340249,   7.95250566,\n",
       "         8.91121024,   8.80725684,   7.78979653,   9.59770024,\n",
       "         8.19346757,   8.35243246,   8.50243666,   8.76242453,\n",
       "         9.44483294,   8.97048533,   8.26835684,   9.27821614,\n",
       "         7.83709535,   8.26269495,   8.12186022,   8.0920968 ,\n",
       "         8.29452746,   8.90262853,   8.74034128,   9.0227541 ,\n",
       "         9.13242344,   8.28054555,   8.57780743,   9.18824922,\n",
       "         8.45433414,   8.67994135,   9.04370523,   8.98812558,\n",
       "         8.44289265,   8.47189054,   9.08222199,   8.43297474,\n",
       "         8.66484992,   7.86136805,   8.50983191,   9.02620557,\n",
       "         7.11054165,   8.13787255,   8.38044068,   8.60928559,\n",
       "         7.85748493,   8.46165781,   8.42884513,   9.10644125,\n",
       "         8.91909354,   9.3580854 ,  10.08334841,   8.91100185,\n",
       "         8.5048842 ,   8.69633936,   8.74093094,   8.32043798,\n",
       "         8.24723804,   8.13745863,   8.77204391,  10.16354389,\n",
       "         8.90955695,   8.15190421,   9.07678282,   8.55300747,\n",
       "         8.74043673,   8.3446306 ,   7.91310099,   8.36262785,\n",
       "         8.78741136,   8.59913557,   8.9499492 ,   8.6152142 ,\n",
       "         8.51741802,   8.78595867,   8.74528754,   9.14053956,\n",
       "         8.78572998,   8.88105421,   8.74017156,   8.65155055,\n",
       "         8.86452584,   9.66892654,   7.82996376,   8.42067444,\n",
       "         8.6270772 ,   8.21054814,   9.44151879,   8.52059538,\n",
       "         8.7701581 ,   9.21169961,   9.30516775,   8.53376923,\n",
       "         8.25234974,   9.14781387,   9.14732737,   9.3738049 ,\n",
       "         8.3947577 ,   8.62736226,   8.69836858,   8.25672919,\n",
       "         8.0857543 ,   9.99737827,   8.69118209,   8.65640263,\n",
       "         8.54399447,   8.2287534 ,   8.26829166,   8.90651733,\n",
       "         9.11129116,   8.97165272,   9.00219979,   8.91613924,\n",
       "         9.03248696,   8.72576702,   9.10829421,   7.98636928,\n",
       "         8.52602399,   9.03216554,   8.68489226,   8.06771733,\n",
       "         8.50305688,   8.85890132,   7.54621595,   8.66503608,\n",
       "         8.26399782,   8.11256292,   7.88078513,   9.25515711,\n",
       "         8.8757293 ,   8.93561577,   8.18485202,   8.5548479 ,\n",
       "         8.78523748,   8.38514132,   8.97273774,   9.27874179,\n",
       "         8.41138176,   9.08557942,   8.15795201,   9.14454508,\n",
       "         8.53835209,   8.88064116,   8.90184113,   7.54700099,\n",
       "         8.47227589,   9.4542593 ,   9.6735645 ,   9.23683818,\n",
       "         9.52166382,   8.52814594,   8.25439225,   8.03083017,\n",
       "         9.1249497 ,   9.06037649,   8.60736481,   9.47735915,\n",
       "         9.1928357 ,   8.26363611,   8.38616625,   9.66500184,\n",
       "         9.55522792,   8.30718229,   8.95211514,   9.40890612,\n",
       "         8.83336203,   8.45386781,   8.1901838 ,   8.61246421,\n",
       "         9.04782095,   9.09461388,   8.9666291 ,   9.47841031,\n",
       "         8.57702272,   9.02870907,   8.60978338,   9.11726565,\n",
       "         8.82816662,   7.603821  ,   8.66235634,   8.23337577,\n",
       "         8.00535668,   8.52452086,   9.05780113,   9.38972489,\n",
       "         8.72089849,   8.9637972 ,   8.63334829,   9.1367388 ,\n",
       "         8.835003  ,   9.01870782,   8.5724822 ,   8.3558585 ,\n",
       "         8.05191566,   7.89524906,   7.62760719,   8.74771654,\n",
       "         9.04357117,   8.36450831,   8.60477714,   8.88528736,\n",
       "         8.41286273,   8.87138509,   8.57820794,   9.17040622,\n",
       "         8.24250787,   8.47887959,   8.41348936,   8.38146085,\n",
       "         9.18688674,   8.27450409,   8.47939245,   8.58183267,\n",
       "         9.06882199,   8.25910889,   8.68833831,   7.3928146 ,\n",
       "         7.46898003,   9.83129785,   8.05175097,   8.71971129,\n",
       "         8.8339436 ,   9.30555734,   7.32582502,   9.4869271 ,\n",
       "         8.16405602,   8.34017946,   8.35434556,   8.40054291,\n",
       "         8.47987678,   8.68649783,   8.43210854,   9.20322211,\n",
       "         9.14634811,   8.91201883,   9.58479248,   9.61326906,\n",
       "         8.02184681,   8.81354227,   7.5861184 ,   8.35712691,\n",
       "         9.11483024,   9.19809216,   8.7839163 ,   8.27189542,\n",
       "         7.96324134,   8.53477407,   8.14258911,   8.57949337,\n",
       "         9.53676488,   9.87084062,   8.98345217,   8.47171507,\n",
       "         9.53124976,   8.32963986,   8.91222757,   8.23865623,\n",
       "         8.62457928,   8.60157316,   8.27077921,   8.86156341,\n",
       "         8.61541128,   8.9155514 ,   8.2262371 ,   8.72459601,\n",
       "         8.33376084,   8.79645821,   8.03882007,   8.36484139,\n",
       "         8.16269538,   9.07872748,   8.02822532,   8.43789099,\n",
       "         9.49553591,   9.18436174,   8.94097747,   8.69749983,\n",
       "         8.87296773,   8.0481282 ,   8.69749131,   8.10188479,\n",
       "         9.10762839,   8.35519247,   9.28552104,   8.38610994,\n",
       "         8.34903737,   8.2626819 ,   8.29782579,   9.4246049 ,\n",
       "         8.90248486,   8.07044797,   9.3944352 ,   9.27918159,\n",
       "         8.69685599,   9.23501649,   9.18290678,   9.38537396,\n",
       "         9.03395422,   8.61100389,   8.27733872,   8.9787786 ,\n",
       "         8.45265369,   8.28043381,   8.47332249,   8.50289701,\n",
       "         8.92016447,   8.9810545 ,   8.37979345,   8.87185142,\n",
       "         7.9009451 ,   8.06747503,   8.38565526,   8.85937112,\n",
       "         8.10109777,   8.46518716,   9.26601444,   8.70680247,\n",
       "         9.68284175,   9.06128263,   8.79642705,   9.32240522,\n",
       "         9.50278935,   9.30671621,   9.400189  ,   9.66190813,\n",
       "         9.24716308,   7.37320519,   8.35579785,   8.7874385 ,\n",
       "         8.93516235,   9.39446251,   8.44952089,   8.65810032,\n",
       "         8.88571697,   8.78486076,   8.88216639,   9.18368117,\n",
       "         8.87650586,   9.88510936,   8.64667498,   9.02970664,\n",
       "         9.0278317 ,   9.20565429,   7.87375858,   8.50490804,\n",
       "         9.31425295,   8.48555818,   8.89670561,   8.44645153,\n",
       "         8.19850027,   8.8741587 ,   8.36306107,   9.44381516,\n",
       "         8.31795792,   8.54502133,   8.23855062,   8.75707794,\n",
       "         8.47027245,   8.90804457,   9.09543114,   9.40549555,\n",
       "         8.54025073,   8.5362309 ,   8.57405695,   8.74290555,\n",
       "         8.68261898,   8.3047345 ,   9.31122352,   9.30785299,\n",
       "         8.43933067,   8.77034867,   9.22640723,   8.60348165,\n",
       "         8.27014827,   9.36782267,   8.69438725,   8.65449865,\n",
       "         8.95185266,   8.4327853 ,   7.93270754,   7.99224439,\n",
       "         8.96082687,   9.10013132,   8.79083517,   9.1399625 ,\n",
       "        10.09840815,   8.76002016,   9.10127457,   8.20991386,\n",
       "         7.83201746,   8.55723167,   8.0099274 ,   8.86990825,\n",
       "         8.84207429,   9.46922548,   8.20873774,   8.15909303,\n",
       "         9.2009938 ,   8.74328277,   7.85600979,   8.42484067,\n",
       "         9.29394242,   8.68539694,   7.93627704,   8.59904096,\n",
       "         9.00248172,   8.21884916,   9.23891723,   8.66733021,\n",
       "         9.2626404 ,   8.65390378,   8.47255667,   9.81293473,\n",
       "         8.65877899,   8.99919501,   8.70868819,   8.91560783,\n",
       "         8.91987695,   8.86091122,   7.8198433 ,   9.03186107,\n",
       "         8.86012066,   8.43894528,   8.77682553,   7.66131935,\n",
       "         8.4413557 ,   9.49180641,   8.71902042,   9.44038992,\n",
       "         8.49474093,   9.12889679,   8.82010739,   8.29769893,\n",
       "         8.20148865,   8.45076084,   8.14262666,   8.55556589,\n",
       "         8.30328361,   8.65183312,   9.17295768,   9.28092765,\n",
       "         8.91621437,   9.03365802,   9.27502667,   9.33717646,\n",
       "         9.52304632,   8.59590186,   7.93666584,  10.00291796,\n",
       "         8.61149575,   8.25180913,   9.16816577,   8.90036911,\n",
       "         8.65367346,   7.94155765,   9.15243908,   7.91543974,\n",
       "         8.90739699,   9.59332864,   8.8085969 ,   8.6766973 ,\n",
       "         7.74675806,   8.10851534,   9.85473137,   8.81901415,\n",
       "         8.85392082,   8.89834358,   8.22839481,   8.75622222,\n",
       "         8.23570762,   9.16497147,   8.63555377,   8.17977557,\n",
       "         8.59323961,   8.28959392,   9.21791008,   9.28037767,\n",
       "         7.81444096,   8.24362761,   8.26248204,   8.05903604,\n",
       "         8.55412291,   8.36903782,   9.71049889,   8.84687118,\n",
       "         8.48014912,   9.51807356,   8.29689115,   8.30295998,\n",
       "         8.50913492,   8.58841945,   8.97502438,   8.37832293,\n",
       "         8.40866858,   8.57101337,   9.43788705,   8.68194182,\n",
       "         9.18481212,   8.56682622,   8.77149739,   9.13175292,\n",
       "         9.09423627,   8.30242771,   8.11745432,   9.37334272,\n",
       "         9.82002305,   9.00808823,   9.05460457,   8.94376638,\n",
       "         8.33106474,   8.73253967,   8.88020748,   8.88418187,\n",
       "         8.43538157,   8.37624594,   8.81465567,   8.77312647,\n",
       "         8.16341257,   9.15228333,   9.39722731,   8.03895174,\n",
       "         9.12804903,   9.73829775,   8.21926916,   9.3842817 ,\n",
       "         8.96944298,   9.39227104,   8.12275873,   7.3628763 ,\n",
       "         8.75458372,   9.78340084,   8.54951085,   7.76600268,\n",
       "         8.46158447,   8.30179298,   8.79563781,   8.35014822,\n",
       "         8.92969671,   8.25732937,   8.78067561,   8.22176255,\n",
       "         9.06044718,   8.37547772,   8.21374405,   8.47986837,\n",
       "         8.94891682,   8.44467161,   9.60207815,   8.45553045,\n",
       "         8.52060319,   9.11684771,   8.23155002,   8.54668071,\n",
       "         9.01790962,   8.1433448 ,   8.65872233,   8.9332135 ,\n",
       "         8.87331507,   9.2410249 ,   7.98976019,   7.91187651,\n",
       "         8.36439484,   8.33232932,   9.11613109,   8.91866842,\n",
       "         9.02321806,   7.74140603,   8.64779843,   9.16869743,\n",
       "         7.58769114,   9.65362494,   8.6219099 ,   8.80081429,\n",
       "         8.58394157,   8.52638734,   7.85328339,   8.03889948,\n",
       "         9.24477284,   9.11759678,   7.51784283,   9.01459658,\n",
       "         8.10898252,   8.393035  ,   9.4195962 ,   8.27054423,\n",
       "         7.83315831,   8.86185775,   8.21953106,   9.01588322,\n",
       "         8.9463713 ,   8.83292053,   9.28364819,   9.23249528,\n",
       "         8.48357612,   7.55158979,   8.94255555,   9.45227044,\n",
       "         8.44722359,   8.74569439,   9.09396244,   8.76711995,\n",
       "         8.22798271,   8.81145825,   9.21287301,   8.07650178,\n",
       "         8.74793846,   9.54597307,   8.83966093,   7.71448039,\n",
       "         8.50895958,   8.60738893,   8.90661238,   7.95376733,\n",
       "         8.63969789,   8.37270437,   8.53476367,   9.08980922,\n",
       "         9.47703445,   9.17684465,   9.35535182,   8.72028809,\n",
       "         8.05658273,   9.11905859,   8.40548871,   8.42684982,\n",
       "         9.0572929 ,   9.64480357,   7.83907828,   9.1790284 ,\n",
       "         8.81360991,   8.92825593,   9.37611998,   8.6937916 ,\n",
       "         8.72175826,   8.35346701,   7.84523775,   8.72394532,\n",
       "         8.72627293,   8.45164961,   9.20945011,   9.30021841,\n",
       "         8.91443384,   8.56059185,   8.84653149,   8.80688414,\n",
       "         8.88835022,   8.63905384,   8.9265584 ,   8.25123737,\n",
       "         7.8350479 ,   9.50130306,   9.32180343,   8.80365075,\n",
       "         8.80019114,   9.15366873,   7.46974001,   7.89365218,\n",
       "         7.88392008,   7.68232049,   8.71190069,   8.28755629,\n",
       "         8.59287682,   8.01647373,   8.68474232,   7.87520262,\n",
       "         8.71347163,   8.49277906,   8.46632239,   8.53725144,\n",
       "         8.44723804,   7.95652251,   8.41498655,   9.02738178,\n",
       "         8.96681346,   9.63858381,   8.45859852,   8.4049644 ,\n",
       "         8.61686245,   8.67972226,   8.068759  ,   8.39909455,\n",
       "         8.53858017,   9.65525374,   9.19127715,   8.51859425,\n",
       "         8.1522007 ,   8.54396389,   9.2091727 ,   9.50480265,\n",
       "         8.65691206,   8.38345251,   9.2178849 ,   8.31079133,\n",
       "         8.52825218,   8.61803718,   8.06634396,   8.84191525,\n",
       "         8.04540242,   9.34374305,   7.92431354,   7.90231695,\n",
       "         7.88767165,   9.79784155,   9.11087833,   8.89336599,\n",
       "         9.30450314,   8.37458775,   8.64241111,   8.39794954,\n",
       "         9.94642647,   8.81747982,   7.98362356,   9.03615815,\n",
       "         8.34271655,   8.41292597,   9.10460538,   8.38731159,\n",
       "         8.11252012,   7.62295766,   8.14981657,   8.39478454,\n",
       "         9.01041024,   8.58149637,   8.39650966,   8.07914872,\n",
       "         8.68174266,   8.79389615,   9.88875366,   8.94503526,\n",
       "         8.23312353,   8.12882556,   8.7612608 ,   8.49283147,\n",
       "         8.90809118,   8.54525361,   8.49126811,   9.08490489,\n",
       "         8.53426418,   8.52952524,   8.34354117,   9.35091094,\n",
       "         8.19692127,   9.01300636,   9.65606985,   9.6334055 ,\n",
       "         7.77597267,   9.51862716,   8.68519072,   8.57425415])"
      ]
     },
     "execution_count": 13,
     "metadata": {},
     "output_type": "execute_result"
    }
   ],
   "source": [
    "m = 1000\n",
    "boot_pop = np.array(data[\"Grade\"])\n",
    "boot_sample_std = bootstrap(boot_pop,np.std,simple_resample)\n",
    "boot_sample_std\n",
    "# YOUR CODE HERE\n",
    "#raise NotImplementedError()"
   ]
  },
  {
   "cell_type": "code",
   "execution_count": 14,
   "metadata": {
    "deletable": false,
    "editable": false,
    "nbgrader": {
     "cell_type": "code",
     "checksum": "ddafec3af86519b3f4cb5cf5b2fbd197",
     "grade": true,
     "grade_id": "q2_test3",
     "locked": true,
     "points": 1,
     "schema_version": 2,
     "solution": false
    }
   },
   "outputs": [
    {
     "name": "stdout",
     "output_type": "stream",
     "text": [
      "mean of bootstrap std: 8.68254815098 \n",
      "variance of bootstrap std: 0.257172297072\n"
     ]
    }
   ],
   "source": [
    "boot_mean_std = np.mean(boot_sample_std)\n",
    "boot_var_std = np.var(boot_sample_std)\n",
    "print('mean of bootstrap std:', boot_mean_std, '\\nvariance of bootstrap std:', boot_var_std)\n",
    "assert len(boot_sample_std) == m\n",
    "assert 7 < boot_mean_std < 10\n",
    "assert 0.23 < boot_var_std < 0.29"
   ]
  },
  {
   "cell_type": "code",
   "execution_count": 15,
   "metadata": {
    "deletable": false,
    "editable": false,
    "nbgrader": {
     "cell_type": "code",
     "checksum": "8639802180d8e6a7c73b26955789a0c3",
     "grade": false,
     "grade_id": "q2_plot2",
     "locked": true,
     "schema_version": 2,
     "solution": false
    }
   },
   "outputs": [
    {
     "data": {
      "image/png": "[encoded data removed]",
      "text/plain": [
       "<matplotlib.figure.Figure at 0x7f43017360b8>"
      ]
     },
     "metadata": {},
     "output_type": "display_data"
    }
   ],
   "source": [
    "sns.distplot(boot_sample_std)\n",
    "plt.xlabel(r\"$STD(X)$\")\n",
    "plt.ylabel(\"Frequency\");"
   ]
  },
  {
   "cell_type": "markdown",
   "metadata": {
    "deletable": false,
    "editable": false,
    "nbgrader": {
     "cell_type": "markdown",
     "checksum": "728347d0f8f3c58bdc78c5ac9ef64676",
     "grade": false,
     "grade_id": "q2_true",
     "locked": true,
     "schema_version": 2,
     "solution": false
    }
   },
   "source": [
    "The true mean for the midterm grade is 80.1, and the standard deviation is 9.20.\n",
    "Compare your results with them."
   ]
  },
  {
   "cell_type": "code",
   "execution_count": 16,
   "metadata": {},
   "outputs": [
    {
     "data": {
      "text/plain": [
       "'\\nthe mean get from bootstrap is 80.47, which is really close to the true value. \\nalso, the estimated std is 8.69, is a little bit smaller than the true value.\\n'"
      ]
     },
     "execution_count": 16,
     "metadata": {},
     "output_type": "execute_result"
    }
   ],
   "source": [
    "'''\n",
    "the mean get from bootstrap is 80.47, which is really close to the true value. \n",
    "also, the estimated std is 8.69, is a little bit smaller than the true value.\n",
    "'''"
   ]
  },
  {
   "cell_type": "markdown",
   "metadata": {
    "deletable": false,
    "editable": false,
    "nbgrader": {
     "cell_type": "markdown",
     "checksum": "61d832f88001fb4cf3d44c4dd96bf647",
     "grade": false,
     "grade_id": "q3_text1",
     "locked": true,
     "schema_version": 2,
     "solution": false
    }
   },
   "source": [
    "### Question 3\n",
    "Now let's use the bootstrap method to analyze an estimator we used in the previous lab. \n",
    "\n",
    "Again, we use following mathematical model to predict Tips from TotalBill:\n",
    "\n",
    "$$\\Large\n",
    "\\texttt{Tip} = \\theta^*  \\times \\texttt{TotalBill}\n",
    "$$\n",
    "\n",
    "This follows the similar intuition that tips are some **unknown** percentage of the total bill.  We will then try to estimate the slope of this relationship which corresponds to the percent tip. Here the parameter $\\theta^*$ represents the true percent tip that we would like to estimate.\n",
    "\n",
    "As we already know, for L2 loss function:\n",
    "$$\\Large\n",
    "L\\left(\\theta, \\mathcal{D}\\right) = \\frac{1}{n} \\sum_{i=1}^n L(m_\\theta(x_i), y_i) = \\frac{1}{n} \\sum_{i=1}^n (\\theta *  x_i - y_i)^2\n",
    "$$\n",
    "\n",
    "Where, $x_i$ is the TotalBill, $y_i$ is the Tips.\n",
    "\n",
    "The optimal $\\theta$ would be:\n",
    "$$\\Large {\\theta} = \\frac{\\sum x_iy_i}{\\sum x_i^2}$$\n",
    "\n",
    "Let's use the bootstrap method to see what's the variance for this estimator.\n"
   ]
  },
  {
   "cell_type": "code",
   "execution_count": 17,
   "metadata": {
    "deletable": false,
    "editable": false,
    "nbgrader": {
     "cell_type": "code",
     "checksum": "8acd66937179f77a7939d65db70c63c2",
     "grade": false,
     "grade_id": "q3_setup1",
     "locked": true,
     "schema_version": 2,
     "solution": false
    }
   },
   "outputs": [
    {
     "data": {
      "text/html": [
       "<div>\n",
       "<style scoped>\n",
       "    .dataframe tbody tr th:only-of-type {\n",
       "        vertical-align: middle;\n",
       "    }\n",
       "\n",
       "    .dataframe tbody tr th {\n",
       "        vertical-align: top;\n",
       "    }\n",
       "\n",
       "    .dataframe thead th {\n",
       "        text-align: right;\n",
       "    }\n",
       "</style>\n",
       "<table border=\"1\" class=\"dataframe\">\n",
       "  <thead>\n",
       "    <tr style=\"text-align: right;\">\n",
       "      <th></th>\n",
       "      <th>total_bill</th>\n",
       "      <th>tip</th>\n",
       "      <th>sex</th>\n",
       "      <th>smoker</th>\n",
       "      <th>day</th>\n",
       "      <th>time</th>\n",
       "      <th>size</th>\n",
       "    </tr>\n",
       "  </thead>\n",
       "  <tbody>\n",
       "    <tr>\n",
       "      <th>0</th>\n",
       "      <td>16.99</td>\n",
       "      <td>1.01</td>\n",
       "      <td>Female</td>\n",
       "      <td>No</td>\n",
       "      <td>Sun</td>\n",
       "      <td>Dinner</td>\n",
       "      <td>2</td>\n",
       "    </tr>\n",
       "    <tr>\n",
       "      <th>1</th>\n",
       "      <td>10.34</td>\n",
       "      <td>1.66</td>\n",
       "      <td>Male</td>\n",
       "      <td>No</td>\n",
       "      <td>Sun</td>\n",
       "      <td>Dinner</td>\n",
       "      <td>3</td>\n",
       "    </tr>\n",
       "    <tr>\n",
       "      <th>2</th>\n",
       "      <td>21.01</td>\n",
       "      <td>3.50</td>\n",
       "      <td>Male</td>\n",
       "      <td>No</td>\n",
       "      <td>Sun</td>\n",
       "      <td>Dinner</td>\n",
       "      <td>3</td>\n",
       "    </tr>\n",
       "    <tr>\n",
       "      <th>3</th>\n",
       "      <td>23.68</td>\n",
       "      <td>3.31</td>\n",
       "      <td>Male</td>\n",
       "      <td>No</td>\n",
       "      <td>Sun</td>\n",
       "      <td>Dinner</td>\n",
       "      <td>2</td>\n",
       "    </tr>\n",
       "    <tr>\n",
       "      <th>4</th>\n",
       "      <td>24.59</td>\n",
       "      <td>3.61</td>\n",
       "      <td>Female</td>\n",
       "      <td>No</td>\n",
       "      <td>Sun</td>\n",
       "      <td>Dinner</td>\n",
       "      <td>4</td>\n",
       "    </tr>\n",
       "  </tbody>\n",
       "</table>\n",
       "</div>"
      ],
      "text/plain": [
       "   total_bill   tip     sex smoker  day    time  size\n",
       "0       16.99  1.01  Female     No  Sun  Dinner     2\n",
       "1       10.34  1.66    Male     No  Sun  Dinner     3\n",
       "2       21.01  3.50    Male     No  Sun  Dinner     3\n",
       "3       23.68  3.31    Male     No  Sun  Dinner     2\n",
       "4       24.59  3.61  Female     No  Sun  Dinner     4"
      ]
     },
     "execution_count": 17,
     "metadata": {},
     "output_type": "execute_result"
    }
   ],
   "source": [
    "data = sns.load_dataset(\"tips\")\n",
    "data.head()"
   ]
  },
  {
   "cell_type": "code",
   "execution_count": 18,
   "metadata": {
    "deletable": false,
    "editable": false,
    "nbgrader": {
     "cell_type": "code",
     "checksum": "73b30cf093ee9e90ff2951a1ef58fcf1",
     "grade": false,
     "grade_id": "q3_setup2",
     "locked": true,
     "schema_version": 2,
     "solution": false
    }
   },
   "outputs": [
    {
     "data": {
      "image/png": "[encoded data removed]",
      "text/plain": [
       "<matplotlib.figure.Figure at 0x7f4301639470>"
      ]
     },
     "metadata": {},
     "output_type": "display_data"
    }
   ],
   "source": [
    "x = np.array(data[\"total_bill\"])\n",
    "y = np.array(data[\"tip\"])\n",
    "d = np.array((x,y)).transpose()\n",
    "plt.plot(d[:,0],d[:,1],\".\");"
   ]
  },
  {
   "cell_type": "markdown",
   "metadata": {
    "deletable": false,
    "editable": false,
    "nbgrader": {
     "cell_type": "markdown",
     "checksum": "692365253a206b6582c9c80f13d0283a",
     "grade": false,
     "grade_id": "q3_text2",
     "locked": true,
     "schema_version": 2,
     "solution": false
    }
   },
   "source": [
    "Write an estimator function to compute $\\theta$ using the formula:  \n",
    "$$\\large {\\theta} = \\frac{\\sum x_iy_i}{\\sum x_i^2}$$\n",
    "\n",
    "Note that in order to do bootstrap, we need to combine `x`, `y` to into a $n \\times 2$ array `d`. So `d[:,0]` is equivalent with `x` and `d[:,1]` is equivalent with `y`."
   ]
  },
  {
   "cell_type": "code",
   "execution_count": 19,
   "metadata": {
    "deletable": false,
    "nbgrader": {
     "cell_type": "code",
     "checksum": "d9390295ff93f785f8b6b841203b5726",
     "grade": false,
     "grade_id": "q3_code1",
     "locked": false,
     "schema_version": 2,
     "solution": true
    }
   },
   "outputs": [],
   "source": [
    "def estimator(d):\n",
    "    \"\"\"\n",
    "    Args:\n",
    "        d: A n*2 array which contains x and y. d[:,0] would be x, d[:,1] would be y.\n",
    "        \n",
    "    Returns:\n",
    "        The optimal theta for this dataset under L2 loss.\n",
    "    \"\"\"\n",
    "    x=np.array(d[:,0])\n",
    "    y=np.array(d[:,1])\n",
    "    x2=x**2\n",
    "    xy=[i[0]*i[1] for i in zip(x,y)]\n",
    "    # YOUR CODE HERE\n",
    "    return sum(xy)/sum(x2)\n",
    "    "
   ]
  },
  {
   "cell_type": "code",
   "execution_count": 20,
   "metadata": {
    "deletable": false,
    "editable": false,
    "nbgrader": {
     "cell_type": "code",
     "checksum": "d0a03a7c63a0c3894b3d7b11e61e2bf4",
     "grade": true,
     "grade_id": "q3_test1",
     "locked": true,
     "points": 1,
     "schema_version": 2,
     "solution": false
    }
   },
   "outputs": [],
   "source": [
    "assert np.isclose(estimator(d),0.14373189527721666)"
   ]
  },
  {
   "cell_type": "markdown",
   "metadata": {
    "deletable": false,
    "editable": false,
    "nbgrader": {
     "cell_type": "markdown",
     "checksum": "9115a8f6aff142f337851c05913c1b61",
     "grade": false,
     "grade_id": "q3_text3",
     "locked": true,
     "schema_version": 2,
     "solution": false
    }
   },
   "source": [
    "Now let's use our previous `bootstrap` function to obtain different estimated $\\theta$. You should use the `estimator` function as the `statistic` parameter."
   ]
  },
  {
   "cell_type": "code",
   "execution_count": 21,
   "metadata": {
    "deletable": false,
    "nbgrader": {
     "cell_type": "code",
     "checksum": "56e1b5edab6915b5e800d8e523d76321",
     "grade": false,
     "grade_id": "q3_code2",
     "locked": false,
     "schema_version": 2,
     "solution": true
    }
   },
   "outputs": [],
   "source": [
    "replicates = 1000\n",
    "boot_theta = bootstrap(d,estimator,simple_resample,replicates)\n",
    "\n",
    "# YOUR CODE HERE\n",
    "#raise NotImplementedError()\n",
    "    "
   ]
  },
  {
   "cell_type": "code",
   "execution_count": 22,
   "metadata": {
    "deletable": false,
    "editable": false,
    "nbgrader": {
     "cell_type": "code",
     "checksum": "c5630e3810154abeab4a4366f4a46d0d",
     "grade": true,
     "grade_id": "q3_test2",
     "locked": true,
     "points": 1,
     "schema_version": 2,
     "solution": false
    }
   },
   "outputs": [
    {
     "name": "stdout",
     "output_type": "stream",
     "text": [
      "mean of bootstrap theta: 0.14383233132 \n",
      "variance of bootstrap theta: 1.75238210707e-05\n"
     ]
    }
   ],
   "source": [
    "boot_theta_mean = np.mean(boot_theta)\n",
    "boot_theta_var = np.var(boot_theta)\n",
    "print('mean of bootstrap theta:', boot_theta_mean, '\\nvariance of bootstrap theta:', boot_theta_var)\n",
    "assert len(boot_theta) == replicates\n",
    "assert 0.14<=boot_theta_mean<=0.15\n",
    "assert boot_theta_var < 1e-4"
   ]
  },
  {
   "cell_type": "markdown",
   "metadata": {
    "deletable": false,
    "editable": false,
    "nbgrader": {
     "cell_type": "markdown",
     "checksum": "ed841cba660c7abf11720aa70e8738ec",
     "grade": false,
     "grade_id": "q3_text4",
     "locked": true,
     "schema_version": 2,
     "solution": false
    }
   },
   "source": [
    "Finally, let's plot the distribution of `boot_theta`."
   ]
  },
  {
   "cell_type": "code",
   "execution_count": 23,
   "metadata": {
    "deletable": false,
    "editable": false,
    "nbgrader": {
     "cell_type": "code",
     "checksum": "833ca7d0c3645c8ed971328dae07740f",
     "grade": false,
     "grade_id": "q3_plot",
     "locked": true,
     "schema_version": 2,
     "solution": false
    }
   },
   "outputs": [
    {
     "data": {
      "image/png": "[encoded data removed]",
      "text/plain": [
       "<matplotlib.figure.Figure at 0x7f4301639b70>"
      ]
     },
     "metadata": {},
     "output_type": "display_data"
    }
   ],
   "source": [
    "sns.distplot(boot_theta);"
   ]
  },
  {
   "cell_type": "markdown",
   "metadata": {
    "deletable": false,
    "editable": false,
    "nbgrader": {
     "cell_type": "markdown",
     "checksum": "7d38676f303a718aff089714d1458bef",
     "grade": false,
     "grade_id": "solved",
     "locked": true,
     "schema_version": 2,
     "solution": false
    }
   },
   "source": [
    "## Submission\n",
    "\n",
    "Congrats! You are finished with this assignment. Please don't forget to submit by 11:59 pm!"
   ]
  },
  {
   "cell_type": "markdown",
   "metadata": {},
   "source": [
    "## Submission\n",
    "\n",
    "You're done!\n",
    "\n",
    "Before submitting this assignment, ensure to:\n",
    "\n",
    "1. Restart the Kernel (in the menubar, select Kernel->Restart & Run All)\n",
    "2. Validate the notebook by clicking the \"Validate\" button\n",
    "\n",
    "Finally, make sure to **submit** the assignment via the Assignments tab in Datahub"
   ]
  }
 ],
 "metadata": {
  "anaconda-cloud": {},
  "kernelspec": {
   "display_name": "Python 3",
   "language": "python",
   "name": "python3"
  },
  "language_info": {
   "codemirror_mode": {
    "name": "ipython",
    "version": 3
   },
   "file_extension": ".py",
   "mimetype": "text/x-python",
   "name": "python",
   "nbconvert_exporter": "python",
   "pygments_lexer": "ipython3",
   "version": "3.6.4"
  }
 },
 "nbformat": 4,
 "nbformat_minor": 2
}
